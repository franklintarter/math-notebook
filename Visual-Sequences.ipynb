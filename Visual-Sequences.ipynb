{
 "cells": [
  {
   "cell_type": "markdown",
   "metadata": {},
   "source": [
    "# Sequences Visualized – Intuition Mines\n",
    "\n",
    "## From Puzzles to Applications\n",
    "\n",
    "Last time we solved consequetive sums with Gauss's method. Solving something like that may seem like merely puzzle solving. It's cool. It's elegant but is it more than an impressive trick? Is it useful? Where is the application?\n",
    "\n",
    "Applications are what most people are interested in. After finding a new intuition, formula, or procedure it's time to look for applications. This is another endeavour that is both creative and analytical.\n",
    "\n",
    "## Sequences\n",
    "\n",
    "Consecutive sums is a sequence, a pattern that repeats. Sequences and patterns exist everywhere in nature. We relate to these patterns in nature visually, or with other senses. \n",
    "\n",
    "<img src=\"images/flower-2.jpg\" height=\"250\" width=\"250\">\n",
    "\n",
    "<span stype=\"font-size: 6px;\">Photo by <a href=\"https://unsplash.com/@studiokiek?utm_source=unsplash&amp;utm_medium=referral&amp;utm_content=creditCopyText\">Kiki Siepel</a></span>\n",
    "\n",
    "Looking at lists of numbers is doesn't yield the same intuition that a visual representation of the sequence might. We're after more intution so that we can find applications. We are going to draw visualizations in the hopes of finding more intuition. Think of the visualizations as intuition mines.\n",
    "\n",
    "Drawing by hand with paper and pencil is ideal. But since we're in a digital notebook, we'll use code to draw."
   ]
  },
  {
   "cell_type": "markdown",
   "metadata": {},
   "source": [
    "### Import Libraries for Drawing"
   ]
  },
  {
   "cell_type": "code",
   "execution_count": 3,
   "metadata": {},
   "outputs": [],
   "source": [
    "from io import BytesIO\n",
    "\n",
    "import cairo\n",
    "import IPython.display\n",
    "import math"
   ]
  },
  {
   "cell_type": "markdown",
   "metadata": {},
   "source": [
    "## Drawing Units\n",
    "\n",
    "We'll define a function to draw a single unit. Any simple shape will do. We'll use circles."
   ]
  },
  {
   "cell_type": "code",
   "execution_count": 4,
   "metadata": {
    "scrolled": true
   },
   "outputs": [
    {
     "data": {
      "image/svg+xml": [
       "<svg xmlns=\"http://www.w3.org/2000/svg\" xmlns:xlink=\"http://www.w3.org/1999/xlink\" width=\"20pt\" height=\"20pt\" viewBox=\"0 0 20 20\" version=\"1.1\">\n",
       "<g id=\"surface6\">\n",
       "<path style=\"fill:none;stroke-width:0.45;stroke-linecap:butt;stroke-linejoin:miter;stroke:rgb(0%,0%,0%);stroke-opacity:1;stroke-miterlimit:10;\" d=\"M 1.219922 1 C 1.219922 1.293359 0.780078 1.293359 0.780078 1 C 0.780078 0.706641 1.219922 0.706641 1.219922 1 \" transform=\"matrix(10,0,0,10,0,0)\"/>\n",
       "</g>\n",
       "</svg>"
      ],
      "text/plain": [
       "<IPython.core.display.SVG object>"
      ]
     },
     "execution_count": 4,
     "metadata": {},
     "output_type": "execute_result"
    }
   ],
   "source": [
    "def draw_circle(ctx, x, y):\n",
    "    ctx.set_line_width(0.45)\n",
    "    ctx.arc(x, y, 0.22, 0, 2*math.pi)\n",
    "    ctx.stroke()\n",
    "\n",
    "# Test draw_circle\n",
    "svg = BytesIO()\n",
    "with cairo.SVGSurface(svg, 20, 20) as surface:\n",
    "    ctx = cairo.Context(surface)\n",
    "    ctx.scale(10, 10)\n",
    "    draw_circle(ctx, 1, 1)\n",
    "    \n",
    "IPython.display.SVG(data=svg.getvalue())"
   ]
  },
  {
   "cell_type": "markdown",
   "metadata": {},
   "source": [
    "## Draw Part of the Sequence\n",
    "\n",
    "Now we'll define a function to draw one part of the sequence. The first part of the sequence will be a single circle, the second set will be two circles, then three circles, and so on. We'll lay the circles out in a flat row.\n",
    "\n",
    "Looping the range will work well. As we loop we'll use the iterator to offset the x origin of the circle. If we didn't do this, it would draw all the circles in the same place and we'd only see one circle. When we call the function with the 5th number in the sequence we should expect 5 circles in a group."
   ]
  },
  {
   "cell_type": "code",
   "execution_count": 5,
   "metadata": {},
   "outputs": [
    {
     "data": {
      "image/svg+xml": [
       "<svg xmlns=\"http://www.w3.org/2000/svg\" xmlns:xlink=\"http://www.w3.org/1999/xlink\" width=\"100pt\" height=\"20pt\" viewBox=\"0 0 100 20\" version=\"1.1\">\n",
       "<g id=\"surface11\">\n",
       "<path style=\"fill:none;stroke-width:0.45;stroke-linecap:butt;stroke-linejoin:miter;stroke:rgb(0%,0%,0%);stroke-opacity:1;stroke-miterlimit:10;\" d=\"M 1.219922 1 C 1.219922 1.293359 0.780078 1.293359 0.780078 1 C 0.780078 0.706641 1.219922 0.706641 1.219922 1 \" transform=\"matrix(10,0,0,10,0,0)\"/>\n",
       "<path style=\"fill:none;stroke-width:0.45;stroke-linecap:butt;stroke-linejoin:miter;stroke:rgb(0%,0%,0%);stroke-opacity:1;stroke-miterlimit:10;\" d=\"M 2.219922 1 C 2.219922 1.293359 1.780078 1.293359 1.780078 1 C 1.780078 0.706641 2.219922 0.706641 2.219922 1 \" transform=\"matrix(10,0,0,10,0,0)\"/>\n",
       "<path style=\"fill:none;stroke-width:0.45;stroke-linecap:butt;stroke-linejoin:miter;stroke:rgb(0%,0%,0%);stroke-opacity:1;stroke-miterlimit:10;\" d=\"M 3.219922 1 C 3.219922 1.293359 2.780078 1.293359 2.780078 1 C 2.780078 0.706641 3.219922 0.706641 3.219922 1 \" transform=\"matrix(10,0,0,10,0,0)\"/>\n",
       "<path style=\"fill:none;stroke-width:0.45;stroke-linecap:butt;stroke-linejoin:miter;stroke:rgb(0%,0%,0%);stroke-opacity:1;stroke-miterlimit:10;\" d=\"M 4.219922 1 C 4.219922 1.293359 3.780078 1.293359 3.780078 1 C 3.780078 0.706641 4.219922 0.706641 4.219922 1 \" transform=\"matrix(10,0,0,10,0,0)\"/>\n",
       "<path style=\"fill:none;stroke-width:0.45;stroke-linecap:butt;stroke-linejoin:miter;stroke:rgb(0%,0%,0%);stroke-opacity:1;stroke-miterlimit:10;\" d=\"M 5.219922 1 C 5.219922 1.293359 4.780078 1.293359 4.780078 1 C 4.780078 0.706641 5.219922 0.706641 5.219922 1 \" transform=\"matrix(10,0,0,10,0,0)\"/>\n",
       "</g>\n",
       "</svg>"
      ],
      "text/plain": [
       "<IPython.core.display.SVG object>"
      ]
     },
     "execution_count": 5,
     "metadata": {},
     "output_type": "execute_result"
    }
   ],
   "source": [
    "def draw_sequence_part(ctx, number_in_sequence, x_origin, y_origin):\n",
    "    for c in range(number_in_sequence):\n",
    "        x_offset = c\n",
    "        draw_circle(ctx, x_origin + x_offset, y_origin)\n",
    "        \n",
    "# Test draw_sequence_part   \n",
    "svg = BytesIO()\n",
    "with cairo.SVGSurface(svg, 100, 20) as surface:\n",
    "    ctx = cairo.Context(surface)\n",
    "    ctx.scale(10, 10)\n",
    "    draw_sequence_part(ctx, 5, 1, 1)\n",
    "    \n",
    "IPython.display.SVG(data=svg.getvalue())"
   ]
  },
  {
   "cell_type": "markdown",
   "metadata": {},
   "source": [
    "## First Sequence Drawing\n",
    "\n",
    "We've got the low level drawing functions complete. Now the first basic, attempt to draw the sequence. Let's lay all the parts of the sequence flat from left to right, separated by horizontal space.\n",
    "\n",
    "We can accomplish this by looping through `n` and drawing the sequence part each time. As we loop we keep offsetting the x origin to push the sequence parts across horizontal space.\n",
    "\n",
    "The `x_offset` is the trickiest part. We keep adding to it each time we go up the sequence adding the `sequence_part + 1` to make sure the sequence part `x_origin` has some separation from the previous sequence part."
   ]
  },
  {
   "cell_type": "code",
   "execution_count": 7,
   "metadata": {},
   "outputs": [
    {
     "data": {
      "image/svg+xml": [
       "<svg xmlns=\"http://www.w3.org/2000/svg\" xmlns:xlink=\"http://www.w3.org/1999/xlink\" width=\"1000pt\" height=\"20pt\" viewBox=\"0 0 1000 20\" version=\"1.1\">\n",
       "<g id=\"surface21\">\n",
       "<path style=\"fill:none;stroke-width:0.45;stroke-linecap:butt;stroke-linejoin:miter;stroke:rgb(0%,0%,0%);stroke-opacity:1;stroke-miterlimit:10;\" d=\"M 1.219922 1 C 1.219922 1.293359 0.780078 1.293359 0.780078 1 C 0.780078 0.706641 1.219922 0.706641 1.219922 1 \" transform=\"matrix(10,0,0,10,0,0)\"/>\n",
       "<path style=\"fill:none;stroke-width:0.45;stroke-linecap:butt;stroke-linejoin:miter;stroke:rgb(0%,0%,0%);stroke-opacity:1;stroke-miterlimit:10;\" d=\"M 3.219922 1 C 3.219922 1.293359 2.780078 1.293359 2.780078 1 C 2.780078 0.706641 3.219922 0.706641 3.219922 1 \" transform=\"matrix(10,0,0,10,0,0)\"/>\n",
       "<path style=\"fill:none;stroke-width:0.45;stroke-linecap:butt;stroke-linejoin:miter;stroke:rgb(0%,0%,0%);stroke-opacity:1;stroke-miterlimit:10;\" d=\"M 4.219922 1 C 4.219922 1.293359 3.780078 1.293359 3.780078 1 C 3.780078 0.706641 4.219922 0.706641 4.219922 1 \" transform=\"matrix(10,0,0,10,0,0)\"/>\n",
       "<path style=\"fill:none;stroke-width:0.45;stroke-linecap:butt;stroke-linejoin:miter;stroke:rgb(0%,0%,0%);stroke-opacity:1;stroke-miterlimit:10;\" d=\"M 6.219922 1 C 6.219922 1.293359 5.780078 1.293359 5.780078 1 C 5.780078 0.706641 6.219922 0.706641 6.219922 1 \" transform=\"matrix(10,0,0,10,0,0)\"/>\n",
       "<path style=\"fill:none;stroke-width:0.45;stroke-linecap:butt;stroke-linejoin:miter;stroke:rgb(0%,0%,0%);stroke-opacity:1;stroke-miterlimit:10;\" d=\"M 7.219922 1 C 7.219922 1.293359 6.780078 1.293359 6.780078 1 C 6.780078 0.706641 7.219922 0.706641 7.219922 1 \" transform=\"matrix(10,0,0,10,0,0)\"/>\n",
       "<path style=\"fill:none;stroke-width:0.45;stroke-linecap:butt;stroke-linejoin:miter;stroke:rgb(0%,0%,0%);stroke-opacity:1;stroke-miterlimit:10;\" d=\"M 8.219922 1 C 8.219922 1.293359 7.780078 1.293359 7.780078 1 C 7.780078 0.706641 8.219922 0.706641 8.219922 1 \" transform=\"matrix(10,0,0,10,0,0)\"/>\n",
       "<path style=\"fill:none;stroke-width:0.45;stroke-linecap:butt;stroke-linejoin:miter;stroke:rgb(0%,0%,0%);stroke-opacity:1;stroke-miterlimit:10;\" d=\"M 10.219922 1 C 10.219922 1.293359 9.780078 1.293359 9.780078 1 C 9.780078 0.706641 10.219922 0.706641 10.219922 1 \" transform=\"matrix(10,0,0,10,0,0)\"/>\n",
       "<path style=\"fill:none;stroke-width:0.45;stroke-linecap:butt;stroke-linejoin:miter;stroke:rgb(0%,0%,0%);stroke-opacity:1;stroke-miterlimit:10;\" d=\"M 11.219922 1 C 11.219922 1.293359 10.780078 1.293359 10.780078 1 C 10.780078 0.706641 11.219922 0.706641 11.219922 1 \" transform=\"matrix(10,0,0,10,0,0)\"/>\n",
       "<path style=\"fill:none;stroke-width:0.45;stroke-linecap:butt;stroke-linejoin:miter;stroke:rgb(0%,0%,0%);stroke-opacity:1;stroke-miterlimit:10;\" d=\"M 12.219922 1 C 12.219922 1.293359 11.780078 1.293359 11.780078 1 C 11.780078 0.706641 12.219922 0.706641 12.219922 1 \" transform=\"matrix(10,0,0,10,0,0)\"/>\n",
       "<path style=\"fill:none;stroke-width:0.45;stroke-linecap:butt;stroke-linejoin:miter;stroke:rgb(0%,0%,0%);stroke-opacity:1;stroke-miterlimit:10;\" d=\"M 13.219922 1 C 13.219922 1.293359 12.780078 1.293359 12.780078 1 C 12.780078 0.706641 13.219922 0.706641 13.219922 1 \" transform=\"matrix(10,0,0,10,0,0)\"/>\n",
       "<path style=\"fill:none;stroke-width:0.45;stroke-linecap:butt;stroke-linejoin:miter;stroke:rgb(0%,0%,0%);stroke-opacity:1;stroke-miterlimit:10;\" d=\"M 15.219922 1 C 15.219922 1.293359 14.780078 1.293359 14.780078 1 C 14.780078 0.706641 15.219922 0.706641 15.219922 1 \" transform=\"matrix(10,0,0,10,0,0)\"/>\n",
       "<path style=\"fill:none;stroke-width:0.45;stroke-linecap:butt;stroke-linejoin:miter;stroke:rgb(0%,0%,0%);stroke-opacity:1;stroke-miterlimit:10;\" d=\"M 16.219922 1 C 16.219922 1.293359 15.780078 1.293359 15.780078 1 C 15.780078 0.706641 16.219922 0.706641 16.219922 1 \" transform=\"matrix(10,0,0,10,0,0)\"/>\n",
       "<path style=\"fill:none;stroke-width:0.45;stroke-linecap:butt;stroke-linejoin:miter;stroke:rgb(0%,0%,0%);stroke-opacity:1;stroke-miterlimit:10;\" d=\"M 17.219922 1 C 17.219922 1.293359 16.780078 1.293359 16.780078 1 C 16.780078 0.706641 17.219922 0.706641 17.219922 1 \" transform=\"matrix(10,0,0,10,0,0)\"/>\n",
       "<path style=\"fill:none;stroke-width:0.45;stroke-linecap:butt;stroke-linejoin:miter;stroke:rgb(0%,0%,0%);stroke-opacity:1;stroke-miterlimit:10;\" d=\"M 18.219922 1 C 18.219922 1.293359 17.780078 1.293359 17.780078 1 C 17.780078 0.706641 18.219922 0.706641 18.219922 1 \" transform=\"matrix(10,0,0,10,0,0)\"/>\n",
       "<path style=\"fill:none;stroke-width:0.45;stroke-linecap:butt;stroke-linejoin:miter;stroke:rgb(0%,0%,0%);stroke-opacity:1;stroke-miterlimit:10;\" d=\"M 19.219922 1 C 19.219922 1.293359 18.780078 1.293359 18.780078 1 C 18.780078 0.706641 19.219922 0.706641 19.219922 1 \" transform=\"matrix(10,0,0,10,0,0)\"/>\n",
       "</g>\n",
       "</svg>"
      ],
      "text/plain": [
       "<IPython.core.display.SVG object>"
      ]
     },
     "execution_count": 7,
     "metadata": {},
     "output_type": "execute_result"
    }
   ],
   "source": [
    "def draw_consecutive_sums_flat(ctx, n):\n",
    "    x_offset = 1\n",
    "    for sequence_part in range(1, n + 1):\n",
    "        draw_sequence_part(ctx, sequence_part, x_offset, 1)\n",
    "        x_offset += sequence_part + 1\n",
    "        \n",
    "# Test draw_consecutive_sums_flat   \n",
    "svg = BytesIO()\n",
    "with cairo.SVGSurface(svg, 1000, 20) as surface:\n",
    "    ctx = cairo.Context(surface)\n",
    "    ctx.scale(10, 10)\n",
    "    draw_consecutive_sums_flat(ctx, 5)\n",
    "    \n",
    "IPython.display.SVG(data=svg.getvalue())"
   ]
  },
  {
   "cell_type": "markdown",
   "metadata": {},
   "source": [
    "Now we have something drawn. But it doesn't give us much intuition. It more or less looks like the original sequence in math land.\n",
    "\n",
    "```\n",
    "1 + 2 + 3 + 4 + 5\n",
    "```\n",
    "\n",
    "We could make it even look the same if we wrote all the circles as ones.\n",
    "\n",
    "```\n",
    "(1) + (1 + 1) + (1 + 1 + 1) + (1 + 1 + 1 + 1) + (1 + 1 + 1 + 1 + 1)\n",
    "```\n",
    "\n",
    "Not much of an intuition mine. But now we have raw material to try some other drawings."
   ]
  },
  {
   "cell_type": "markdown",
   "metadata": {},
   "source": [
    "## Second Sequence Drawing\n",
    "\n",
    "Let's experiment with how we separate the sequence parts. Rather than push them apart horizontally let's stack vertically.\n",
    "\n",
    "The code is actually simpler than the flat version. `x_offset` is static and we can use the `sequence_part` iterator as the `y_offset`."
   ]
  },
  {
   "cell_type": "code",
   "execution_count": 8,
   "metadata": {},
   "outputs": [
    {
     "data": {
      "image/svg+xml": [
       "<svg xmlns=\"http://www.w3.org/2000/svg\" xmlns:xlink=\"http://www.w3.org/1999/xlink\" width=\"100pt\" height=\"60pt\" viewBox=\"0 0 100 60\" version=\"1.1\">\n",
       "<g id=\"surface26\">\n",
       "<path style=\"fill:none;stroke-width:0.45;stroke-linecap:butt;stroke-linejoin:miter;stroke:rgb(0%,0%,0%);stroke-opacity:1;stroke-miterlimit:10;\" d=\"M 1.219922 1 C 1.219922 1.293359 0.780078 1.293359 0.780078 1 C 0.780078 0.706641 1.219922 0.706641 1.219922 1 \" transform=\"matrix(10,0,0,10,0,0)\"/>\n",
       "<path style=\"fill:none;stroke-width:0.45;stroke-linecap:butt;stroke-linejoin:miter;stroke:rgb(0%,0%,0%);stroke-opacity:1;stroke-miterlimit:10;\" d=\"M 1.219922 2 C 1.219922 2.293359 0.780078 2.293359 0.780078 2 C 0.780078 1.706641 1.219922 1.706641 1.219922 2 \" transform=\"matrix(10,0,0,10,0,0)\"/>\n",
       "<path style=\"fill:none;stroke-width:0.45;stroke-linecap:butt;stroke-linejoin:miter;stroke:rgb(0%,0%,0%);stroke-opacity:1;stroke-miterlimit:10;\" d=\"M 2.219922 2 C 2.219922 2.293359 1.780078 2.293359 1.780078 2 C 1.780078 1.706641 2.219922 1.706641 2.219922 2 \" transform=\"matrix(10,0,0,10,0,0)\"/>\n",
       "<path style=\"fill:none;stroke-width:0.45;stroke-linecap:butt;stroke-linejoin:miter;stroke:rgb(0%,0%,0%);stroke-opacity:1;stroke-miterlimit:10;\" d=\"M 1.219922 3 C 1.219922 3.293359 0.780078 3.293359 0.780078 3 C 0.780078 2.706641 1.219922 2.706641 1.219922 3 \" transform=\"matrix(10,0,0,10,0,0)\"/>\n",
       "<path style=\"fill:none;stroke-width:0.45;stroke-linecap:butt;stroke-linejoin:miter;stroke:rgb(0%,0%,0%);stroke-opacity:1;stroke-miterlimit:10;\" d=\"M 2.219922 3 C 2.219922 3.293359 1.780078 3.293359 1.780078 3 C 1.780078 2.706641 2.219922 2.706641 2.219922 3 \" transform=\"matrix(10,0,0,10,0,0)\"/>\n",
       "<path style=\"fill:none;stroke-width:0.45;stroke-linecap:butt;stroke-linejoin:miter;stroke:rgb(0%,0%,0%);stroke-opacity:1;stroke-miterlimit:10;\" d=\"M 3.219922 3 C 3.219922 3.293359 2.780078 3.293359 2.780078 3 C 2.780078 2.706641 3.219922 2.706641 3.219922 3 \" transform=\"matrix(10,0,0,10,0,0)\"/>\n",
       "<path style=\"fill:none;stroke-width:0.45;stroke-linecap:butt;stroke-linejoin:miter;stroke:rgb(0%,0%,0%);stroke-opacity:1;stroke-miterlimit:10;\" d=\"M 1.219922 4 C 1.219922 4.293359 0.780078 4.293359 0.780078 4 C 0.780078 3.706641 1.219922 3.706641 1.219922 4 \" transform=\"matrix(10,0,0,10,0,0)\"/>\n",
       "<path style=\"fill:none;stroke-width:0.45;stroke-linecap:butt;stroke-linejoin:miter;stroke:rgb(0%,0%,0%);stroke-opacity:1;stroke-miterlimit:10;\" d=\"M 2.219922 4 C 2.219922 4.293359 1.780078 4.293359 1.780078 4 C 1.780078 3.706641 2.219922 3.706641 2.219922 4 \" transform=\"matrix(10,0,0,10,0,0)\"/>\n",
       "<path style=\"fill:none;stroke-width:0.45;stroke-linecap:butt;stroke-linejoin:miter;stroke:rgb(0%,0%,0%);stroke-opacity:1;stroke-miterlimit:10;\" d=\"M 3.219922 4 C 3.219922 4.293359 2.780078 4.293359 2.780078 4 C 2.780078 3.706641 3.219922 3.706641 3.219922 4 \" transform=\"matrix(10,0,0,10,0,0)\"/>\n",
       "<path style=\"fill:none;stroke-width:0.45;stroke-linecap:butt;stroke-linejoin:miter;stroke:rgb(0%,0%,0%);stroke-opacity:1;stroke-miterlimit:10;\" d=\"M 4.219922 4 C 4.219922 4.293359 3.780078 4.293359 3.780078 4 C 3.780078 3.706641 4.219922 3.706641 4.219922 4 \" transform=\"matrix(10,0,0,10,0,0)\"/>\n",
       "<path style=\"fill:none;stroke-width:0.45;stroke-linecap:butt;stroke-linejoin:miter;stroke:rgb(0%,0%,0%);stroke-opacity:1;stroke-miterlimit:10;\" d=\"M 1.219922 5 C 1.219922 5.293359 0.780078 5.293359 0.780078 5 C 0.780078 4.706641 1.219922 4.706641 1.219922 5 \" transform=\"matrix(10,0,0,10,0,0)\"/>\n",
       "<path style=\"fill:none;stroke-width:0.45;stroke-linecap:butt;stroke-linejoin:miter;stroke:rgb(0%,0%,0%);stroke-opacity:1;stroke-miterlimit:10;\" d=\"M 2.219922 5 C 2.219922 5.293359 1.780078 5.293359 1.780078 5 C 1.780078 4.706641 2.219922 4.706641 2.219922 5 \" transform=\"matrix(10,0,0,10,0,0)\"/>\n",
       "<path style=\"fill:none;stroke-width:0.45;stroke-linecap:butt;stroke-linejoin:miter;stroke:rgb(0%,0%,0%);stroke-opacity:1;stroke-miterlimit:10;\" d=\"M 3.219922 5 C 3.219922 5.293359 2.780078 5.293359 2.780078 5 C 2.780078 4.706641 3.219922 4.706641 3.219922 5 \" transform=\"matrix(10,0,0,10,0,0)\"/>\n",
       "<path style=\"fill:none;stroke-width:0.45;stroke-linecap:butt;stroke-linejoin:miter;stroke:rgb(0%,0%,0%);stroke-opacity:1;stroke-miterlimit:10;\" d=\"M 4.219922 5 C 4.219922 5.293359 3.780078 5.293359 3.780078 5 C 3.780078 4.706641 4.219922 4.706641 4.219922 5 \" transform=\"matrix(10,0,0,10,0,0)\"/>\n",
       "<path style=\"fill:none;stroke-width:0.45;stroke-linecap:butt;stroke-linejoin:miter;stroke:rgb(0%,0%,0%);stroke-opacity:1;stroke-miterlimit:10;\" d=\"M 5.219922 5 C 5.219922 5.293359 4.780078 5.293359 4.780078 5 C 4.780078 4.706641 5.219922 4.706641 5.219922 5 \" transform=\"matrix(10,0,0,10,0,0)\"/>\n",
       "</g>\n",
       "</svg>"
      ],
      "text/plain": [
       "<IPython.core.display.SVG object>"
      ]
     },
     "execution_count": 8,
     "metadata": {},
     "output_type": "execute_result"
    }
   ],
   "source": [
    "def draw_consecutive_sums_stacked(ctx, n):\n",
    "    for sequence_part in range(1, n + 1):\n",
    "        y_offset = sequence_part\n",
    "        draw_sequence_part(ctx, sequence_part, 1, y_offset)\n",
    "        \n",
    "# Test draw_consecutive_sums_stacked\n",
    "svg = BytesIO()\n",
    "with cairo.SVGSurface(svg, 100, 60) as surface:\n",
    "    ctx = cairo.Context(surface)\n",
    "    ctx.scale(10, 10)\n",
    "    draw_consecutive_sums_stacked(ctx, 5)\n",
    "    \n",
    "IPython.display.SVG(data=svg.getvalue())"
   ]
  },
  {
   "cell_type": "markdown",
   "metadata": {},
   "source": [
    "Unlike the flat drawing, this visual is ripe for some intuition mining. It resembles several things we see in the real world. It looks like stairs going down. It looks like a steady slope. It looks like a wedge."
   ]
  },
  {
   "cell_type": "markdown",
   "metadata": {},
   "source": [
    "## Third Sequence Drawing\n",
    "\n",
    "With just a little tweaking we could make this look like a triangle. We just need to add some `x_offset`."
   ]
  },
  {
   "cell_type": "code",
   "execution_count": 11,
   "metadata": {},
   "outputs": [
    {
     "data": {
      "image/svg+xml": [
       "<svg xmlns=\"http://www.w3.org/2000/svg\" xmlns:xlink=\"http://www.w3.org/1999/xlink\" width=\"120pt\" height=\"55pt\" viewBox=\"0 0 120 55\" version=\"1.1\">\n",
       "<g id=\"surface41\">\n",
       "<path style=\"fill:none;stroke-width:0.45;stroke-linecap:butt;stroke-linejoin:miter;stroke:rgb(0%,0%,0%);stroke-opacity:1;stroke-miterlimit:10;\" d=\"M 3.469922 1 C 3.469922 1.293359 3.030078 1.293359 3.030078 1 C 3.030078 0.706641 3.469922 0.706641 3.469922 1 \" transform=\"matrix(10,0,0,10,0,0)\"/>\n",
       "<path style=\"fill:none;stroke-width:0.45;stroke-linecap:butt;stroke-linejoin:miter;stroke:rgb(0%,0%,0%);stroke-opacity:1;stroke-miterlimit:10;\" d=\"M 2.969922 2 C 2.969922 2.293359 2.530078 2.293359 2.530078 2 C 2.530078 1.706641 2.969922 1.706641 2.969922 2 \" transform=\"matrix(10,0,0,10,0,0)\"/>\n",
       "<path style=\"fill:none;stroke-width:0.45;stroke-linecap:butt;stroke-linejoin:miter;stroke:rgb(0%,0%,0%);stroke-opacity:1;stroke-miterlimit:10;\" d=\"M 3.969922 2 C 3.969922 2.293359 3.530078 2.293359 3.530078 2 C 3.530078 1.706641 3.969922 1.706641 3.969922 2 \" transform=\"matrix(10,0,0,10,0,0)\"/>\n",
       "<path style=\"fill:none;stroke-width:0.45;stroke-linecap:butt;stroke-linejoin:miter;stroke:rgb(0%,0%,0%);stroke-opacity:1;stroke-miterlimit:10;\" d=\"M 2.469922 3 C 2.469922 3.293359 2.030078 3.293359 2.030078 3 C 2.030078 2.706641 2.469922 2.706641 2.469922 3 \" transform=\"matrix(10,0,0,10,0,0)\"/>\n",
       "<path style=\"fill:none;stroke-width:0.45;stroke-linecap:butt;stroke-linejoin:miter;stroke:rgb(0%,0%,0%);stroke-opacity:1;stroke-miterlimit:10;\" d=\"M 3.469922 3 C 3.469922 3.293359 3.030078 3.293359 3.030078 3 C 3.030078 2.706641 3.469922 2.706641 3.469922 3 \" transform=\"matrix(10,0,0,10,0,0)\"/>\n",
       "<path style=\"fill:none;stroke-width:0.45;stroke-linecap:butt;stroke-linejoin:miter;stroke:rgb(0%,0%,0%);stroke-opacity:1;stroke-miterlimit:10;\" d=\"M 4.469922 3 C 4.469922 3.293359 4.030078 3.293359 4.030078 3 C 4.030078 2.706641 4.469922 2.706641 4.469922 3 \" transform=\"matrix(10,0,0,10,0,0)\"/>\n",
       "<path style=\"fill:none;stroke-width:0.45;stroke-linecap:butt;stroke-linejoin:miter;stroke:rgb(0%,0%,0%);stroke-opacity:1;stroke-miterlimit:10;\" d=\"M 1.969922 4 C 1.969922 4.293359 1.530078 4.293359 1.530078 4 C 1.530078 3.706641 1.969922 3.706641 1.969922 4 \" transform=\"matrix(10,0,0,10,0,0)\"/>\n",
       "<path style=\"fill:none;stroke-width:0.45;stroke-linecap:butt;stroke-linejoin:miter;stroke:rgb(0%,0%,0%);stroke-opacity:1;stroke-miterlimit:10;\" d=\"M 2.969922 4 C 2.969922 4.293359 2.530078 4.293359 2.530078 4 C 2.530078 3.706641 2.969922 3.706641 2.969922 4 \" transform=\"matrix(10,0,0,10,0,0)\"/>\n",
       "<path style=\"fill:none;stroke-width:0.45;stroke-linecap:butt;stroke-linejoin:miter;stroke:rgb(0%,0%,0%);stroke-opacity:1;stroke-miterlimit:10;\" d=\"M 3.969922 4 C 3.969922 4.293359 3.530078 4.293359 3.530078 4 C 3.530078 3.706641 3.969922 3.706641 3.969922 4 \" transform=\"matrix(10,0,0,10,0,0)\"/>\n",
       "<path style=\"fill:none;stroke-width:0.45;stroke-linecap:butt;stroke-linejoin:miter;stroke:rgb(0%,0%,0%);stroke-opacity:1;stroke-miterlimit:10;\" d=\"M 4.969922 4 C 4.969922 4.293359 4.530078 4.293359 4.530078 4 C 4.530078 3.706641 4.969922 3.706641 4.969922 4 \" transform=\"matrix(10,0,0,10,0,0)\"/>\n",
       "<path style=\"fill:none;stroke-width:0.45;stroke-linecap:butt;stroke-linejoin:miter;stroke:rgb(0%,0%,0%);stroke-opacity:1;stroke-miterlimit:10;\" d=\"M 1.469922 5 C 1.469922 5.293359 1.030078 5.293359 1.030078 5 C 1.030078 4.706641 1.469922 4.706641 1.469922 5 \" transform=\"matrix(10,0,0,10,0,0)\"/>\n",
       "<path style=\"fill:none;stroke-width:0.45;stroke-linecap:butt;stroke-linejoin:miter;stroke:rgb(0%,0%,0%);stroke-opacity:1;stroke-miterlimit:10;\" d=\"M 2.469922 5 C 2.469922 5.293359 2.030078 5.293359 2.030078 5 C 2.030078 4.706641 2.469922 4.706641 2.469922 5 \" transform=\"matrix(10,0,0,10,0,0)\"/>\n",
       "<path style=\"fill:none;stroke-width:0.45;stroke-linecap:butt;stroke-linejoin:miter;stroke:rgb(0%,0%,0%);stroke-opacity:1;stroke-miterlimit:10;\" d=\"M 3.469922 5 C 3.469922 5.293359 3.030078 5.293359 3.030078 5 C 3.030078 4.706641 3.469922 4.706641 3.469922 5 \" transform=\"matrix(10,0,0,10,0,0)\"/>\n",
       "<path style=\"fill:none;stroke-width:0.45;stroke-linecap:butt;stroke-linejoin:miter;stroke:rgb(0%,0%,0%);stroke-opacity:1;stroke-miterlimit:10;\" d=\"M 4.469922 5 C 4.469922 5.293359 4.030078 5.293359 4.030078 5 C 4.030078 4.706641 4.469922 4.706641 4.469922 5 \" transform=\"matrix(10,0,0,10,0,0)\"/>\n",
       "<path style=\"fill:none;stroke-width:0.45;stroke-linecap:butt;stroke-linejoin:miter;stroke:rgb(0%,0%,0%);stroke-opacity:1;stroke-miterlimit:10;\" d=\"M 5.469922 5 C 5.469922 5.293359 5.030078 5.293359 5.030078 5 C 5.030078 4.706641 5.469922 4.706641 5.469922 5 \" transform=\"matrix(10,0,0,10,0,0)\"/>\n",
       "</g>\n",
       "</svg>"
      ],
      "text/plain": [
       "<IPython.core.display.SVG object>"
      ]
     },
     "execution_count": 11,
     "metadata": {},
     "output_type": "execute_result"
    }
   ],
   "source": [
    "def draw_triangular_consecutive_sums(ctx, n):\n",
    "    for sequence_part in range(1, n + 1):\n",
    "        y_offset = sequence_part\n",
    "        x_offset = 1 + (n * 0.55) - (sequence_part / 2)\n",
    "        draw_sequence_part(ctx, sequence_part, x_offset, y_offset)\n",
    "        \n",
    "# Test draw_triangular_consecutive_sums\n",
    "svg = BytesIO()\n",
    "with cairo.SVGSurface(svg, 120, 55) as surface:\n",
    "    ctx = cairo.Context(surface)\n",
    "    ctx.scale(10, 10)\n",
    "    draw_triangular_consecutive_sums(ctx, 5)\n",
    "\n",
    "IPython.display.SVG(data=svg.getvalue())"
   ]
  },
  {
   "cell_type": "markdown",
   "metadata": {},
   "source": [
    "## Intuition to Application\n",
    "\n",
    "We could keep going. We could use the sequence to draw circular structures like spirals. We could draw in 3 dimmensions. But we'll stop here for now since we've got some new intuition.\n",
    "\n",
    "We've established that consecutive sums is a sequence that describes real things like stairs and triangles to name a few. Do we have an application yet? Sure. We can now answer the question: How many blocks do you need to create a starway with 10 stairs? You don't have to draw and count. You can plug 10 into Gauss's formula for consecutive numbers.\n",
    "\n",
    "There are other applications more powerful and general than stair calculation. We have a powerful formula to describe triangles! Triangles exist all over the place in nature. More than just physical shapes the concept of \"Triangular Growth\" might be a useful model to apply.\n",
    "\n",
    "Next, we will see how \"Triangular Growth\" is another tool that can be used to find intuition about more complex visual structures. Once we do that we can convert complex visual structures into formulas because they link to triangles. Once we do that we will have gone full circ.e"
   ]
  }
 ],
 "metadata": {
  "kernelspec": {
   "display_name": "Python 3",
   "language": "python",
   "name": "python3"
  },
  "language_info": {
   "codemirror_mode": {
    "name": "ipython",
    "version": 3
   },
   "file_extension": ".py",
   "mimetype": "text/x-python",
   "name": "python",
   "nbconvert_exporter": "python",
   "pygments_lexer": "ipython3",
   "version": "3.9.0"
  }
 },
 "nbformat": 4,
 "nbformat_minor": 4
}

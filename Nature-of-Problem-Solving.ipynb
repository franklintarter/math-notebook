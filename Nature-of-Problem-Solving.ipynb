{
 "cells": [
  {
   "cell_type": "markdown",
   "metadata": {},
   "source": [
    "# The Nature of Problem Solving\n",
    "\n",
    "Many of us shudder when thinking about doing math problems. We remember memorizing formulas and applying them rotely. All for the purpose of passing a test, following a procedure, getting the right answer. It feels dry, sterile\n",
    "\n",
    "If this our memory of the nature of problem solving then we need to unlearn it. There is something better. The true nature of problem solving involves creativity, joy and beauty. It grants powerful tools that help us understand nature. It gives us an escape hatch from the whims of nature that are often harsh.\n",
    "\n",
    "What follows is an attempt to fix our experience with problem solving and reveal its true nature.\n",
    "\n",
    "This series will use basic programming, visuals and math to understand a single problem in depth. From this deep dive we will see that we can mine many tools, intuitions, and ideas from one simple problem."
   ]
  },
  {
   "cell_type": "markdown",
   "metadata": {},
   "source": [
    "## The Problem: Sum of Consecutive Numbers\n",
    "\n",
    "Take the sum of consecutive numbers where *n* is the final and largest number in the sequence. Example `n = 10` would be:\n",
    "\n",
    "```\n",
    "1 + 2 + 3 + 4 + 5 + 6 + 7 + 8 + 9 + 10\n",
    "```\n",
    "\n",
    "With a small *n* we can solve this naively by starting on the left and keeping a running total as we sum all the numbers to the right. If we can recognize that simple procedure, we can get the right answer on the test. But remember we are remaking our idea of problem solving. We don't really care about getting the right answer by following a procedure. We are to become inventors of procedures.\n",
    "\n",
    "We'll call it **brute force sum**. Our final task will be to implement brute force sum as code."
   ]
  },
  {
   "cell_type": "code",
   "execution_count": 9,
   "metadata": {},
   "outputs": [
    {
     "data": {
      "text/plain": [
       "55"
      ]
     },
     "execution_count": 9,
     "metadata": {},
     "output_type": "execute_result"
    }
   ],
   "source": [
    "def consecutive_numbers_brute_force_sum(n):\n",
    "    result = 0\n",
    "    for number in range(n + 1):\n",
    "        result += number\n",
    "    return result\n",
    "\n",
    "consecutive_numbers_brute_force_sum(10)"
   ]
  },
  {
   "cell_type": "markdown",
   "metadata": {},
   "source": [
    "## Code\n",
    "\n",
    "Now we have codified the naive procedure. Note the solution is still the same. If you run `consecutive_numbers_brute_force_sum(10000000)` the computer will do 10 million sum operations. The procedure is inefficient whether a human or a computer does it, the computer just happens to be faster and more accurate."
   ]
  },
  {
   "cell_type": "markdown",
   "metadata": {},
   "source": [
    "## Different Syntax\n",
    "\n",
    "If you're experienced at writing software you might see this procedure could be written in fewer lines of code. Let's try it."
   ]
  },
  {
   "cell_type": "code",
   "execution_count": 10,
   "metadata": {},
   "outputs": [
    {
     "data": {
      "text/plain": [
       "55"
      ]
     },
     "execution_count": 10,
     "metadata": {},
     "output_type": "execute_result"
    }
   ],
   "source": [
    "def consecutive_sum_alt(n):\n",
    "    return sum(range(n + 1))\n",
    "\n",
    "consecutive_sum_alt(10)"
   ]
  },
  {
   "cell_type": "markdown",
   "metadata": {},
   "source": [
    "This code looks more elegant but make no mistake it's still the same brute force sum. Don't confuse the elegance of the Python language with the quality of the solution. Syntactic sugar won't improve the efficiency."
   ]
  },
  {
   "cell_type": "markdown",
   "metadata": {},
   "source": [
    "## Next\n",
    "\n",
    "Our next challenge is to find a procedure that is more efficient than brute force sum. More efficient means either a human or a computer can do the procedure with less work. Finding better solutions is where things get interesting. We can get away from doing lots of work and instead use creativity, pattern recognition and insight."
   ]
  }
 ],
 "metadata": {
  "kernelspec": {
   "display_name": "Python 3",
   "language": "python",
   "name": "python3"
  },
  "language_info": {
   "codemirror_mode": {
    "name": "ipython",
    "version": 3
   },
   "file_extension": ".py",
   "mimetype": "text/x-python",
   "name": "python",
   "nbconvert_exporter": "python",
   "pygments_lexer": "ipython3",
   "version": "3.9.0"
  }
 },
 "nbformat": 4,
 "nbformat_minor": 4
}

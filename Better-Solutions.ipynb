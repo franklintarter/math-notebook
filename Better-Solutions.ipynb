{
 "cells": [
  {
   "cell_type": "markdown",
   "metadata": {},
   "source": [
    "# Better Solutions\n",
    "\n",
    "Time to move beyond brute force and find a better solution. What is the process for finding new solutions? When discovering or inventing anything new there is no absolute path by definition. But there are tools available to spark ideas for new solutions.\n",
    "\n",
    "- Look for patterns\n",
    "- Look for simplifications\n",
    "- Draw a visual representation of the problem\n",
    "- Brute force a few different data sets, look for patterns in the result\n",
    "- Tweak the problem, notice how it changes\n",
    "- Apply knowledge from other problems\n"
   ]
  }
 ],
 "metadata": {
  "kernelspec": {
   "display_name": "Python 3",
   "language": "python",
   "name": "python3"
  },
  "language_info": {
   "codemirror_mode": {
    "name": "ipython",
    "version": 3
   },
   "file_extension": ".py",
   "mimetype": "text/x-python",
   "name": "python",
   "nbconvert_exporter": "python",
   "pygments_lexer": "ipython3",
   "version": "3.9.0"
  }
 },
 "nbformat": 4,
 "nbformat_minor": 4
}

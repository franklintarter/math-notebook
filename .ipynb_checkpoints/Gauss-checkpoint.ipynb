{
 "cells": [
  {
   "cell_type": "markdown",
   "metadata": {},
   "source": [
    "## Sum of Consecutive Numbers\n",
    "\n",
    "Take the sum of consecutive numbers where *n* is the final and largest number in the sequence. Example `n = 10` would be:\n",
    "\n",
    "```\n",
    "1 + 2 + 3 + 4 + 5 + 6 + 7 + 8 + 9 + 10\n",
    "```\n",
    "\n",
    "Let's write code to compute the way it's literally written out, without any intuition, shortcuts, or generalizations."
   ]
  },
  {
   "cell_type": "code",
   "execution_count": 1,
   "metadata": {},
   "outputs": [
    {
     "data": {
      "text/plain": [
       "55"
      ]
     },
     "execution_count": 1,
     "metadata": {},
     "output_type": "execute_result"
    }
   ],
   "source": [
    "def consecutive_sum(n):\n",
    "    result = 0\n",
    "    for number in range(n + 1):\n",
    "        result += number\n",
    "    return result\n",
    "\n",
    "consecutive_sum(10)"
   ]
  },
  {
   "cell_type": "markdown",
   "metadata": {},
   "source": [
    "You might look at that function and say it's not elegant and you could rewrite it like this:"
   ]
  },
  {
   "cell_type": "code",
   "execution_count": 2,
   "metadata": {},
   "outputs": [
    {
     "data": {
      "text/plain": [
       "55"
      ]
     },
     "execution_count": 2,
     "metadata": {},
     "output_type": "execute_result"
    }
   ],
   "source": [
    "def consecutive_sum(n):\n",
    "    return sum(range(n + 1))\n",
    "\n",
    "consecutive_sum(10)"
   ]
  },
  {
   "cell_type": "markdown",
   "metadata": {},
   "source": [
    "This is the same solution. Don't confuse the elegance of the Python language with the quality of the solution. Syntactic sugar won't improve the solution.\n",
    "\n",
    "Either way the procedure must sum each number in the sequence. As *n* gets large the human brain will struggle. As *n* gets very large the computer's performance will be noticeable too. It's not easy to sum up so many numbers."
   ]
  },
  {
   "cell_type": "markdown",
   "metadata": {},
   "source": [
    "## Gauss's Intuition\n",
    "\n",
    "A young mathemetician named Carl Friedrich Gauss had an intuition to sum consecutive numbers. Look at the sequence for a few minutes before reading on. See if your intuition can create a procedure that is easier than the brute force sum function.\n",
    "\n",
    "```\n",
    "1 + 2 + 3 + 4 + 5 + 6 + 7 + 8 + 9 + 10\n",
    "```\n",
    "\n",
    "### Gauss's Procedure\n",
    "\n",
    "Gauss's intuition was to pair up the numbers making them easier to sum. He paired the smallest with the largest, the second-smallest with the second-largest, and so on until all numbers paired.\n",
    "\n",
    "Doing this for `n = 10` would look like this:\n",
    "\n",
    "```\n",
    "(1 + 10) + (2 + 9) + (3 + 8) + (4 + 7) + (5 + 6)\n",
    "```\n",
    "\n",
    "After summing all the pairs, something interesting happens:\n",
    "\n",
    "```\n",
    "11 + 11 + 11 + 11 + 11\n",
    "```\n",
    "\n",
    "The pairs have the same sum. Once you do the first sum `1 + 10` you don't need to sum all the pairs. Instead, count the pairs and write them as a multiple. For `n = 10` there will be 5 pairs of numbers whose sum is 11. Now we have a single multiplication instead of many additions.\n",
    "\n",
    "```\n",
    "5 * 11\n",
    "```\n",
    "\n",
    "### Odd Numbers\n",
    "\n",
    "What if the sequence ends in an odd number? There will be one number without a pair. Let's look at `n = 7`\n",
    "\n",
    "```\n",
    "1 + 2 + 3 + 4 + 5 + 6 + 7\n",
    "```\n",
    "\n",
    "We can pair all the other numbers and leave the number without a pair by itself. In this case, the number without a pair will be 4.\n",
    "\n",
    "```\n",
    "(1 + 7) + (2 + 5) + (3 + 5) + 4\n",
    "```\n",
    "\n",
    "The number without a pair will always be an even number and it will be the middle number in the sequence.\n",
    "\n",
    "Since the sum of the first pair is 8, we can replace all the pairs with 8.\n",
    "\n",
    "```\n",
    "8 + 8 + 8 + 4\n",
    "```\n",
    "\n",
    "Next, convert the paired sums to a multiple.\n",
    "\n",
    "```\n",
    "(3 * 8) + 4\n",
    "```\n",
    "\n",
    "Try following the procedure with a few other samples. Compare it against the result of brute force addition. Once satisfied the procedure is accurate, we can work on generalizing it with a formula.\n",
    "\n",
    "## General Formula\n",
    "\n",
    "Converting the intuition from Gass's procedure into a general formula is where things get interesting.\n",
    "\n",
    "These steps describe the whole procedure no matter how big the sequence is:\n",
    "\n",
    "- Find the value of the first pair (smallest and largest number)\n",
    "- Count the number of pairs\n",
    "- Multiply the pair value by the number of pairs\n",
    "- If *n* is odd add the number without a pair\n",
    "\n",
    "We can find the value of the first pair by adding the first and last number of the sequence. The first number will be *1* and the last number will be *n*. The first pair's value is:\n",
    "\n",
    "```\n",
    "n + 1\n",
    "```\n",
    "\n",
    "Next, find the number of pairs. If `n = 10` there will be 5 pairs. If `n = 100` there will be 50 pairs. The number of pairs will always be half of *n*. Rather than counting, we can divide *n* by two.:\n",
    "\n",
    "```\n",
    "n / 2\n",
    "```\n",
    "\n",
    "We have the value of the pairs and the number of pairs. Next we need to multiply them. So far the formula looks like this:\n",
    "\n",
    "```\n",
    "(n / 2)(n + 1)\n",
    "```\n",
    "\n",
    "Let's test this formula for the first example where `n = 10`:\n",
    "\n",
    "```\n",
    "(10 / 2)(10 + 1)\n",
    "(5)(11)\n",
    "55\n",
    "```\n",
    "\n",
    "This looks good. The steps broke down exactly the same way as the Gauss procedure did.\n",
    "\n",
    "But what about when *n* is an odd number? Let's try the formula with our second example `n = 7`:\n",
    "\n",
    "```\n",
    "(7 / 2)(7 + 1)\n",
    "(3.5)(8)\n",
    "28\n",
    "```\n",
    "\n",
    "We got the correct result. The only difference in steps is that the number without a pair is represented by the `0.5` in the `3.5`. We could've taken another step and factored the `0.5` out to get `(3)(8) + 4`. But representing the non-paired number as `0.5` feels intuitive enough.\n",
    "\n",
    "The formula handles the odd *n* case naturally. We don't need any logic for \"if *n* is odd, handle it differently\". Very elegant.\n",
    "\n",
    "**Now we have formally defined Gauss's formula for consecutive numbers:**\n",
    "\n",
    "```\n",
    "(n / 2)(n + 1)\n",
    "```\n",
    "\n",
    "Now let's replace our old, brute force program with a program that matches our elegant formula."
   ]
  },
  {
   "cell_type": "markdown",
   "metadata": {},
   "source": [
    "## Gauss in Code"
   ]
  },
  {
   "cell_type": "code",
   "execution_count": 3,
   "metadata": {},
   "outputs": [],
   "source": [
    "# Explanation of Gauss formula -> https://www.nctm.org/Publications/Teaching-Children-Mathematics/Blog/The-Story-of-Gauss/\n",
    "def gauss_consecutive_sum(n):\n",
    "    return int((n / 2) * (n + 1))"
   ]
  },
  {
   "cell_type": "code",
   "execution_count": 4,
   "metadata": {},
   "outputs": [
    {
     "data": {
      "text/plain": [
       "55"
      ]
     },
     "execution_count": 4,
     "metadata": {},
     "output_type": "execute_result"
    }
   ],
   "source": [
    "gauss_consecutive_sum(10)"
   ]
  },
  {
   "cell_type": "code",
   "execution_count": 5,
   "metadata": {},
   "outputs": [
    {
     "data": {
      "text/plain": [
       "28"
      ]
     },
     "execution_count": 5,
     "metadata": {},
     "output_type": "execute_result"
    }
   ],
   "source": [
    "gauss_consecutive_sum(7)"
   ]
  },
  {
   "cell_type": "markdown",
   "metadata": {},
   "source": [
    "An elegant one-liner. It will be much more efficient than the old `consecutive_sum` function. But, I'm not the biggest fan of how it looks. It looks like a math function. A benefit of programming in Python (or other high-level languages) is that you can communicate the intuition in the code.\n",
    "\n",
    "Let's try that:"
   ]
  },
  {
   "cell_type": "code",
   "execution_count": 6,
   "metadata": {},
   "outputs": [],
   "source": [
    "def gauss_consecutive_sum(n):\n",
    "    pair_sum = 1 + n\n",
    "    number_of_pairs = n / 2\n",
    "    result = pair_sum * number_of_pairs\n",
    "    return int(result)"
   ]
  },
  {
   "cell_type": "markdown",
   "metadata": {},
   "source": [
    "At some level, which is better or worse is subjective. The code should express the concepts as much as possible and not rely on the reader having knowledge of an outside concept such as Gauss's formula. To each their own if this is best accomplished with verbose variable names or links.\n",
    "\n",
    "### An Elegant Formula\n",
    "\n",
    "The readability of the code is somewhat subjective but the elegance of the solution is not. Gauss's formula is objectively better than the brute force sum.\n",
    "\n",
    "We face a problem such as the sum of consecutive numbers. Then we create a procedure to solve it, the procedure is inefficient or inelegant. We can code that procedure and move on if we want. \n",
    "\n",
    "**Problem → Procedure → Slow, Brute Force Code**\n",
    "\n",
    "If we wrestle with the problem longer, we can see patterns, shortcuts, or generalizations. These can lead to intuition about the nature of the problem. The intuition may generate a new procedure, which can generate a formula. That formula can be objectively superior to the old way. We end up with much better code.\n",
    "\n",
    "**Problem → Intuition → Procedure → Formula → Efficient, Elegant Code**\n",
    "\n",
    "The interplay of code and math is powerful. Code gives us the playground to run procedures, experiment, and debug. Math gives us the ultimate tools of abstraction and equivalence. Code gives us the way to automate formulas and even visualize them in new ways with graphics, which could lead to more intuition, and better formulas.\n",
    "\n",
    "Each formula and code that implement the formula are tools to build more intuition and tackle more problems. Next, let's use Gauss's formula to tackle more visual problems that have some application in the physical world."
   ]
  }
 ],
 "metadata": {
  "kernelspec": {
   "display_name": "Python 3",
   "language": "python",
   "name": "python3"
  },
  "language_info": {
   "codemirror_mode": {
    "name": "ipython",
    "version": 3
   },
   "file_extension": ".py",
   "mimetype": "text/x-python",
   "name": "python",
   "nbconvert_exporter": "python",
   "pygments_lexer": "ipython3",
   "version": "3.9.0"
  }
 },
 "nbformat": 4,
 "nbformat_minor": 4
}

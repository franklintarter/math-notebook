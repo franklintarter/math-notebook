{
 "cells": [
  {
   "cell_type": "code",
   "execution_count": 68,
   "metadata": {},
   "outputs": [],
   "source": [
    "from io import BytesIO\n",
    "\n",
    "import cairo\n",
    "import IPython.display\n",
    "import math"
   ]
  },
  {
   "cell_type": "code",
   "execution_count": 130,
   "metadata": {
    "scrolled": true
   },
   "outputs": [],
   "source": [
    "def circle(ctx, x, y):\n",
    "    ctx.set_line_width(0.45)\n",
    "    ctx.arc(x, y, 0.22, 0, 2*math.pi)\n",
    "    ctx.stroke()"
   ]
  },
  {
   "cell_type": "code",
   "execution_count": 138,
   "metadata": {},
   "outputs": [],
   "source": [
    "def circle_row(ctx, n, x_origin, y_origin):\n",
    "    for c in range(n):\n",
    "        circle(ctx, x_origin + c, y_origin)"
   ]
  },
  {
   "cell_type": "code",
   "execution_count": 195,
   "metadata": {},
   "outputs": [],
   "source": [
    "def triangle_numbers(ctx, n):\n",
    "    x = n\n",
    "    y = n\n",
    "    for r in range(1, n + 1):\n",
    "        xoffset = 1 + (n * 0.55) - (r / 2) # + (n / 4)\n",
    "        circle_row(ctx, r, xoffset, r)"
   ]
  },
  {
   "cell_type": "code",
   "execution_count": 200,
   "metadata": {},
   "outputs": [
    {
     "data": {
      "image/svg+xml": [
       "<svg xmlns=\"http://www.w3.org/2000/svg\" xmlns:xlink=\"http://www.w3.org/1999/xlink\" width=\"300pt\" height=\"300pt\" viewBox=\"0 0 300 300\" version=\"1.1\">\n",
       "<g id=\"surface631\">\n",
       "<path style=\"fill:none;stroke-width:0.45;stroke-linecap:butt;stroke-linejoin:miter;stroke:rgb(0%,0%,0%);stroke-opacity:1;stroke-miterlimit:10;\" d=\"M 3.47 1 C 3.47 1.121563 3.371563 1.22 3.25 1.22 C 3.128437 1.22 3.03 1.121563 3.03 1 C 3.03 0.878437 3.128437 0.78 3.25 0.78 C 3.371563 0.78 3.47 0.878437 3.47 1 \" transform=\"matrix(25,0,0,25,0,0)\"/>\n",
       "<path style=\"fill:none;stroke-width:0.45;stroke-linecap:butt;stroke-linejoin:miter;stroke:rgb(0%,0%,0%);stroke-opacity:1;stroke-miterlimit:10;\" d=\"M 2.97 2 C 2.97 2.121563 2.871563 2.22 2.75 2.22 C 2.628437 2.22 2.53 2.121563 2.53 2 C 2.53 1.878437 2.628437 1.78 2.75 1.78 C 2.871563 1.78 2.97 1.878437 2.97 2 \" transform=\"matrix(25,0,0,25,0,0)\"/>\n",
       "<path style=\"fill:none;stroke-width:0.45;stroke-linecap:butt;stroke-linejoin:miter;stroke:rgb(0%,0%,0%);stroke-opacity:1;stroke-miterlimit:10;\" d=\"M 3.97 2 C 3.97 2.121563 3.871563 2.22 3.75 2.22 C 3.628437 2.22 3.53 2.121563 3.53 2 C 3.53 1.878437 3.628437 1.78 3.75 1.78 C 3.871563 1.78 3.97 1.878437 3.97 2 \" transform=\"matrix(25,0,0,25,0,0)\"/>\n",
       "<path style=\"fill:none;stroke-width:0.45;stroke-linecap:butt;stroke-linejoin:miter;stroke:rgb(0%,0%,0%);stroke-opacity:1;stroke-miterlimit:10;\" d=\"M 2.47 3 C 2.47 3.121563 2.371563 3.22 2.25 3.22 C 2.128437 3.22 2.03 3.121563 2.03 3 C 2.03 2.878437 2.128437 2.78 2.25 2.78 C 2.371563 2.78 2.47 2.878437 2.47 3 \" transform=\"matrix(25,0,0,25,0,0)\"/>\n",
       "<path style=\"fill:none;stroke-width:0.45;stroke-linecap:butt;stroke-linejoin:miter;stroke:rgb(0%,0%,0%);stroke-opacity:1;stroke-miterlimit:10;\" d=\"M 3.47 3 C 3.47 3.121563 3.371563 3.22 3.25 3.22 C 3.128437 3.22 3.03 3.121563 3.03 3 C 3.03 2.878437 3.128437 2.78 3.25 2.78 C 3.371563 2.78 3.47 2.878437 3.47 3 \" transform=\"matrix(25,0,0,25,0,0)\"/>\n",
       "<path style=\"fill:none;stroke-width:0.45;stroke-linecap:butt;stroke-linejoin:miter;stroke:rgb(0%,0%,0%);stroke-opacity:1;stroke-miterlimit:10;\" d=\"M 4.47 3 C 4.47 3.121563 4.371563 3.22 4.25 3.22 C 4.128438 3.22 4.03 3.121563 4.03 3 C 4.03 2.878437 4.128438 2.78 4.25 2.78 C 4.371563 2.78 4.47 2.878437 4.47 3 \" transform=\"matrix(25,0,0,25,0,0)\"/>\n",
       "<path style=\"fill:none;stroke-width:0.45;stroke-linecap:butt;stroke-linejoin:miter;stroke:rgb(0%,0%,0%);stroke-opacity:1;stroke-miterlimit:10;\" d=\"M 1.97 4 C 1.97 4.121563 1.871563 4.22 1.75 4.22 C 1.628437 4.22 1.53 4.121563 1.53 4 C 1.53 3.878437 1.628437 3.78 1.75 3.78 C 1.871563 3.78 1.97 3.878437 1.97 4 \" transform=\"matrix(25,0,0,25,0,0)\"/>\n",
       "<path style=\"fill:none;stroke-width:0.45;stroke-linecap:butt;stroke-linejoin:miter;stroke:rgb(0%,0%,0%);stroke-opacity:1;stroke-miterlimit:10;\" d=\"M 2.97 4 C 2.97 4.121563 2.871563 4.22 2.75 4.22 C 2.628437 4.22 2.53 4.121563 2.53 4 C 2.53 3.878437 2.628437 3.78 2.75 3.78 C 2.871563 3.78 2.97 3.878437 2.97 4 \" transform=\"matrix(25,0,0,25,0,0)\"/>\n",
       "<path style=\"fill:none;stroke-width:0.45;stroke-linecap:butt;stroke-linejoin:miter;stroke:rgb(0%,0%,0%);stroke-opacity:1;stroke-miterlimit:10;\" d=\"M 3.97 4 C 3.97 4.121563 3.871563 4.22 3.75 4.22 C 3.628437 4.22 3.53 4.121563 3.53 4 C 3.53 3.878437 3.628437 3.78 3.75 3.78 C 3.871563 3.78 3.97 3.878437 3.97 4 \" transform=\"matrix(25,0,0,25,0,0)\"/>\n",
       "<path style=\"fill:none;stroke-width:0.45;stroke-linecap:butt;stroke-linejoin:miter;stroke:rgb(0%,0%,0%);stroke-opacity:1;stroke-miterlimit:10;\" d=\"M 4.97 4 C 4.97 4.121563 4.871563 4.22 4.75 4.22 C 4.628438 4.22 4.53 4.121563 4.53 4 C 4.53 3.878437 4.628438 3.78 4.75 3.78 C 4.871563 3.78 4.97 3.878437 4.97 4 \" transform=\"matrix(25,0,0,25,0,0)\"/>\n",
       "<path style=\"fill:none;stroke-width:0.45;stroke-linecap:butt;stroke-linejoin:miter;stroke:rgb(0%,0%,0%);stroke-opacity:1;stroke-miterlimit:10;\" d=\"M 1.47 5 C 1.47 5.121563 1.371563 5.22 1.25 5.22 C 1.128437 5.22 1.03 5.121563 1.03 5 C 1.03 4.878438 1.128437 4.78 1.25 4.78 C 1.371563 4.78 1.47 4.878438 1.47 5 \" transform=\"matrix(25,0,0,25,0,0)\"/>\n",
       "<path style=\"fill:none;stroke-width:0.45;stroke-linecap:butt;stroke-linejoin:miter;stroke:rgb(0%,0%,0%);stroke-opacity:1;stroke-miterlimit:10;\" d=\"M 2.47 5 C 2.47 5.121563 2.371563 5.22 2.25 5.22 C 2.128437 5.22 2.03 5.121563 2.03 5 C 2.03 4.878438 2.128437 4.78 2.25 4.78 C 2.371563 4.78 2.47 4.878438 2.47 5 \" transform=\"matrix(25,0,0,25,0,0)\"/>\n",
       "<path style=\"fill:none;stroke-width:0.45;stroke-linecap:butt;stroke-linejoin:miter;stroke:rgb(0%,0%,0%);stroke-opacity:1;stroke-miterlimit:10;\" d=\"M 3.47 5 C 3.47 5.121563 3.371563 5.22 3.25 5.22 C 3.128437 5.22 3.03 5.121563 3.03 5 C 3.03 4.878438 3.128437 4.78 3.25 4.78 C 3.371563 4.78 3.47 4.878438 3.47 5 \" transform=\"matrix(25,0,0,25,0,0)\"/>\n",
       "<path style=\"fill:none;stroke-width:0.45;stroke-linecap:butt;stroke-linejoin:miter;stroke:rgb(0%,0%,0%);stroke-opacity:1;stroke-miterlimit:10;\" d=\"M 4.47 5 C 4.47 5.121563 4.371563 5.22 4.25 5.22 C 4.128438 5.22 4.03 5.121563 4.03 5 C 4.03 4.878438 4.128438 4.78 4.25 4.78 C 4.371563 4.78 4.47 4.878438 4.47 5 \" transform=\"matrix(25,0,0,25,0,0)\"/>\n",
       "<path style=\"fill:none;stroke-width:0.45;stroke-linecap:butt;stroke-linejoin:miter;stroke:rgb(0%,0%,0%);stroke-opacity:1;stroke-miterlimit:10;\" d=\"M 5.47 5 C 5.47 5.121563 5.371563 5.22 5.25 5.22 C 5.128438 5.22 5.03 5.121563 5.03 5 C 5.03 4.878438 5.128438 4.78 5.25 4.78 C 5.371563 4.78 5.47 4.878438 5.47 5 \" transform=\"matrix(25,0,0,25,0,0)\"/>\n",
       "</g>\n",
       "</svg>"
      ],
      "text/plain": [
       "<IPython.core.display.SVG object>"
      ]
     },
     "execution_count": 200,
     "metadata": {},
     "output_type": "execute_result"
    }
   ],
   "source": [
    "svgio = BytesIO()\n",
    "\n",
    "with cairo.SVGSurface(svgio, 300, 300) as surface:\n",
    "    ctx = cairo.Context(surface)\n",
    "    ctx.scale(25, 25)\n",
    "    triangle_numbers(ctx, 5)\n",
    "\n",
    "IPython.display.SVG(data=svgio.getvalue())"
   ]
  },
  {
   "cell_type": "code",
   "execution_count": null,
   "metadata": {},
   "outputs": [],
   "source": []
  },
  {
   "cell_type": "code",
   "execution_count": null,
   "metadata": {},
   "outputs": [],
   "source": []
  }
 ],
 "metadata": {
  "kernelspec": {
   "display_name": "Python 3",
   "language": "python",
   "name": "python3"
  },
  "language_info": {
   "codemirror_mode": {
    "name": "ipython",
    "version": 3
   },
   "file_extension": ".py",
   "mimetype": "text/x-python",
   "name": "python",
   "nbconvert_exporter": "python",
   "pygments_lexer": "ipython3",
   "version": "3.9.0"
  }
 },
 "nbformat": 4,
 "nbformat_minor": 4
}

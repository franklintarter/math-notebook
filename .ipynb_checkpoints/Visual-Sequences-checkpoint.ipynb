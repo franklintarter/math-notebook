{
 "cells": [
  {
   "cell_type": "markdown",
   "metadata": {},
   "source": [
    "# Sequences Visualized\n",
    "\n",
    "## From Puzzles to Applications\n",
    "\n",
    "Now for something important. Solving something like consequetive sums with the Gauss formula can seem like it's merely puzzle solving. It's cool. It's elegant but does it mean anything beyond being an impressive trick? Where is the application? Applications are really what most people are interested in, most people are not all that interested in puzzles and tricks. Once a new intuition, formula, or procedure is discoverd it makes sense to start looking for applications. This is another endeavour that is both creative and analytical.\n",
    "\n",
    "## Sequences\n",
    "\n",
    "Consecutive sums is a sequence, a pattern that repeats. Sequences and patterns exist everywhere in nature.\n",
    "\n",
    "<img src=\"images/flower-2.jpg\" height=\"250\" width=\"250\">\n",
    "\n",
    "<span stype=\"font-size: 6px;\">Photo by <a href=\"https://unsplash.com/@studiokiek?utm_source=unsplash&amp;utm_medium=referral&amp;utm_content=creditCopyText\">Kiki Siepel</a></span>\n",
    "\n",
    "If we turn consequtive sums into a visual, we might find something that we recognize in nature. That connection to nature is the first potential lead to an application.\n",
    "\n",
    "Here we'll use code to draw, but pencil and paper is better for generating rough, quick ideas for how to visualize."
   ]
  },
  {
   "cell_type": "markdown",
   "metadata": {},
   "source": [
    "## Low Level Code for Drawing\n",
    "\n",
    "First import our needed libraries."
   ]
  },
  {
   "cell_type": "code",
   "execution_count": 603,
   "metadata": {},
   "outputs": [],
   "source": [
    "from io import BytesIO\n",
    "\n",
    "import cairo\n",
    "import IPython.display\n",
    "import math"
   ]
  },
  {
   "cell_type": "markdown",
   "metadata": {},
   "source": [
    "### Draw Unit\n",
    "\n",
    "Next we'll define a function to draw a single unit. A simple shape will do and we'll use circles. We could've picked squares or another simple shape, doesn't really matter."
   ]
  },
  {
   "cell_type": "code",
   "execution_count": 615,
   "metadata": {
    "scrolled": true
   },
   "outputs": [
    {
     "data": {
      "image/svg+xml": [
       "<svg xmlns=\"http://www.w3.org/2000/svg\" xmlns:xlink=\"http://www.w3.org/1999/xlink\" width=\"20pt\" height=\"20pt\" viewBox=\"0 0 20 20\" version=\"1.1\">\n",
       "<g id=\"surface1733\">\n",
       "<path style=\"fill:none;stroke-width:0.45;stroke-linecap:butt;stroke-linejoin:miter;stroke:rgb(0%,0%,0%);stroke-opacity:1;stroke-miterlimit:10;\" d=\"M 1.219922 1 C 1.219922 1.293359 0.780078 1.293359 0.780078 1 C 0.780078 0.706641 1.219922 0.706641 1.219922 1 \" transform=\"matrix(10,0,0,10,0,0)\"/>\n",
       "</g>\n",
       "</svg>"
      ],
      "text/plain": [
       "<IPython.core.display.SVG object>"
      ]
     },
     "execution_count": 615,
     "metadata": {},
     "output_type": "execute_result"
    }
   ],
   "source": [
    "def draw_circle(ctx, x, y):\n",
    "    ctx.set_line_width(0.45)\n",
    "    ctx.arc(x, y, 0.22, 0, 2*math.pi)\n",
    "    ctx.stroke()\n",
    "\n",
    "# Test draw_circle\n",
    "svg = BytesIO()\n",
    "with cairo.SVGSurface(svg, 20, 20) as surface:\n",
    "    ctx = cairo.Context(surface)\n",
    "    ctx.scale(10, 10)\n",
    "    draw_circle(ctx, 1, 1)\n",
    "    \n",
    "IPython.display.SVG(data=svg.getvalue())"
   ]
  },
  {
   "cell_type": "markdown",
   "metadata": {},
   "source": [
    "### Draw Part of the Sequence\n",
    "\n",
    "Now something to represent each part of the sequence. The first part of the sequence will be a single circle, the second set will be two circles, then three, and so on. To start let's lay them out flat in a row.\n",
    "\n",
    "We can loop through the number of times we are in the sequence and draw a circle each time. As we loop we'll use the iterator to offset the x origin of the circle. If we didn't do this, we'd draw all the circles in the same place and it would look like one circle."
   ]
  },
  {
   "cell_type": "code",
   "execution_count": 618,
   "metadata": {},
   "outputs": [
    {
     "data": {
      "image/svg+xml": [
       "<svg xmlns=\"http://www.w3.org/2000/svg\" xmlns:xlink=\"http://www.w3.org/1999/xlink\" width=\"100pt\" height=\"20pt\" viewBox=\"0 0 100 20\" version=\"1.1\">\n",
       "<g id=\"surface1748\">\n",
       "<path style=\"fill:none;stroke-width:0.45;stroke-linecap:butt;stroke-linejoin:miter;stroke:rgb(0%,0%,0%);stroke-opacity:1;stroke-miterlimit:10;\" d=\"M 1.219922 1 C 1.219922 1.293359 0.780078 1.293359 0.780078 1 C 0.780078 0.706641 1.219922 0.706641 1.219922 1 \" transform=\"matrix(10,0,0,10,0,0)\"/>\n",
       "<path style=\"fill:none;stroke-width:0.45;stroke-linecap:butt;stroke-linejoin:miter;stroke:rgb(0%,0%,0%);stroke-opacity:1;stroke-miterlimit:10;\" d=\"M 2.219922 1 C 2.219922 1.293359 1.780078 1.293359 1.780078 1 C 1.780078 0.706641 2.219922 0.706641 2.219922 1 \" transform=\"matrix(10,0,0,10,0,0)\"/>\n",
       "<path style=\"fill:none;stroke-width:0.45;stroke-linecap:butt;stroke-linejoin:miter;stroke:rgb(0%,0%,0%);stroke-opacity:1;stroke-miterlimit:10;\" d=\"M 3.219922 1 C 3.219922 1.293359 2.780078 1.293359 2.780078 1 C 2.780078 0.706641 3.219922 0.706641 3.219922 1 \" transform=\"matrix(10,0,0,10,0,0)\"/>\n",
       "<path style=\"fill:none;stroke-width:0.45;stroke-linecap:butt;stroke-linejoin:miter;stroke:rgb(0%,0%,0%);stroke-opacity:1;stroke-miterlimit:10;\" d=\"M 4.219922 1 C 4.219922 1.293359 3.780078 1.293359 3.780078 1 C 3.780078 0.706641 4.219922 0.706641 4.219922 1 \" transform=\"matrix(10,0,0,10,0,0)\"/>\n",
       "<path style=\"fill:none;stroke-width:0.45;stroke-linecap:butt;stroke-linejoin:miter;stroke:rgb(0%,0%,0%);stroke-opacity:1;stroke-miterlimit:10;\" d=\"M 5.219922 1 C 5.219922 1.293359 4.780078 1.293359 4.780078 1 C 4.780078 0.706641 5.219922 0.706641 5.219922 1 \" transform=\"matrix(10,0,0,10,0,0)\"/>\n",
       "</g>\n",
       "</svg>"
      ],
      "text/plain": [
       "<IPython.core.display.SVG object>"
      ]
     },
     "execution_count": 618,
     "metadata": {},
     "output_type": "execute_result"
    }
   ],
   "source": [
    "def draw_sequence_part(ctx, number_in_sequence, x_origin, y_origin):\n",
    "    for c in range(number_in_sequence):\n",
    "        x_offset = c\n",
    "        draw_circle(ctx, x_origin + x_offset, y_origin)\n",
    "        \n",
    "# Test draw_sequence_part   \n",
    "svg = BytesIO()\n",
    "with cairo.SVGSurface(svg, 100, 20) as surface:\n",
    "    ctx = cairo.Context(surface)\n",
    "    ctx.scale(10, 10)\n",
    "    draw_sequence_part(ctx, 5, 1, 1)\n",
    "    \n",
    "IPython.display.SVG(data=svg.getvalue())"
   ]
  },
  {
   "cell_type": "markdown",
   "metadata": {},
   "source": [
    "Looks good `draw_sequence_part()` with `number_in_sequence = 5` gives us a flat row of 5 units (circles)."
   ]
  },
  {
   "cell_type": "markdown",
   "metadata": {},
   "source": [
    "## First Sequence Drawing\n",
    "\n",
    "Now we've got the low level drawing functions to work with. It's time for the attempt to draw the sequence. The most basic version seems like the parts of the sequence laid out flat in rows as well.\n",
    "\n",
    "We can accomplish this by looping through `n` and drawing the sequence part each time. As we loop we need to keep offsetting the x origin to push the sequence parts across horizontal space."
   ]
  },
  {
   "cell_type": "code",
   "execution_count": 638,
   "metadata": {},
   "outputs": [
    {
     "data": {
      "image/svg+xml": [
       "<svg xmlns=\"http://www.w3.org/2000/svg\" xmlns:xlink=\"http://www.w3.org/1999/xlink\" width=\"1000pt\" height=\"20pt\" viewBox=\"0 0 1000 20\" version=\"1.1\">\n",
       "<g id=\"surface1838\">\n",
       "<path style=\"fill:none;stroke-width:0.45;stroke-linecap:butt;stroke-linejoin:miter;stroke:rgb(0%,0%,0%);stroke-opacity:1;stroke-miterlimit:10;\" d=\"M 1.219922 1 C 1.219922 1.293359 0.780078 1.293359 0.780078 1 C 0.780078 0.706641 1.219922 0.706641 1.219922 1 \" transform=\"matrix(10,0,0,10,0,0)\"/>\n",
       "<path style=\"fill:none;stroke-width:0.45;stroke-linecap:butt;stroke-linejoin:miter;stroke:rgb(0%,0%,0%);stroke-opacity:1;stroke-miterlimit:10;\" d=\"M 3.219922 1 C 3.219922 1.293359 2.780078 1.293359 2.780078 1 C 2.780078 0.706641 3.219922 0.706641 3.219922 1 \" transform=\"matrix(10,0,0,10,0,0)\"/>\n",
       "<path style=\"fill:none;stroke-width:0.45;stroke-linecap:butt;stroke-linejoin:miter;stroke:rgb(0%,0%,0%);stroke-opacity:1;stroke-miterlimit:10;\" d=\"M 4.219922 1 C 4.219922 1.293359 3.780078 1.293359 3.780078 1 C 3.780078 0.706641 4.219922 0.706641 4.219922 1 \" transform=\"matrix(10,0,0,10,0,0)\"/>\n",
       "<path style=\"fill:none;stroke-width:0.45;stroke-linecap:butt;stroke-linejoin:miter;stroke:rgb(0%,0%,0%);stroke-opacity:1;stroke-miterlimit:10;\" d=\"M 6.219922 1 C 6.219922 1.293359 5.780078 1.293359 5.780078 1 C 5.780078 0.706641 6.219922 0.706641 6.219922 1 \" transform=\"matrix(10,0,0,10,0,0)\"/>\n",
       "<path style=\"fill:none;stroke-width:0.45;stroke-linecap:butt;stroke-linejoin:miter;stroke:rgb(0%,0%,0%);stroke-opacity:1;stroke-miterlimit:10;\" d=\"M 7.219922 1 C 7.219922 1.293359 6.780078 1.293359 6.780078 1 C 6.780078 0.706641 7.219922 0.706641 7.219922 1 \" transform=\"matrix(10,0,0,10,0,0)\"/>\n",
       "<path style=\"fill:none;stroke-width:0.45;stroke-linecap:butt;stroke-linejoin:miter;stroke:rgb(0%,0%,0%);stroke-opacity:1;stroke-miterlimit:10;\" d=\"M 8.219922 1 C 8.219922 1.293359 7.780078 1.293359 7.780078 1 C 7.780078 0.706641 8.219922 0.706641 8.219922 1 \" transform=\"matrix(10,0,0,10,0,0)\"/>\n",
       "<path style=\"fill:none;stroke-width:0.45;stroke-linecap:butt;stroke-linejoin:miter;stroke:rgb(0%,0%,0%);stroke-opacity:1;stroke-miterlimit:10;\" d=\"M 10.219922 1 C 10.219922 1.293359 9.780078 1.293359 9.780078 1 C 9.780078 0.706641 10.219922 0.706641 10.219922 1 \" transform=\"matrix(10,0,0,10,0,0)\"/>\n",
       "<path style=\"fill:none;stroke-width:0.45;stroke-linecap:butt;stroke-linejoin:miter;stroke:rgb(0%,0%,0%);stroke-opacity:1;stroke-miterlimit:10;\" d=\"M 11.219922 1 C 11.219922 1.293359 10.780078 1.293359 10.780078 1 C 10.780078 0.706641 11.219922 0.706641 11.219922 1 \" transform=\"matrix(10,0,0,10,0,0)\"/>\n",
       "<path style=\"fill:none;stroke-width:0.45;stroke-linecap:butt;stroke-linejoin:miter;stroke:rgb(0%,0%,0%);stroke-opacity:1;stroke-miterlimit:10;\" d=\"M 12.219922 1 C 12.219922 1.293359 11.780078 1.293359 11.780078 1 C 11.780078 0.706641 12.219922 0.706641 12.219922 1 \" transform=\"matrix(10,0,0,10,0,0)\"/>\n",
       "<path style=\"fill:none;stroke-width:0.45;stroke-linecap:butt;stroke-linejoin:miter;stroke:rgb(0%,0%,0%);stroke-opacity:1;stroke-miterlimit:10;\" d=\"M 13.219922 1 C 13.219922 1.293359 12.780078 1.293359 12.780078 1 C 12.780078 0.706641 13.219922 0.706641 13.219922 1 \" transform=\"matrix(10,0,0,10,0,0)\"/>\n",
       "<path style=\"fill:none;stroke-width:0.45;stroke-linecap:butt;stroke-linejoin:miter;stroke:rgb(0%,0%,0%);stroke-opacity:1;stroke-miterlimit:10;\" d=\"M 15.219922 1 C 15.219922 1.293359 14.780078 1.293359 14.780078 1 C 14.780078 0.706641 15.219922 0.706641 15.219922 1 \" transform=\"matrix(10,0,0,10,0,0)\"/>\n",
       "<path style=\"fill:none;stroke-width:0.45;stroke-linecap:butt;stroke-linejoin:miter;stroke:rgb(0%,0%,0%);stroke-opacity:1;stroke-miterlimit:10;\" d=\"M 16.219922 1 C 16.219922 1.293359 15.780078 1.293359 15.780078 1 C 15.780078 0.706641 16.219922 0.706641 16.219922 1 \" transform=\"matrix(10,0,0,10,0,0)\"/>\n",
       "<path style=\"fill:none;stroke-width:0.45;stroke-linecap:butt;stroke-linejoin:miter;stroke:rgb(0%,0%,0%);stroke-opacity:1;stroke-miterlimit:10;\" d=\"M 17.219922 1 C 17.219922 1.293359 16.780078 1.293359 16.780078 1 C 16.780078 0.706641 17.219922 0.706641 17.219922 1 \" transform=\"matrix(10,0,0,10,0,0)\"/>\n",
       "<path style=\"fill:none;stroke-width:0.45;stroke-linecap:butt;stroke-linejoin:miter;stroke:rgb(0%,0%,0%);stroke-opacity:1;stroke-miterlimit:10;\" d=\"M 18.219922 1 C 18.219922 1.293359 17.780078 1.293359 17.780078 1 C 17.780078 0.706641 18.219922 0.706641 18.219922 1 \" transform=\"matrix(10,0,0,10,0,0)\"/>\n",
       "<path style=\"fill:none;stroke-width:0.45;stroke-linecap:butt;stroke-linejoin:miter;stroke:rgb(0%,0%,0%);stroke-opacity:1;stroke-miterlimit:10;\" d=\"M 19.219922 1 C 19.219922 1.293359 18.780078 1.293359 18.780078 1 C 18.780078 0.706641 19.219922 0.706641 19.219922 1 \" transform=\"matrix(10,0,0,10,0,0)\"/>\n",
       "</g>\n",
       "</svg>"
      ],
      "text/plain": [
       "<IPython.core.display.SVG object>"
      ]
     },
     "execution_count": 638,
     "metadata": {},
     "output_type": "execute_result"
    }
   ],
   "source": [
    "def draw_consecutive_sums_flat(ctx, n):\n",
    "    x_offset = 1\n",
    "    for sequence_part in range(1, n + 1):\n",
    "        draw_sequence_part(ctx, sequence_part, x_offset, 1)\n",
    "        x_offset += sequence_part + 1\n",
    "        \n",
    "# Test draw_consecutive_sums_flat   \n",
    "svg = BytesIO()\n",
    "with cairo.SVGSurface(svg, 1000, 20) as surface:\n",
    "    ctx = cairo.Context(surface)\n",
    "    ctx.scale(10, 10)\n",
    "    draw_consecutive_sums_flat(ctx, 5)\n",
    "    \n",
    "IPython.display.SVG(data=svg.getvalue())"
   ]
  },
  {
   "cell_type": "markdown",
   "metadata": {},
   "source": [
    "The `x_offset` was the trickiest part of this one. We keep adding to it each time we go up the sequence adding the `sequence_part + 1` to make sure the sequence part `x_origin` has some separation from the previous sequence part. This took some trial and error.\n",
    "\n",
    "Now we have something drawn. But it doesn't give us much intuition. It more or less looks like the original sequence in math land.\n",
    "\n",
    "```\n",
    "1 + 2 + 3 + 4 + 5\n",
    "```\n",
    "\n",
    "We could make it even look the same if we just summed up all the ones.\n",
    "\n",
    "```\n",
    "(1) + (1 + 1) + (1 + 1 + 1) + (1 + 1 + 1 + 1) + (1 + 1 + 1 + 1 + 1)\n",
    "```\n",
    "\n",
    "So not much intuition gained but we have some raw material to draw some other ways of drawing."
   ]
  },
  {
   "cell_type": "markdown",
   "metadata": {},
   "source": [
    "## Second Sequence Drawing\n",
    "\n",
    "Our low level functions are still good. Let's experiment with how we separate the sequence parts. Rather than push them apart horizontally let's stack vertically.\n",
    "\n",
    "This is actually simpler than the flat version. `x_offset` is static and we can just use the `sequence_part` iterator as the `y_offset`."
   ]
  },
  {
   "cell_type": "code",
   "execution_count": 644,
   "metadata": {},
   "outputs": [
    {
     "data": {
      "image/svg+xml": [
       "<svg xmlns=\"http://www.w3.org/2000/svg\" xmlns:xlink=\"http://www.w3.org/1999/xlink\" width=\"100pt\" height=\"60pt\" viewBox=\"0 0 100 60\" version=\"1.1\">\n",
       "<g id=\"surface1868\">\n",
       "<path style=\"fill:none;stroke-width:0.45;stroke-linecap:butt;stroke-linejoin:miter;stroke:rgb(0%,0%,0%);stroke-opacity:1;stroke-miterlimit:10;\" d=\"M 1.219922 1 C 1.219922 1.293359 0.780078 1.293359 0.780078 1 C 0.780078 0.706641 1.219922 0.706641 1.219922 1 \" transform=\"matrix(10,0,0,10,0,0)\"/>\n",
       "<path style=\"fill:none;stroke-width:0.45;stroke-linecap:butt;stroke-linejoin:miter;stroke:rgb(0%,0%,0%);stroke-opacity:1;stroke-miterlimit:10;\" d=\"M 1.219922 2 C 1.219922 2.293359 0.780078 2.293359 0.780078 2 C 0.780078 1.706641 1.219922 1.706641 1.219922 2 \" transform=\"matrix(10,0,0,10,0,0)\"/>\n",
       "<path style=\"fill:none;stroke-width:0.45;stroke-linecap:butt;stroke-linejoin:miter;stroke:rgb(0%,0%,0%);stroke-opacity:1;stroke-miterlimit:10;\" d=\"M 2.219922 2 C 2.219922 2.293359 1.780078 2.293359 1.780078 2 C 1.780078 1.706641 2.219922 1.706641 2.219922 2 \" transform=\"matrix(10,0,0,10,0,0)\"/>\n",
       "<path style=\"fill:none;stroke-width:0.45;stroke-linecap:butt;stroke-linejoin:miter;stroke:rgb(0%,0%,0%);stroke-opacity:1;stroke-miterlimit:10;\" d=\"M 1.219922 3 C 1.219922 3.293359 0.780078 3.293359 0.780078 3 C 0.780078 2.706641 1.219922 2.706641 1.219922 3 \" transform=\"matrix(10,0,0,10,0,0)\"/>\n",
       "<path style=\"fill:none;stroke-width:0.45;stroke-linecap:butt;stroke-linejoin:miter;stroke:rgb(0%,0%,0%);stroke-opacity:1;stroke-miterlimit:10;\" d=\"M 2.219922 3 C 2.219922 3.293359 1.780078 3.293359 1.780078 3 C 1.780078 2.706641 2.219922 2.706641 2.219922 3 \" transform=\"matrix(10,0,0,10,0,0)\"/>\n",
       "<path style=\"fill:none;stroke-width:0.45;stroke-linecap:butt;stroke-linejoin:miter;stroke:rgb(0%,0%,0%);stroke-opacity:1;stroke-miterlimit:10;\" d=\"M 3.219922 3 C 3.219922 3.293359 2.780078 3.293359 2.780078 3 C 2.780078 2.706641 3.219922 2.706641 3.219922 3 \" transform=\"matrix(10,0,0,10,0,0)\"/>\n",
       "<path style=\"fill:none;stroke-width:0.45;stroke-linecap:butt;stroke-linejoin:miter;stroke:rgb(0%,0%,0%);stroke-opacity:1;stroke-miterlimit:10;\" d=\"M 1.219922 4 C 1.219922 4.293359 0.780078 4.293359 0.780078 4 C 0.780078 3.706641 1.219922 3.706641 1.219922 4 \" transform=\"matrix(10,0,0,10,0,0)\"/>\n",
       "<path style=\"fill:none;stroke-width:0.45;stroke-linecap:butt;stroke-linejoin:miter;stroke:rgb(0%,0%,0%);stroke-opacity:1;stroke-miterlimit:10;\" d=\"M 2.219922 4 C 2.219922 4.293359 1.780078 4.293359 1.780078 4 C 1.780078 3.706641 2.219922 3.706641 2.219922 4 \" transform=\"matrix(10,0,0,10,0,0)\"/>\n",
       "<path style=\"fill:none;stroke-width:0.45;stroke-linecap:butt;stroke-linejoin:miter;stroke:rgb(0%,0%,0%);stroke-opacity:1;stroke-miterlimit:10;\" d=\"M 3.219922 4 C 3.219922 4.293359 2.780078 4.293359 2.780078 4 C 2.780078 3.706641 3.219922 3.706641 3.219922 4 \" transform=\"matrix(10,0,0,10,0,0)\"/>\n",
       "<path style=\"fill:none;stroke-width:0.45;stroke-linecap:butt;stroke-linejoin:miter;stroke:rgb(0%,0%,0%);stroke-opacity:1;stroke-miterlimit:10;\" d=\"M 4.219922 4 C 4.219922 4.293359 3.780078 4.293359 3.780078 4 C 3.780078 3.706641 4.219922 3.706641 4.219922 4 \" transform=\"matrix(10,0,0,10,0,0)\"/>\n",
       "<path style=\"fill:none;stroke-width:0.45;stroke-linecap:butt;stroke-linejoin:miter;stroke:rgb(0%,0%,0%);stroke-opacity:1;stroke-miterlimit:10;\" d=\"M 1.219922 5 C 1.219922 5.293359 0.780078 5.293359 0.780078 5 C 0.780078 4.706641 1.219922 4.706641 1.219922 5 \" transform=\"matrix(10,0,0,10,0,0)\"/>\n",
       "<path style=\"fill:none;stroke-width:0.45;stroke-linecap:butt;stroke-linejoin:miter;stroke:rgb(0%,0%,0%);stroke-opacity:1;stroke-miterlimit:10;\" d=\"M 2.219922 5 C 2.219922 5.293359 1.780078 5.293359 1.780078 5 C 1.780078 4.706641 2.219922 4.706641 2.219922 5 \" transform=\"matrix(10,0,0,10,0,0)\"/>\n",
       "<path style=\"fill:none;stroke-width:0.45;stroke-linecap:butt;stroke-linejoin:miter;stroke:rgb(0%,0%,0%);stroke-opacity:1;stroke-miterlimit:10;\" d=\"M 3.219922 5 C 3.219922 5.293359 2.780078 5.293359 2.780078 5 C 2.780078 4.706641 3.219922 4.706641 3.219922 5 \" transform=\"matrix(10,0,0,10,0,0)\"/>\n",
       "<path style=\"fill:none;stroke-width:0.45;stroke-linecap:butt;stroke-linejoin:miter;stroke:rgb(0%,0%,0%);stroke-opacity:1;stroke-miterlimit:10;\" d=\"M 4.219922 5 C 4.219922 5.293359 3.780078 5.293359 3.780078 5 C 3.780078 4.706641 4.219922 4.706641 4.219922 5 \" transform=\"matrix(10,0,0,10,0,0)\"/>\n",
       "<path style=\"fill:none;stroke-width:0.45;stroke-linecap:butt;stroke-linejoin:miter;stroke:rgb(0%,0%,0%);stroke-opacity:1;stroke-miterlimit:10;\" d=\"M 5.219922 5 C 5.219922 5.293359 4.780078 5.293359 4.780078 5 C 4.780078 4.706641 5.219922 4.706641 5.219922 5 \" transform=\"matrix(10,0,0,10,0,0)\"/>\n",
       "</g>\n",
       "</svg>"
      ],
      "text/plain": [
       "<IPython.core.display.SVG object>"
      ]
     },
     "execution_count": 644,
     "metadata": {},
     "output_type": "execute_result"
    }
   ],
   "source": [
    "def draw_consecutive_sums_stacked(ctx, n):\n",
    "    for sequence_part in range(1, n + 1):\n",
    "        y_offset = sequence_part\n",
    "        draw_sequence_part(ctx, sequence_part, 1, y_offset)\n",
    "        \n",
    "# Test draw_consecutive_sums_stacked\n",
    "svg = BytesIO()\n",
    "with cairo.SVGSurface(svg, 100, 60) as surface:\n",
    "    ctx = cairo.Context(surface)\n",
    "    ctx.scale(10, 10)\n",
    "    draw_consecutive_sums_stacked(ctx, 5)\n",
    "    \n",
    "IPython.display.SVG(data=svg.getvalue())"
   ]
  },
  {
   "cell_type": "markdown",
   "metadata": {},
   "source": [
    "Unlike the flat drawing, this visual is ripe for some intuition mining. It looks like stairs going down. It looks like a steady slope. It looks like a wedge. There are many things it resembles in nature."
   ]
  },
  {
   "cell_type": "markdown",
   "metadata": {},
   "source": [
    "## Third Sequence Drawing\n",
    "\n",
    "With just a little tweaking we could make this look like a triangle. We just need to add back a little `x_offset`."
   ]
  },
  {
   "cell_type": "code",
   "execution_count": 662,
   "metadata": {},
   "outputs": [
    {
     "data": {
      "image/svg+xml": [
       "<svg xmlns=\"http://www.w3.org/2000/svg\" xmlns:xlink=\"http://www.w3.org/1999/xlink\" width=\"120pt\" height=\"110pt\" viewBox=\"0 0 120 110\" version=\"1.1\">\n",
       "<g id=\"surface1953\">\n",
       "<path style=\"fill:none;stroke-width:0.45;stroke-linecap:butt;stroke-linejoin:miter;stroke:rgb(0%,0%,0%);stroke-opacity:1;stroke-miterlimit:10;\" d=\"M 6.219922 1 C 6.219922 1.293359 5.780078 1.293359 5.780078 1 C 5.780078 0.706641 6.219922 0.706641 6.219922 1 \" transform=\"matrix(10,0,0,10,0,0)\"/>\n",
       "<path style=\"fill:none;stroke-width:0.45;stroke-linecap:butt;stroke-linejoin:miter;stroke:rgb(0%,0%,0%);stroke-opacity:1;stroke-miterlimit:10;\" d=\"M 5.719922 2 C 5.719922 2.293359 5.280078 2.293359 5.280078 2 C 5.280078 1.706641 5.719922 1.706641 5.719922 2 \" transform=\"matrix(10,0,0,10,0,0)\"/>\n",
       "<path style=\"fill:none;stroke-width:0.45;stroke-linecap:butt;stroke-linejoin:miter;stroke:rgb(0%,0%,0%);stroke-opacity:1;stroke-miterlimit:10;\" d=\"M 6.719922 2 C 6.719922 2.293359 6.280078 2.293359 6.280078 2 C 6.280078 1.706641 6.719922 1.706641 6.719922 2 \" transform=\"matrix(10,0,0,10,0,0)\"/>\n",
       "<path style=\"fill:none;stroke-width:0.45;stroke-linecap:butt;stroke-linejoin:miter;stroke:rgb(0%,0%,0%);stroke-opacity:1;stroke-miterlimit:10;\" d=\"M 5.219922 3 C 5.219922 3.293359 4.780078 3.293359 4.780078 3 C 4.780078 2.706641 5.219922 2.706641 5.219922 3 \" transform=\"matrix(10,0,0,10,0,0)\"/>\n",
       "<path style=\"fill:none;stroke-width:0.45;stroke-linecap:butt;stroke-linejoin:miter;stroke:rgb(0%,0%,0%);stroke-opacity:1;stroke-miterlimit:10;\" d=\"M 6.219922 3 C 6.219922 3.293359 5.780078 3.293359 5.780078 3 C 5.780078 2.706641 6.219922 2.706641 6.219922 3 \" transform=\"matrix(10,0,0,10,0,0)\"/>\n",
       "<path style=\"fill:none;stroke-width:0.45;stroke-linecap:butt;stroke-linejoin:miter;stroke:rgb(0%,0%,0%);stroke-opacity:1;stroke-miterlimit:10;\" d=\"M 7.219922 3 C 7.219922 3.293359 6.780078 3.293359 6.780078 3 C 6.780078 2.706641 7.219922 2.706641 7.219922 3 \" transform=\"matrix(10,0,0,10,0,0)\"/>\n",
       "<path style=\"fill:none;stroke-width:0.45;stroke-linecap:butt;stroke-linejoin:miter;stroke:rgb(0%,0%,0%);stroke-opacity:1;stroke-miterlimit:10;\" d=\"M 4.719922 4 C 4.719922 4.293359 4.280078 4.293359 4.280078 4 C 4.280078 3.706641 4.719922 3.706641 4.719922 4 \" transform=\"matrix(10,0,0,10,0,0)\"/>\n",
       "<path style=\"fill:none;stroke-width:0.45;stroke-linecap:butt;stroke-linejoin:miter;stroke:rgb(0%,0%,0%);stroke-opacity:1;stroke-miterlimit:10;\" d=\"M 5.719922 4 C 5.719922 4.293359 5.280078 4.293359 5.280078 4 C 5.280078 3.706641 5.719922 3.706641 5.719922 4 \" transform=\"matrix(10,0,0,10,0,0)\"/>\n",
       "<path style=\"fill:none;stroke-width:0.45;stroke-linecap:butt;stroke-linejoin:miter;stroke:rgb(0%,0%,0%);stroke-opacity:1;stroke-miterlimit:10;\" d=\"M 6.719922 4 C 6.719922 4.293359 6.280078 4.293359 6.280078 4 C 6.280078 3.706641 6.719922 3.706641 6.719922 4 \" transform=\"matrix(10,0,0,10,0,0)\"/>\n",
       "<path style=\"fill:none;stroke-width:0.45;stroke-linecap:butt;stroke-linejoin:miter;stroke:rgb(0%,0%,0%);stroke-opacity:1;stroke-miterlimit:10;\" d=\"M 7.719922 4 C 7.719922 4.293359 7.280078 4.293359 7.280078 4 C 7.280078 3.706641 7.719922 3.706641 7.719922 4 \" transform=\"matrix(10,0,0,10,0,0)\"/>\n",
       "<path style=\"fill:none;stroke-width:0.45;stroke-linecap:butt;stroke-linejoin:miter;stroke:rgb(0%,0%,0%);stroke-opacity:1;stroke-miterlimit:10;\" d=\"M 4.219922 5 C 4.219922 5.293359 3.780078 5.293359 3.780078 5 C 3.780078 4.706641 4.219922 4.706641 4.219922 5 \" transform=\"matrix(10,0,0,10,0,0)\"/>\n",
       "<path style=\"fill:none;stroke-width:0.45;stroke-linecap:butt;stroke-linejoin:miter;stroke:rgb(0%,0%,0%);stroke-opacity:1;stroke-miterlimit:10;\" d=\"M 5.219922 5 C 5.219922 5.293359 4.780078 5.293359 4.780078 5 C 4.780078 4.706641 5.219922 4.706641 5.219922 5 \" transform=\"matrix(10,0,0,10,0,0)\"/>\n",
       "<path style=\"fill:none;stroke-width:0.45;stroke-linecap:butt;stroke-linejoin:miter;stroke:rgb(0%,0%,0%);stroke-opacity:1;stroke-miterlimit:10;\" d=\"M 6.219922 5 C 6.219922 5.293359 5.780078 5.293359 5.780078 5 C 5.780078 4.706641 6.219922 4.706641 6.219922 5 \" transform=\"matrix(10,0,0,10,0,0)\"/>\n",
       "<path style=\"fill:none;stroke-width:0.45;stroke-linecap:butt;stroke-linejoin:miter;stroke:rgb(0%,0%,0%);stroke-opacity:1;stroke-miterlimit:10;\" d=\"M 7.219922 5 C 7.219922 5.293359 6.780078 5.293359 6.780078 5 C 6.780078 4.706641 7.219922 4.706641 7.219922 5 \" transform=\"matrix(10,0,0,10,0,0)\"/>\n",
       "<path style=\"fill:none;stroke-width:0.45;stroke-linecap:butt;stroke-linejoin:miter;stroke:rgb(0%,0%,0%);stroke-opacity:1;stroke-miterlimit:10;\" d=\"M 8.219922 5 C 8.219922 5.293359 7.780078 5.293359 7.780078 5 C 7.780078 4.706641 8.219922 4.706641 8.219922 5 \" transform=\"matrix(10,0,0,10,0,0)\"/>\n",
       "<path style=\"fill:none;stroke-width:0.45;stroke-linecap:butt;stroke-linejoin:miter;stroke:rgb(0%,0%,0%);stroke-opacity:1;stroke-miterlimit:10;\" d=\"M 3.719922 6 C 3.719922 6.293359 3.280078 6.293359 3.280078 6 C 3.280078 5.706641 3.719922 5.706641 3.719922 6 \" transform=\"matrix(10,0,0,10,0,0)\"/>\n",
       "<path style=\"fill:none;stroke-width:0.45;stroke-linecap:butt;stroke-linejoin:miter;stroke:rgb(0%,0%,0%);stroke-opacity:1;stroke-miterlimit:10;\" d=\"M 4.719922 6 C 4.719922 6.293359 4.280078 6.293359 4.280078 6 C 4.280078 5.706641 4.719922 5.706641 4.719922 6 \" transform=\"matrix(10,0,0,10,0,0)\"/>\n",
       "<path style=\"fill:none;stroke-width:0.45;stroke-linecap:butt;stroke-linejoin:miter;stroke:rgb(0%,0%,0%);stroke-opacity:1;stroke-miterlimit:10;\" d=\"M 5.719922 6 C 5.719922 6.293359 5.280078 6.293359 5.280078 6 C 5.280078 5.706641 5.719922 5.706641 5.719922 6 \" transform=\"matrix(10,0,0,10,0,0)\"/>\n",
       "<path style=\"fill:none;stroke-width:0.45;stroke-linecap:butt;stroke-linejoin:miter;stroke:rgb(0%,0%,0%);stroke-opacity:1;stroke-miterlimit:10;\" d=\"M 6.719922 6 C 6.719922 6.293359 6.280078 6.293359 6.280078 6 C 6.280078 5.706641 6.719922 5.706641 6.719922 6 \" transform=\"matrix(10,0,0,10,0,0)\"/>\n",
       "<path style=\"fill:none;stroke-width:0.45;stroke-linecap:butt;stroke-linejoin:miter;stroke:rgb(0%,0%,0%);stroke-opacity:1;stroke-miterlimit:10;\" d=\"M 7.719922 6 C 7.719922 6.293359 7.280078 6.293359 7.280078 6 C 7.280078 5.706641 7.719922 5.706641 7.719922 6 \" transform=\"matrix(10,0,0,10,0,0)\"/>\n",
       "<path style=\"fill:none;stroke-width:0.45;stroke-linecap:butt;stroke-linejoin:miter;stroke:rgb(0%,0%,0%);stroke-opacity:1;stroke-miterlimit:10;\" d=\"M 8.719922 6 C 8.719922 6.293359 8.280078 6.293359 8.280078 6 C 8.280078 5.706641 8.719922 5.706641 8.719922 6 \" transform=\"matrix(10,0,0,10,0,0)\"/>\n",
       "<path style=\"fill:none;stroke-width:0.45;stroke-linecap:butt;stroke-linejoin:miter;stroke:rgb(0%,0%,0%);stroke-opacity:1;stroke-miterlimit:10;\" d=\"M 3.219922 7 C 3.219922 7.293359 2.780078 7.293359 2.780078 7 C 2.780078 6.706641 3.219922 6.706641 3.219922 7 \" transform=\"matrix(10,0,0,10,0,0)\"/>\n",
       "<path style=\"fill:none;stroke-width:0.45;stroke-linecap:butt;stroke-linejoin:miter;stroke:rgb(0%,0%,0%);stroke-opacity:1;stroke-miterlimit:10;\" d=\"M 4.219922 7 C 4.219922 7.293359 3.780078 7.293359 3.780078 7 C 3.780078 6.706641 4.219922 6.706641 4.219922 7 \" transform=\"matrix(10,0,0,10,0,0)\"/>\n",
       "<path style=\"fill:none;stroke-width:0.45;stroke-linecap:butt;stroke-linejoin:miter;stroke:rgb(0%,0%,0%);stroke-opacity:1;stroke-miterlimit:10;\" d=\"M 5.219922 7 C 5.219922 7.293359 4.780078 7.293359 4.780078 7 C 4.780078 6.706641 5.219922 6.706641 5.219922 7 \" transform=\"matrix(10,0,0,10,0,0)\"/>\n",
       "<path style=\"fill:none;stroke-width:0.45;stroke-linecap:butt;stroke-linejoin:miter;stroke:rgb(0%,0%,0%);stroke-opacity:1;stroke-miterlimit:10;\" d=\"M 6.219922 7 C 6.219922 7.293359 5.780078 7.293359 5.780078 7 C 5.780078 6.706641 6.219922 6.706641 6.219922 7 \" transform=\"matrix(10,0,0,10,0,0)\"/>\n",
       "<path style=\"fill:none;stroke-width:0.45;stroke-linecap:butt;stroke-linejoin:miter;stroke:rgb(0%,0%,0%);stroke-opacity:1;stroke-miterlimit:10;\" d=\"M 7.219922 7 C 7.219922 7.293359 6.780078 7.293359 6.780078 7 C 6.780078 6.706641 7.219922 6.706641 7.219922 7 \" transform=\"matrix(10,0,0,10,0,0)\"/>\n",
       "<path style=\"fill:none;stroke-width:0.45;stroke-linecap:butt;stroke-linejoin:miter;stroke:rgb(0%,0%,0%);stroke-opacity:1;stroke-miterlimit:10;\" d=\"M 8.219922 7 C 8.219922 7.293359 7.780078 7.293359 7.780078 7 C 7.780078 6.706641 8.219922 6.706641 8.219922 7 \" transform=\"matrix(10,0,0,10,0,0)\"/>\n",
       "<path style=\"fill:none;stroke-width:0.45;stroke-linecap:butt;stroke-linejoin:miter;stroke:rgb(0%,0%,0%);stroke-opacity:1;stroke-miterlimit:10;\" d=\"M 9.219922 7 C 9.219922 7.293359 8.780078 7.293359 8.780078 7 C 8.780078 6.706641 9.219922 6.706641 9.219922 7 \" transform=\"matrix(10,0,0,10,0,0)\"/>\n",
       "<path style=\"fill:none;stroke-width:0.45;stroke-linecap:butt;stroke-linejoin:miter;stroke:rgb(0%,0%,0%);stroke-opacity:1;stroke-miterlimit:10;\" d=\"M 2.719922 8 C 2.719922 8.293359 2.280078 8.293359 2.280078 8 C 2.280078 7.706641 2.719922 7.706641 2.719922 8 \" transform=\"matrix(10,0,0,10,0,0)\"/>\n",
       "<path style=\"fill:none;stroke-width:0.45;stroke-linecap:butt;stroke-linejoin:miter;stroke:rgb(0%,0%,0%);stroke-opacity:1;stroke-miterlimit:10;\" d=\"M 3.719922 8 C 3.719922 8.293359 3.280078 8.293359 3.280078 8 C 3.280078 7.706641 3.719922 7.706641 3.719922 8 \" transform=\"matrix(10,0,0,10,0,0)\"/>\n",
       "<path style=\"fill:none;stroke-width:0.45;stroke-linecap:butt;stroke-linejoin:miter;stroke:rgb(0%,0%,0%);stroke-opacity:1;stroke-miterlimit:10;\" d=\"M 4.719922 8 C 4.719922 8.293359 4.280078 8.293359 4.280078 8 C 4.280078 7.706641 4.719922 7.706641 4.719922 8 \" transform=\"matrix(10,0,0,10,0,0)\"/>\n",
       "<path style=\"fill:none;stroke-width:0.45;stroke-linecap:butt;stroke-linejoin:miter;stroke:rgb(0%,0%,0%);stroke-opacity:1;stroke-miterlimit:10;\" d=\"M 5.719922 8 C 5.719922 8.293359 5.280078 8.293359 5.280078 8 C 5.280078 7.706641 5.719922 7.706641 5.719922 8 \" transform=\"matrix(10,0,0,10,0,0)\"/>\n",
       "<path style=\"fill:none;stroke-width:0.45;stroke-linecap:butt;stroke-linejoin:miter;stroke:rgb(0%,0%,0%);stroke-opacity:1;stroke-miterlimit:10;\" d=\"M 6.719922 8 C 6.719922 8.293359 6.280078 8.293359 6.280078 8 C 6.280078 7.706641 6.719922 7.706641 6.719922 8 \" transform=\"matrix(10,0,0,10,0,0)\"/>\n",
       "<path style=\"fill:none;stroke-width:0.45;stroke-linecap:butt;stroke-linejoin:miter;stroke:rgb(0%,0%,0%);stroke-opacity:1;stroke-miterlimit:10;\" d=\"M 7.719922 8 C 7.719922 8.293359 7.280078 8.293359 7.280078 8 C 7.280078 7.706641 7.719922 7.706641 7.719922 8 \" transform=\"matrix(10,0,0,10,0,0)\"/>\n",
       "<path style=\"fill:none;stroke-width:0.45;stroke-linecap:butt;stroke-linejoin:miter;stroke:rgb(0%,0%,0%);stroke-opacity:1;stroke-miterlimit:10;\" d=\"M 8.719922 8 C 8.719922 8.293359 8.280078 8.293359 8.280078 8 C 8.280078 7.706641 8.719922 7.706641 8.719922 8 \" transform=\"matrix(10,0,0,10,0,0)\"/>\n",
       "<path style=\"fill:none;stroke-width:0.45;stroke-linecap:butt;stroke-linejoin:miter;stroke:rgb(0%,0%,0%);stroke-opacity:1;stroke-miterlimit:10;\" d=\"M 9.719922 8 C 9.719922 8.293359 9.280078 8.293359 9.280078 8 C 9.280078 7.706641 9.719922 7.706641 9.719922 8 \" transform=\"matrix(10,0,0,10,0,0)\"/>\n",
       "<path style=\"fill:none;stroke-width:0.45;stroke-linecap:butt;stroke-linejoin:miter;stroke:rgb(0%,0%,0%);stroke-opacity:1;stroke-miterlimit:10;\" d=\"M 2.219922 9 C 2.219922 9.293359 1.780078 9.293359 1.780078 9 C 1.780078 8.706641 2.219922 8.706641 2.219922 9 \" transform=\"matrix(10,0,0,10,0,0)\"/>\n",
       "<path style=\"fill:none;stroke-width:0.45;stroke-linecap:butt;stroke-linejoin:miter;stroke:rgb(0%,0%,0%);stroke-opacity:1;stroke-miterlimit:10;\" d=\"M 3.219922 9 C 3.219922 9.293359 2.780078 9.293359 2.780078 9 C 2.780078 8.706641 3.219922 8.706641 3.219922 9 \" transform=\"matrix(10,0,0,10,0,0)\"/>\n",
       "<path style=\"fill:none;stroke-width:0.45;stroke-linecap:butt;stroke-linejoin:miter;stroke:rgb(0%,0%,0%);stroke-opacity:1;stroke-miterlimit:10;\" d=\"M 4.219922 9 C 4.219922 9.293359 3.780078 9.293359 3.780078 9 C 3.780078 8.706641 4.219922 8.706641 4.219922 9 \" transform=\"matrix(10,0,0,10,0,0)\"/>\n",
       "<path style=\"fill:none;stroke-width:0.45;stroke-linecap:butt;stroke-linejoin:miter;stroke:rgb(0%,0%,0%);stroke-opacity:1;stroke-miterlimit:10;\" d=\"M 5.219922 9 C 5.219922 9.293359 4.780078 9.293359 4.780078 9 C 4.780078 8.706641 5.219922 8.706641 5.219922 9 \" transform=\"matrix(10,0,0,10,0,0)\"/>\n",
       "<path style=\"fill:none;stroke-width:0.45;stroke-linecap:butt;stroke-linejoin:miter;stroke:rgb(0%,0%,0%);stroke-opacity:1;stroke-miterlimit:10;\" d=\"M 6.219922 9 C 6.219922 9.293359 5.780078 9.293359 5.780078 9 C 5.780078 8.706641 6.219922 8.706641 6.219922 9 \" transform=\"matrix(10,0,0,10,0,0)\"/>\n",
       "<path style=\"fill:none;stroke-width:0.45;stroke-linecap:butt;stroke-linejoin:miter;stroke:rgb(0%,0%,0%);stroke-opacity:1;stroke-miterlimit:10;\" d=\"M 7.219922 9 C 7.219922 9.293359 6.780078 9.293359 6.780078 9 C 6.780078 8.706641 7.219922 8.706641 7.219922 9 \" transform=\"matrix(10,0,0,10,0,0)\"/>\n",
       "<path style=\"fill:none;stroke-width:0.45;stroke-linecap:butt;stroke-linejoin:miter;stroke:rgb(0%,0%,0%);stroke-opacity:1;stroke-miterlimit:10;\" d=\"M 8.219922 9 C 8.219922 9.293359 7.780078 9.293359 7.780078 9 C 7.780078 8.706641 8.219922 8.706641 8.219922 9 \" transform=\"matrix(10,0,0,10,0,0)\"/>\n",
       "<path style=\"fill:none;stroke-width:0.45;stroke-linecap:butt;stroke-linejoin:miter;stroke:rgb(0%,0%,0%);stroke-opacity:1;stroke-miterlimit:10;\" d=\"M 9.219922 9 C 9.219922 9.293359 8.780078 9.293359 8.780078 9 C 8.780078 8.706641 9.219922 8.706641 9.219922 9 \" transform=\"matrix(10,0,0,10,0,0)\"/>\n",
       "<path style=\"fill:none;stroke-width:0.45;stroke-linecap:butt;stroke-linejoin:miter;stroke:rgb(0%,0%,0%);stroke-opacity:1;stroke-miterlimit:10;\" d=\"M 10.219922 9 C 10.219922 9.293359 9.780078 9.293359 9.780078 9 C 9.780078 8.706641 10.219922 8.706641 10.219922 9 \" transform=\"matrix(10,0,0,10,0,0)\"/>\n",
       "<path style=\"fill:none;stroke-width:0.45;stroke-linecap:butt;stroke-linejoin:miter;stroke:rgb(0%,0%,0%);stroke-opacity:1;stroke-miterlimit:10;\" d=\"M 1.719922 10 C 1.719922 10.293359 1.280078 10.293359 1.280078 10 C 1.280078 9.706641 1.719922 9.706641 1.719922 10 \" transform=\"matrix(10,0,0,10,0,0)\"/>\n",
       "<path style=\"fill:none;stroke-width:0.45;stroke-linecap:butt;stroke-linejoin:miter;stroke:rgb(0%,0%,0%);stroke-opacity:1;stroke-miterlimit:10;\" d=\"M 2.719922 10 C 2.719922 10.293359 2.280078 10.293359 2.280078 10 C 2.280078 9.706641 2.719922 9.706641 2.719922 10 \" transform=\"matrix(10,0,0,10,0,0)\"/>\n",
       "<path style=\"fill:none;stroke-width:0.45;stroke-linecap:butt;stroke-linejoin:miter;stroke:rgb(0%,0%,0%);stroke-opacity:1;stroke-miterlimit:10;\" d=\"M 3.719922 10 C 3.719922 10.293359 3.280078 10.293359 3.280078 10 C 3.280078 9.706641 3.719922 9.706641 3.719922 10 \" transform=\"matrix(10,0,0,10,0,0)\"/>\n",
       "<path style=\"fill:none;stroke-width:0.45;stroke-linecap:butt;stroke-linejoin:miter;stroke:rgb(0%,0%,0%);stroke-opacity:1;stroke-miterlimit:10;\" d=\"M 4.719922 10 C 4.719922 10.293359 4.280078 10.293359 4.280078 10 C 4.280078 9.706641 4.719922 9.706641 4.719922 10 \" transform=\"matrix(10,0,0,10,0,0)\"/>\n",
       "<path style=\"fill:none;stroke-width:0.45;stroke-linecap:butt;stroke-linejoin:miter;stroke:rgb(0%,0%,0%);stroke-opacity:1;stroke-miterlimit:10;\" d=\"M 5.719922 10 C 5.719922 10.293359 5.280078 10.293359 5.280078 10 C 5.280078 9.706641 5.719922 9.706641 5.719922 10 \" transform=\"matrix(10,0,0,10,0,0)\"/>\n",
       "<path style=\"fill:none;stroke-width:0.45;stroke-linecap:butt;stroke-linejoin:miter;stroke:rgb(0%,0%,0%);stroke-opacity:1;stroke-miterlimit:10;\" d=\"M 6.719922 10 C 6.719922 10.293359 6.280078 10.293359 6.280078 10 C 6.280078 9.706641 6.719922 9.706641 6.719922 10 \" transform=\"matrix(10,0,0,10,0,0)\"/>\n",
       "<path style=\"fill:none;stroke-width:0.45;stroke-linecap:butt;stroke-linejoin:miter;stroke:rgb(0%,0%,0%);stroke-opacity:1;stroke-miterlimit:10;\" d=\"M 7.719922 10 C 7.719922 10.293359 7.280078 10.293359 7.280078 10 C 7.280078 9.706641 7.719922 9.706641 7.719922 10 \" transform=\"matrix(10,0,0,10,0,0)\"/>\n",
       "<path style=\"fill:none;stroke-width:0.45;stroke-linecap:butt;stroke-linejoin:miter;stroke:rgb(0%,0%,0%);stroke-opacity:1;stroke-miterlimit:10;\" d=\"M 8.719922 10 C 8.719922 10.293359 8.280078 10.293359 8.280078 10 C 8.280078 9.706641 8.719922 9.706641 8.719922 10 \" transform=\"matrix(10,0,0,10,0,0)\"/>\n",
       "<path style=\"fill:none;stroke-width:0.45;stroke-linecap:butt;stroke-linejoin:miter;stroke:rgb(0%,0%,0%);stroke-opacity:1;stroke-miterlimit:10;\" d=\"M 9.719922 10 C 9.719922 10.293359 9.280078 10.293359 9.280078 10 C 9.280078 9.706641 9.719922 9.706641 9.719922 10 \" transform=\"matrix(10,0,0,10,0,0)\"/>\n",
       "<path style=\"fill:none;stroke-width:0.45;stroke-linecap:butt;stroke-linejoin:miter;stroke:rgb(0%,0%,0%);stroke-opacity:1;stroke-miterlimit:10;\" d=\"M 10.719922 10 C 10.719922 10.293359 10.280078 10.293359 10.280078 10 C 10.280078 9.706641 10.719922 9.706641 10.719922 10 \" transform=\"matrix(10,0,0,10,0,0)\"/>\n",
       "</g>\n",
       "</svg>"
      ],
      "text/plain": [
       "<IPython.core.display.SVG object>"
      ]
     },
     "execution_count": 662,
     "metadata": {},
     "output_type": "execute_result"
    }
   ],
   "source": [
    "def draw_triangular_consecutive_sums(ctx, n):\n",
    "    for sequence_part in range(1, n + 1):\n",
    "        y_offset = sequence_part\n",
    "        x_offset = 1 + (n * 0.55) - (sequence_part / 2)\n",
    "        draw_sequence_part(ctx, sequence_part, x_offset, y_offset)\n",
    "        \n",
    "# Test draw_triangular_consecutive_sums\n",
    "svg = BytesIO()\n",
    "with cairo.SVGSurface(svg, 120, 110) as surface:\n",
    "    ctx = cairo.Context(surface)\n",
    "    ctx.scale(10, 10)\n",
    "    draw_triangular_consecutive_sums(ctx, 10)\n",
    "\n",
    "IPython.display.SVG(data=svg.getvalue())"
   ]
  },
  {
   "cell_type": "markdown",
   "metadata": {},
   "source": [
    "## Fin\n",
    "\n",
    "We could keep going. We could use the sequence to draw circular structures like spirals. We could try drawing in 3 dimmensions. But we'll stop here for now.\n",
    "\n",
    "We first talked about transforming the intuition from a puzzle into an application. Well now you can answer the question: How many blocks do you need to create a starway with 10 stairs? And if you remember to apply Gauss's formula, you don't have to draw and count ahead of time. The formula gives you a model for knowing the answer, without any counting or visualization procedures. \n",
    "\n",
    "There are other applications but more powerful than the specific \"stairs\" application are the general applications. We have a powerful formula to describe triangles! Triangles exist all over the place in nature. We can efficiently calculate \"Triangular Growth\" with very large numbers. Triangles are a foundational tool for other shapes and patterns.\n",
    "\n",
    "Next, we will see how \"Triangular Growth\" is another tool that can be used to find intuition about more complex visual structures. Once we do that we can convert complex visual structures into formulas because they link to triangles. Once we do that we will have gone full circ.e"
   ]
  }
 ],
 "metadata": {
  "kernelspec": {
   "display_name": "Python 3",
   "language": "python",
   "name": "python3"
  },
  "language_info": {
   "codemirror_mode": {
    "name": "ipython",
    "version": 3
   },
   "file_extension": ".py",
   "mimetype": "text/x-python",
   "name": "python",
   "nbconvert_exporter": "python",
   "pygments_lexer": "ipython3",
   "version": "3.9.0"
  }
 },
 "nbformat": 4,
 "nbformat_minor": 4
}

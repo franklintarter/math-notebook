{
 "cells": [
  {
   "cell_type": "markdown",
   "metadata": {},
   "source": [
    "# Gauss\n",
    "\n",
    "Take the sum of a sequence of numbers.\n",
    "\n",
    "`1 + 2 + 3 + 4 + 5 + 6 + 7 + 8 + 9 + 10`\n",
    "\n",
    "Gauss's intuition comes from a procedural solution.\n",
    "- Add the smallest and largest number \n",
    "- Add the next smallest and biggest number until there are no more numbers or one left over\n",
    "\n",
    "`(1 + 10) + (2 + 9) + (3 + 8) + (4 + 7) + (5 + 6)`\n",
    "`11 + 11 + 11 + 11 + 11`\n",
    "\n",
    "All the pair's sum are the same. Once you do the first sum `1 + 10` you can count how many pairs there are and write it as a multiple.\n",
    "\n",
    "`(5)(11) = 55`\n",
    "\n",
    "What if the sequence ends in an odd number? Remember the procedure says to stop when we have one number left over.\n",
    "\n",
    "`1 + 2 + 3 + 4 + 5 + 6 + 7`\n",
    "\n",
    "Sum each pair and leave the number without a pair by itself. The remaining will always be an even number and will be half of the sum of the other pairs. In this case it's 4.\n",
    "\n",
    "`8 + 8 + 8 + 4`\n",
    "\n",
    "Simplified to\n",
    "\n",
    "`(3)(8) + 4 = 28`\n",
    "\n",
    "Once you're satisfied the procedure is accurate, let's work on generalizing it with a formula and then code.\n",
    "\n",
    "## General Formula\n",
    "\n",
    "Our only term will be *n* where *n* is the largest number in the sequence. In our first two examples *n* was *10* and *7* respectively.\n",
    "\n",
    "In procedure we first find the sum of the largest and smallest number. The largest number is itself *n* and the smallest number is *1*. So the factor of the pairs can be expressed as `n + 1`.\n",
    "\n",
    "Next, find the number of pairs. Rather than counting how many pairs there are we can divide *n* by two. The number of pairs is `n / 2`.\n",
    "\n",
    "Once we have the sum of pairs and the number of pairs, we multiply them to get the result. This is our complete formula.\n",
    "\n",
    "`(n / 2)(n + 1)`\n",
    "\n",
    "Let's test this for our first example where `n = 10`\n",
    "\n",
    "`(10 / 2)(10 + 1)`\n",
    "`(5)(11)`\n",
    "`55`\n",
    "\n",
    "We can see formula broken down into the same steps as the procedure but without the counting. This is a good sign. Let's test the other example where `n = 7`.\n",
    "\n",
    "`(7 / 2)(7 + 1)`\n",
    "`(3.5)(8)`\n",
    "`28`\n",
    "\n",
    "We got the correct result. The only difference in steps is that the number without a pair is represented by the `0.5` in the `3.5`. We could've taken an additional step and factored the `0.5` out to get `(3)(8) + 4`. But representing the non-paired number as `0.5` feels intuitive enough.\n",
    "\n",
    "Let's define our Gauss equation in code. We'll make it very verbose."
   ]
  },
  {
   "cell_type": "code",
   "execution_count": 47,
   "metadata": {},
   "outputs": [],
   "source": [
    "# verbose programming version\n",
    "def gauss(n):\n",
    "    pair_sum = 1 + n\n",
    "    number_of_pairs = n / 2\n",
    "    result = pair_sum * number_of_pairs\n",
    "    return int(result)\n",
    "\n",
    "# terse version that looks more like the math equation\n",
    "# def gauss(n):\n",
    "#     return int((n / 2) * (n + 1))"
   ]
  },
  {
   "cell_type": "code",
   "execution_count": 48,
   "metadata": {},
   "outputs": [
    {
     "data": {
      "text/plain": [
       "55"
      ]
     },
     "execution_count": 48,
     "metadata": {},
     "output_type": "execute_result"
    }
   ],
   "source": [
    "gauss(10)"
   ]
  },
  {
   "cell_type": "code",
   "execution_count": 49,
   "metadata": {},
   "outputs": [
    {
     "data": {
      "text/plain": [
       "28"
      ]
     },
     "execution_count": 49,
     "metadata": {},
     "output_type": "execute_result"
    }
   ],
   "source": [
    "gauss(7)"
   ]
  },
  {
   "cell_type": "markdown",
   "metadata": {},
   "source": [
    "### Procedural Version\n",
    "\n",
    "Let's write the most primitive version, what we might have done without any of Gauss intuition."
   ]
  },
  {
   "cell_type": "code",
   "execution_count": 30,
   "metadata": {},
   "outputs": [],
   "source": [
    "def sum_sequence(n):\n",
    "    return sum(range(n + 1))"
   ]
  },
  {
   "cell_type": "code",
   "execution_count": 31,
   "metadata": {},
   "outputs": [
    {
     "data": {
      "text/plain": [
       "55"
      ]
     },
     "execution_count": 31,
     "metadata": {},
     "output_type": "execute_result"
    }
   ],
   "source": [
    "sum_sequence(10)"
   ]
  },
  {
   "cell_type": "code",
   "execution_count": 32,
   "metadata": {},
   "outputs": [
    {
     "data": {
      "text/plain": [
       "28"
      ]
     },
     "execution_count": 32,
     "metadata": {},
     "output_type": "execute_result"
    }
   ],
   "source": [
    "sum_sequence(7)"
   ]
  },
  {
   "cell_type": "markdown",
   "metadata": {},
   "source": [
    "### Procedural vs. Formula\n",
    "\n",
    "Some might argue this looks just as elegant if not more elegant than the formula version. I would argue that it only looks elegant because Python is an elegant language. There's nothing elegant about what's happening. The computer is doing it the hard way just as it's hard to sum each number in the sequence in your head, especially as *n* gets very large."
   ]
  },
  {
   "cell_type": "markdown",
   "metadata": {},
   "source": []
  }
 ],
 "metadata": {
  "kernelspec": {
   "display_name": "Python 3",
   "language": "python",
   "name": "python3"
  },
  "language_info": {
   "codemirror_mode": {
    "name": "ipython",
    "version": 3
   },
   "file_extension": ".py",
   "mimetype": "text/x-python",
   "name": "python",
   "nbconvert_exporter": "python",
   "pygments_lexer": "ipython3",
   "version": "3.9.0"
  }
 },
 "nbformat": 4,
 "nbformat_minor": 4
}

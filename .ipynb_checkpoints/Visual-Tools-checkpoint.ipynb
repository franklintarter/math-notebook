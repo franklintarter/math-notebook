{
 "cells": [
  {
   "cell_type": "markdown",
   "metadata": {},
   "source": [
    "# Visual Tools\n",
    "\n",
    "Last lesson we used three tools to find a better solution for consecutive sums.\n",
    "\n",
    "* Apply tools from other problems\n",
    "* Look for patterns\n",
    "* Look for simplifications\n",
    "\n",
    "Now we're going to take a different approach, a visual approach. Since we are in a digital notebook we will use code to draw. Please note that the drawing code is not really the point of the exercise. Pen and paper would be a better choice than code for discovery by virtue of quickly trying something out and scrapping it, trying something else."
   ]
  },
  {
   "cell_type": "markdown",
   "metadata": {},
   "source": [
    "## Basic Drawing Code\n",
    "\n",
    "Import the Python libraries."
   ]
  },
  {
   "cell_type": "code",
   "execution_count": 1,
   "metadata": {},
   "outputs": [],
   "source": [
    "from io import BytesIO\n",
    "\n",
    "import cairo\n",
    "import IPython.display\n",
    "import math"
   ]
  },
  {
   "cell_type": "markdown",
   "metadata": {},
   "source": [
    "Now some code to represent a single value or unit. Any shape will do. We'll use a circle."
   ]
  },
  {
   "cell_type": "code",
   "execution_count": 2,
   "metadata": {},
   "outputs": [
    {
     "data": {
      "image/svg+xml": [
       "<svg xmlns=\"http://www.w3.org/2000/svg\" xmlns:xlink=\"http://www.w3.org/1999/xlink\" width=\"20pt\" height=\"20pt\" viewBox=\"0 0 20 20\" version=\"1.1\">\n",
       "<g id=\"surface1\">\n",
       "<path style=\"fill:none;stroke-width:0.45;stroke-linecap:butt;stroke-linejoin:miter;stroke:rgb(0%,0%,0%);stroke-opacity:1;stroke-miterlimit:10;\" d=\"M 1.219922 1 C 1.219922 1.293359 0.780078 1.293359 0.780078 1 C 0.780078 0.706641 1.219922 0.706641 1.219922 1 \" transform=\"matrix(10,0,0,10,0,0)\"/>\n",
       "</g>\n",
       "</svg>"
      ],
      "text/plain": [
       "<IPython.core.display.SVG object>"
      ]
     },
     "execution_count": 2,
     "metadata": {},
     "output_type": "execute_result"
    }
   ],
   "source": [
    "def draw_circle(ctx, x, y):\n",
    "    ctx.set_line_width(0.45)\n",
    "    ctx.arc(x, y, 0.22, 0, 2*math.pi)\n",
    "    ctx.stroke()\n",
    "\n",
    "# Test draw_circle\n",
    "svg = BytesIO()\n",
    "with cairo.SVGSurface(svg, 20, 20) as surface:\n",
    "    ctx = cairo.Context(surface)\n",
    "    ctx.scale(10, 10)\n",
    "    draw_circle(ctx, 1, 1)\n",
    "    \n",
    "IPython.display.SVG(data=svg.getvalue())"
   ]
  },
  {
   "cell_type": "markdown",
   "metadata": {},
   "source": [
    "Now a function to draw \"part\" of the sequence. For example the first part of the sequence would be a single circle, the second would be two circles, etc.."
   ]
  },
  {
   "cell_type": "code",
   "execution_count": 3,
   "metadata": {},
   "outputs": [
    {
     "data": {
      "image/svg+xml": [
       "<svg xmlns=\"http://www.w3.org/2000/svg\" xmlns:xlink=\"http://www.w3.org/1999/xlink\" width=\"100pt\" height=\"20pt\" viewBox=\"0 0 100 20\" version=\"1.1\">\n",
       "<g id=\"surface6\">\n",
       "<path style=\"fill:none;stroke-width:0.45;stroke-linecap:butt;stroke-linejoin:miter;stroke:rgb(0%,0%,0%);stroke-opacity:1;stroke-miterlimit:10;\" d=\"M 1.219922 1 C 1.219922 1.293359 0.780078 1.293359 0.780078 1 C 0.780078 0.706641 1.219922 0.706641 1.219922 1 \" transform=\"matrix(10,0,0,10,0,0)\"/>\n",
       "<path style=\"fill:none;stroke-width:0.45;stroke-linecap:butt;stroke-linejoin:miter;stroke:rgb(0%,0%,0%);stroke-opacity:1;stroke-miterlimit:10;\" d=\"M 2.219922 1 C 2.219922 1.293359 1.780078 1.293359 1.780078 1 C 1.780078 0.706641 2.219922 0.706641 2.219922 1 \" transform=\"matrix(10,0,0,10,0,0)\"/>\n",
       "<path style=\"fill:none;stroke-width:0.45;stroke-linecap:butt;stroke-linejoin:miter;stroke:rgb(0%,0%,0%);stroke-opacity:1;stroke-miterlimit:10;\" d=\"M 3.219922 1 C 3.219922 1.293359 2.780078 1.293359 2.780078 1 C 2.780078 0.706641 3.219922 0.706641 3.219922 1 \" transform=\"matrix(10,0,0,10,0,0)\"/>\n",
       "<path style=\"fill:none;stroke-width:0.45;stroke-linecap:butt;stroke-linejoin:miter;stroke:rgb(0%,0%,0%);stroke-opacity:1;stroke-miterlimit:10;\" d=\"M 4.219922 1 C 4.219922 1.293359 3.780078 1.293359 3.780078 1 C 3.780078 0.706641 4.219922 0.706641 4.219922 1 \" transform=\"matrix(10,0,0,10,0,0)\"/>\n",
       "<path style=\"fill:none;stroke-width:0.45;stroke-linecap:butt;stroke-linejoin:miter;stroke:rgb(0%,0%,0%);stroke-opacity:1;stroke-miterlimit:10;\" d=\"M 5.219922 1 C 5.219922 1.293359 4.780078 1.293359 4.780078 1 C 4.780078 0.706641 5.219922 0.706641 5.219922 1 \" transform=\"matrix(10,0,0,10,0,0)\"/>\n",
       "</g>\n",
       "</svg>"
      ],
      "text/plain": [
       "<IPython.core.display.SVG object>"
      ]
     },
     "execution_count": 3,
     "metadata": {},
     "output_type": "execute_result"
    }
   ],
   "source": [
    "def draw_sequence_part(ctx, number_in_sequence, x_origin, y_origin):\n",
    "    for c in range(number_in_sequence):\n",
    "        x_offset = c\n",
    "        draw_circle(ctx, x_origin + x_offset, y_origin)\n",
    "        \n",
    "# Test draw_sequence_part   \n",
    "svg = BytesIO()\n",
    "with cairo.SVGSurface(svg, 100, 20) as surface:\n",
    "    ctx = cairo.Context(surface)\n",
    "    ctx.scale(10, 10)\n",
    "    draw_sequence_part(ctx, 5, 1, 1)\n",
    "    \n",
    "IPython.display.SVG(data=svg.getvalue())"
   ]
  },
  {
   "cell_type": "markdown",
   "metadata": {},
   "source": [
    "That's it for our \"low-level\" drawing code."
   ]
  },
  {
   "cell_type": "markdown",
   "metadata": {},
   "source": [
    "## First Iteration\n",
    "\n",
    "For our first iteration let's do something simple. Let's lay all the parts of the sequence flat from left to right, separated by horizontal space."
   ]
  },
  {
   "cell_type": "code",
   "execution_count": 4,
   "metadata": {},
   "outputs": [
    {
     "data": {
      "image/svg+xml": [
       "<svg xmlns=\"http://www.w3.org/2000/svg\" xmlns:xlink=\"http://www.w3.org/1999/xlink\" width=\"1000pt\" height=\"20pt\" viewBox=\"0 0 1000 20\" version=\"1.1\">\n",
       "<g id=\"surface11\">\n",
       "<path style=\"fill:none;stroke-width:0.45;stroke-linecap:butt;stroke-linejoin:miter;stroke:rgb(0%,0%,0%);stroke-opacity:1;stroke-miterlimit:10;\" d=\"M 1.219922 1 C 1.219922 1.293359 0.780078 1.293359 0.780078 1 C 0.780078 0.706641 1.219922 0.706641 1.219922 1 \" transform=\"matrix(10,0,0,10,0,0)\"/>\n",
       "<path style=\"fill:none;stroke-width:0.45;stroke-linecap:butt;stroke-linejoin:miter;stroke:rgb(0%,0%,0%);stroke-opacity:1;stroke-miterlimit:10;\" d=\"M 3.219922 1 C 3.219922 1.293359 2.780078 1.293359 2.780078 1 C 2.780078 0.706641 3.219922 0.706641 3.219922 1 \" transform=\"matrix(10,0,0,10,0,0)\"/>\n",
       "<path style=\"fill:none;stroke-width:0.45;stroke-linecap:butt;stroke-linejoin:miter;stroke:rgb(0%,0%,0%);stroke-opacity:1;stroke-miterlimit:10;\" d=\"M 4.219922 1 C 4.219922 1.293359 3.780078 1.293359 3.780078 1 C 3.780078 0.706641 4.219922 0.706641 4.219922 1 \" transform=\"matrix(10,0,0,10,0,0)\"/>\n",
       "<path style=\"fill:none;stroke-width:0.45;stroke-linecap:butt;stroke-linejoin:miter;stroke:rgb(0%,0%,0%);stroke-opacity:1;stroke-miterlimit:10;\" d=\"M 6.219922 1 C 6.219922 1.293359 5.780078 1.293359 5.780078 1 C 5.780078 0.706641 6.219922 0.706641 6.219922 1 \" transform=\"matrix(10,0,0,10,0,0)\"/>\n",
       "<path style=\"fill:none;stroke-width:0.45;stroke-linecap:butt;stroke-linejoin:miter;stroke:rgb(0%,0%,0%);stroke-opacity:1;stroke-miterlimit:10;\" d=\"M 7.219922 1 C 7.219922 1.293359 6.780078 1.293359 6.780078 1 C 6.780078 0.706641 7.219922 0.706641 7.219922 1 \" transform=\"matrix(10,0,0,10,0,0)\"/>\n",
       "<path style=\"fill:none;stroke-width:0.45;stroke-linecap:butt;stroke-linejoin:miter;stroke:rgb(0%,0%,0%);stroke-opacity:1;stroke-miterlimit:10;\" d=\"M 8.219922 1 C 8.219922 1.293359 7.780078 1.293359 7.780078 1 C 7.780078 0.706641 8.219922 0.706641 8.219922 1 \" transform=\"matrix(10,0,0,10,0,0)\"/>\n",
       "<path style=\"fill:none;stroke-width:0.45;stroke-linecap:butt;stroke-linejoin:miter;stroke:rgb(0%,0%,0%);stroke-opacity:1;stroke-miterlimit:10;\" d=\"M 10.219922 1 C 10.219922 1.293359 9.780078 1.293359 9.780078 1 C 9.780078 0.706641 10.219922 0.706641 10.219922 1 \" transform=\"matrix(10,0,0,10,0,0)\"/>\n",
       "<path style=\"fill:none;stroke-width:0.45;stroke-linecap:butt;stroke-linejoin:miter;stroke:rgb(0%,0%,0%);stroke-opacity:1;stroke-miterlimit:10;\" d=\"M 11.219922 1 C 11.219922 1.293359 10.780078 1.293359 10.780078 1 C 10.780078 0.706641 11.219922 0.706641 11.219922 1 \" transform=\"matrix(10,0,0,10,0,0)\"/>\n",
       "<path style=\"fill:none;stroke-width:0.45;stroke-linecap:butt;stroke-linejoin:miter;stroke:rgb(0%,0%,0%);stroke-opacity:1;stroke-miterlimit:10;\" d=\"M 12.219922 1 C 12.219922 1.293359 11.780078 1.293359 11.780078 1 C 11.780078 0.706641 12.219922 0.706641 12.219922 1 \" transform=\"matrix(10,0,0,10,0,0)\"/>\n",
       "<path style=\"fill:none;stroke-width:0.45;stroke-linecap:butt;stroke-linejoin:miter;stroke:rgb(0%,0%,0%);stroke-opacity:1;stroke-miterlimit:10;\" d=\"M 13.219922 1 C 13.219922 1.293359 12.780078 1.293359 12.780078 1 C 12.780078 0.706641 13.219922 0.706641 13.219922 1 \" transform=\"matrix(10,0,0,10,0,0)\"/>\n",
       "<path style=\"fill:none;stroke-width:0.45;stroke-linecap:butt;stroke-linejoin:miter;stroke:rgb(0%,0%,0%);stroke-opacity:1;stroke-miterlimit:10;\" d=\"M 15.219922 1 C 15.219922 1.293359 14.780078 1.293359 14.780078 1 C 14.780078 0.706641 15.219922 0.706641 15.219922 1 \" transform=\"matrix(10,0,0,10,0,0)\"/>\n",
       "<path style=\"fill:none;stroke-width:0.45;stroke-linecap:butt;stroke-linejoin:miter;stroke:rgb(0%,0%,0%);stroke-opacity:1;stroke-miterlimit:10;\" d=\"M 16.219922 1 C 16.219922 1.293359 15.780078 1.293359 15.780078 1 C 15.780078 0.706641 16.219922 0.706641 16.219922 1 \" transform=\"matrix(10,0,0,10,0,0)\"/>\n",
       "<path style=\"fill:none;stroke-width:0.45;stroke-linecap:butt;stroke-linejoin:miter;stroke:rgb(0%,0%,0%);stroke-opacity:1;stroke-miterlimit:10;\" d=\"M 17.219922 1 C 17.219922 1.293359 16.780078 1.293359 16.780078 1 C 16.780078 0.706641 17.219922 0.706641 17.219922 1 \" transform=\"matrix(10,0,0,10,0,0)\"/>\n",
       "<path style=\"fill:none;stroke-width:0.45;stroke-linecap:butt;stroke-linejoin:miter;stroke:rgb(0%,0%,0%);stroke-opacity:1;stroke-miterlimit:10;\" d=\"M 18.219922 1 C 18.219922 1.293359 17.780078 1.293359 17.780078 1 C 17.780078 0.706641 18.219922 0.706641 18.219922 1 \" transform=\"matrix(10,0,0,10,0,0)\"/>\n",
       "<path style=\"fill:none;stroke-width:0.45;stroke-linecap:butt;stroke-linejoin:miter;stroke:rgb(0%,0%,0%);stroke-opacity:1;stroke-miterlimit:10;\" d=\"M 19.219922 1 C 19.219922 1.293359 18.780078 1.293359 18.780078 1 C 18.780078 0.706641 19.219922 0.706641 19.219922 1 \" transform=\"matrix(10,0,0,10,0,0)\"/>\n",
       "</g>\n",
       "</svg>"
      ],
      "text/plain": [
       "<IPython.core.display.SVG object>"
      ]
     },
     "execution_count": 4,
     "metadata": {},
     "output_type": "execute_result"
    }
   ],
   "source": [
    "def draw_consecutive_sums_flat(ctx, n):\n",
    "    x_offset = 1\n",
    "    for sequence_part in range(1, n + 1):\n",
    "        draw_sequence_part(ctx, sequence_part, x_offset, 1)\n",
    "        x_offset += sequence_part + 1\n",
    "        \n",
    "# Test draw_consecutive_sums_flat   \n",
    "svg = BytesIO()\n",
    "with cairo.SVGSurface(svg, 1000, 20) as surface:\n",
    "    ctx = cairo.Context(surface)\n",
    "    ctx.scale(10, 10)\n",
    "    draw_consecutive_sums_flat(ctx, 5)\n",
    "    \n",
    "IPython.display.SVG(data=svg.getvalue())"
   ]
  },
  {
   "cell_type": "markdown",
   "metadata": {},
   "source": [
    "Now we have something drawn. But it doesn't give us much intuition. It more or less looks like the original sequence written out with numbers.\n",
    "\n",
    "```\n",
    "1 + 2 + 3 + 4 + 5\n",
    "```\n",
    "\n",
    "We could make it even look the same if we wrote all the circles as ones.\n",
    "\n",
    "```\n",
    "(1) + (1 + 1) + (1 + 1 + 1) + (1 + 1 + 1 + 1) + (1 + 1 + 1 + 1 + 1)\n",
    "```\n",
    "\n",
    "I'd say not much intuition gained by drawing it ths way. But we're ready to try some new things."
   ]
  },
  {
   "cell_type": "markdown",
   "metadata": {},
   "source": [
    "## Second Iteration\n",
    "\n",
    "Let's experiment with how we separate the sequence parts. Rather than push them apart horizontally let's stack vertically."
   ]
  },
  {
   "cell_type": "code",
   "execution_count": 5,
   "metadata": {},
   "outputs": [
    {
     "data": {
      "image/svg+xml": [
       "<svg xmlns=\"http://www.w3.org/2000/svg\" xmlns:xlink=\"http://www.w3.org/1999/xlink\" width=\"100pt\" height=\"60pt\" viewBox=\"0 0 100 60\" version=\"1.1\">\n",
       "<g id=\"surface16\">\n",
       "<path style=\"fill:none;stroke-width:0.45;stroke-linecap:butt;stroke-linejoin:miter;stroke:rgb(0%,0%,0%);stroke-opacity:1;stroke-miterlimit:10;\" d=\"M 1.219922 1 C 1.219922 1.293359 0.780078 1.293359 0.780078 1 C 0.780078 0.706641 1.219922 0.706641 1.219922 1 \" transform=\"matrix(10,0,0,10,0,0)\"/>\n",
       "<path style=\"fill:none;stroke-width:0.45;stroke-linecap:butt;stroke-linejoin:miter;stroke:rgb(0%,0%,0%);stroke-opacity:1;stroke-miterlimit:10;\" d=\"M 1.219922 2 C 1.219922 2.293359 0.780078 2.293359 0.780078 2 C 0.780078 1.706641 1.219922 1.706641 1.219922 2 \" transform=\"matrix(10,0,0,10,0,0)\"/>\n",
       "<path style=\"fill:none;stroke-width:0.45;stroke-linecap:butt;stroke-linejoin:miter;stroke:rgb(0%,0%,0%);stroke-opacity:1;stroke-miterlimit:10;\" d=\"M 2.219922 2 C 2.219922 2.293359 1.780078 2.293359 1.780078 2 C 1.780078 1.706641 2.219922 1.706641 2.219922 2 \" transform=\"matrix(10,0,0,10,0,0)\"/>\n",
       "<path style=\"fill:none;stroke-width:0.45;stroke-linecap:butt;stroke-linejoin:miter;stroke:rgb(0%,0%,0%);stroke-opacity:1;stroke-miterlimit:10;\" d=\"M 1.219922 3 C 1.219922 3.293359 0.780078 3.293359 0.780078 3 C 0.780078 2.706641 1.219922 2.706641 1.219922 3 \" transform=\"matrix(10,0,0,10,0,0)\"/>\n",
       "<path style=\"fill:none;stroke-width:0.45;stroke-linecap:butt;stroke-linejoin:miter;stroke:rgb(0%,0%,0%);stroke-opacity:1;stroke-miterlimit:10;\" d=\"M 2.219922 3 C 2.219922 3.293359 1.780078 3.293359 1.780078 3 C 1.780078 2.706641 2.219922 2.706641 2.219922 3 \" transform=\"matrix(10,0,0,10,0,0)\"/>\n",
       "<path style=\"fill:none;stroke-width:0.45;stroke-linecap:butt;stroke-linejoin:miter;stroke:rgb(0%,0%,0%);stroke-opacity:1;stroke-miterlimit:10;\" d=\"M 3.219922 3 C 3.219922 3.293359 2.780078 3.293359 2.780078 3 C 2.780078 2.706641 3.219922 2.706641 3.219922 3 \" transform=\"matrix(10,0,0,10,0,0)\"/>\n",
       "<path style=\"fill:none;stroke-width:0.45;stroke-linecap:butt;stroke-linejoin:miter;stroke:rgb(0%,0%,0%);stroke-opacity:1;stroke-miterlimit:10;\" d=\"M 1.219922 4 C 1.219922 4.293359 0.780078 4.293359 0.780078 4 C 0.780078 3.706641 1.219922 3.706641 1.219922 4 \" transform=\"matrix(10,0,0,10,0,0)\"/>\n",
       "<path style=\"fill:none;stroke-width:0.45;stroke-linecap:butt;stroke-linejoin:miter;stroke:rgb(0%,0%,0%);stroke-opacity:1;stroke-miterlimit:10;\" d=\"M 2.219922 4 C 2.219922 4.293359 1.780078 4.293359 1.780078 4 C 1.780078 3.706641 2.219922 3.706641 2.219922 4 \" transform=\"matrix(10,0,0,10,0,0)\"/>\n",
       "<path style=\"fill:none;stroke-width:0.45;stroke-linecap:butt;stroke-linejoin:miter;stroke:rgb(0%,0%,0%);stroke-opacity:1;stroke-miterlimit:10;\" d=\"M 3.219922 4 C 3.219922 4.293359 2.780078 4.293359 2.780078 4 C 2.780078 3.706641 3.219922 3.706641 3.219922 4 \" transform=\"matrix(10,0,0,10,0,0)\"/>\n",
       "<path style=\"fill:none;stroke-width:0.45;stroke-linecap:butt;stroke-linejoin:miter;stroke:rgb(0%,0%,0%);stroke-opacity:1;stroke-miterlimit:10;\" d=\"M 4.219922 4 C 4.219922 4.293359 3.780078 4.293359 3.780078 4 C 3.780078 3.706641 4.219922 3.706641 4.219922 4 \" transform=\"matrix(10,0,0,10,0,0)\"/>\n",
       "<path style=\"fill:none;stroke-width:0.45;stroke-linecap:butt;stroke-linejoin:miter;stroke:rgb(0%,0%,0%);stroke-opacity:1;stroke-miterlimit:10;\" d=\"M 1.219922 5 C 1.219922 5.293359 0.780078 5.293359 0.780078 5 C 0.780078 4.706641 1.219922 4.706641 1.219922 5 \" transform=\"matrix(10,0,0,10,0,0)\"/>\n",
       "<path style=\"fill:none;stroke-width:0.45;stroke-linecap:butt;stroke-linejoin:miter;stroke:rgb(0%,0%,0%);stroke-opacity:1;stroke-miterlimit:10;\" d=\"M 2.219922 5 C 2.219922 5.293359 1.780078 5.293359 1.780078 5 C 1.780078 4.706641 2.219922 4.706641 2.219922 5 \" transform=\"matrix(10,0,0,10,0,0)\"/>\n",
       "<path style=\"fill:none;stroke-width:0.45;stroke-linecap:butt;stroke-linejoin:miter;stroke:rgb(0%,0%,0%);stroke-opacity:1;stroke-miterlimit:10;\" d=\"M 3.219922 5 C 3.219922 5.293359 2.780078 5.293359 2.780078 5 C 2.780078 4.706641 3.219922 4.706641 3.219922 5 \" transform=\"matrix(10,0,0,10,0,0)\"/>\n",
       "<path style=\"fill:none;stroke-width:0.45;stroke-linecap:butt;stroke-linejoin:miter;stroke:rgb(0%,0%,0%);stroke-opacity:1;stroke-miterlimit:10;\" d=\"M 4.219922 5 C 4.219922 5.293359 3.780078 5.293359 3.780078 5 C 3.780078 4.706641 4.219922 4.706641 4.219922 5 \" transform=\"matrix(10,0,0,10,0,0)\"/>\n",
       "<path style=\"fill:none;stroke-width:0.45;stroke-linecap:butt;stroke-linejoin:miter;stroke:rgb(0%,0%,0%);stroke-opacity:1;stroke-miterlimit:10;\" d=\"M 5.219922 5 C 5.219922 5.293359 4.780078 5.293359 4.780078 5 C 4.780078 4.706641 5.219922 4.706641 5.219922 5 \" transform=\"matrix(10,0,0,10,0,0)\"/>\n",
       "</g>\n",
       "</svg>"
      ],
      "text/plain": [
       "<IPython.core.display.SVG object>"
      ]
     },
     "execution_count": 5,
     "metadata": {},
     "output_type": "execute_result"
    }
   ],
   "source": [
    "def draw_consecutive_sums_stacked(ctx, n):\n",
    "    for sequence_part in range(1, n + 1):\n",
    "        y_offset = sequence_part\n",
    "        draw_sequence_part(ctx, sequence_part, 1, y_offset)\n",
    "        \n",
    "# Test draw_consecutive_sums_stacked\n",
    "svg = BytesIO()\n",
    "with cairo.SVGSurface(svg, 100, 60) as surface:\n",
    "    ctx = cairo.Context(surface)\n",
    "    ctx.scale(10, 10)\n",
    "    draw_consecutive_sums_stacked(ctx, 5)\n",
    "    \n",
    "IPython.display.SVG(data=svg.getvalue())"
   ]
  },
  {
   "cell_type": "markdown",
   "metadata": {},
   "source": [
    "Unlike the flat drawing, this visual tells us something. It's telling us that consecutive sums might describe several things we see in the real world. It looks like stairs. It looks like a steady slope."
   ]
  },
  {
   "cell_type": "markdown",
   "metadata": {},
   "source": [
    "## Third Iteration\n",
    "\n",
    "With just a little tweaking we could draw consecutive sums like a triangle."
   ]
  },
  {
   "cell_type": "code",
   "execution_count": 6,
   "metadata": {},
   "outputs": [
    {
     "data": {
      "image/svg+xml": [
       "<svg xmlns=\"http://www.w3.org/2000/svg\" xmlns:xlink=\"http://www.w3.org/1999/xlink\" width=\"120pt\" height=\"55pt\" viewBox=\"0 0 120 55\" version=\"1.1\">\n",
       "<g id=\"surface21\">\n",
       "<path style=\"fill:none;stroke-width:0.45;stroke-linecap:butt;stroke-linejoin:miter;stroke:rgb(0%,0%,0%);stroke-opacity:1;stroke-miterlimit:10;\" d=\"M 3.469922 1 C 3.469922 1.293359 3.030078 1.293359 3.030078 1 C 3.030078 0.706641 3.469922 0.706641 3.469922 1 \" transform=\"matrix(10,0,0,10,0,0)\"/>\n",
       "<path style=\"fill:none;stroke-width:0.45;stroke-linecap:butt;stroke-linejoin:miter;stroke:rgb(0%,0%,0%);stroke-opacity:1;stroke-miterlimit:10;\" d=\"M 2.969922 2 C 2.969922 2.293359 2.530078 2.293359 2.530078 2 C 2.530078 1.706641 2.969922 1.706641 2.969922 2 \" transform=\"matrix(10,0,0,10,0,0)\"/>\n",
       "<path style=\"fill:none;stroke-width:0.45;stroke-linecap:butt;stroke-linejoin:miter;stroke:rgb(0%,0%,0%);stroke-opacity:1;stroke-miterlimit:10;\" d=\"M 3.969922 2 C 3.969922 2.293359 3.530078 2.293359 3.530078 2 C 3.530078 1.706641 3.969922 1.706641 3.969922 2 \" transform=\"matrix(10,0,0,10,0,0)\"/>\n",
       "<path style=\"fill:none;stroke-width:0.45;stroke-linecap:butt;stroke-linejoin:miter;stroke:rgb(0%,0%,0%);stroke-opacity:1;stroke-miterlimit:10;\" d=\"M 2.469922 3 C 2.469922 3.293359 2.030078 3.293359 2.030078 3 C 2.030078 2.706641 2.469922 2.706641 2.469922 3 \" transform=\"matrix(10,0,0,10,0,0)\"/>\n",
       "<path style=\"fill:none;stroke-width:0.45;stroke-linecap:butt;stroke-linejoin:miter;stroke:rgb(0%,0%,0%);stroke-opacity:1;stroke-miterlimit:10;\" d=\"M 3.469922 3 C 3.469922 3.293359 3.030078 3.293359 3.030078 3 C 3.030078 2.706641 3.469922 2.706641 3.469922 3 \" transform=\"matrix(10,0,0,10,0,0)\"/>\n",
       "<path style=\"fill:none;stroke-width:0.45;stroke-linecap:butt;stroke-linejoin:miter;stroke:rgb(0%,0%,0%);stroke-opacity:1;stroke-miterlimit:10;\" d=\"M 4.469922 3 C 4.469922 3.293359 4.030078 3.293359 4.030078 3 C 4.030078 2.706641 4.469922 2.706641 4.469922 3 \" transform=\"matrix(10,0,0,10,0,0)\"/>\n",
       "<path style=\"fill:none;stroke-width:0.45;stroke-linecap:butt;stroke-linejoin:miter;stroke:rgb(0%,0%,0%);stroke-opacity:1;stroke-miterlimit:10;\" d=\"M 1.969922 4 C 1.969922 4.293359 1.530078 4.293359 1.530078 4 C 1.530078 3.706641 1.969922 3.706641 1.969922 4 \" transform=\"matrix(10,0,0,10,0,0)\"/>\n",
       "<path style=\"fill:none;stroke-width:0.45;stroke-linecap:butt;stroke-linejoin:miter;stroke:rgb(0%,0%,0%);stroke-opacity:1;stroke-miterlimit:10;\" d=\"M 2.969922 4 C 2.969922 4.293359 2.530078 4.293359 2.530078 4 C 2.530078 3.706641 2.969922 3.706641 2.969922 4 \" transform=\"matrix(10,0,0,10,0,0)\"/>\n",
       "<path style=\"fill:none;stroke-width:0.45;stroke-linecap:butt;stroke-linejoin:miter;stroke:rgb(0%,0%,0%);stroke-opacity:1;stroke-miterlimit:10;\" d=\"M 3.969922 4 C 3.969922 4.293359 3.530078 4.293359 3.530078 4 C 3.530078 3.706641 3.969922 3.706641 3.969922 4 \" transform=\"matrix(10,0,0,10,0,0)\"/>\n",
       "<path style=\"fill:none;stroke-width:0.45;stroke-linecap:butt;stroke-linejoin:miter;stroke:rgb(0%,0%,0%);stroke-opacity:1;stroke-miterlimit:10;\" d=\"M 4.969922 4 C 4.969922 4.293359 4.530078 4.293359 4.530078 4 C 4.530078 3.706641 4.969922 3.706641 4.969922 4 \" transform=\"matrix(10,0,0,10,0,0)\"/>\n",
       "<path style=\"fill:none;stroke-width:0.45;stroke-linecap:butt;stroke-linejoin:miter;stroke:rgb(0%,0%,0%);stroke-opacity:1;stroke-miterlimit:10;\" d=\"M 1.469922 5 C 1.469922 5.293359 1.030078 5.293359 1.030078 5 C 1.030078 4.706641 1.469922 4.706641 1.469922 5 \" transform=\"matrix(10,0,0,10,0,0)\"/>\n",
       "<path style=\"fill:none;stroke-width:0.45;stroke-linecap:butt;stroke-linejoin:miter;stroke:rgb(0%,0%,0%);stroke-opacity:1;stroke-miterlimit:10;\" d=\"M 2.469922 5 C 2.469922 5.293359 2.030078 5.293359 2.030078 5 C 2.030078 4.706641 2.469922 4.706641 2.469922 5 \" transform=\"matrix(10,0,0,10,0,0)\"/>\n",
       "<path style=\"fill:none;stroke-width:0.45;stroke-linecap:butt;stroke-linejoin:miter;stroke:rgb(0%,0%,0%);stroke-opacity:1;stroke-miterlimit:10;\" d=\"M 3.469922 5 C 3.469922 5.293359 3.030078 5.293359 3.030078 5 C 3.030078 4.706641 3.469922 4.706641 3.469922 5 \" transform=\"matrix(10,0,0,10,0,0)\"/>\n",
       "<path style=\"fill:none;stroke-width:0.45;stroke-linecap:butt;stroke-linejoin:miter;stroke:rgb(0%,0%,0%);stroke-opacity:1;stroke-miterlimit:10;\" d=\"M 4.469922 5 C 4.469922 5.293359 4.030078 5.293359 4.030078 5 C 4.030078 4.706641 4.469922 4.706641 4.469922 5 \" transform=\"matrix(10,0,0,10,0,0)\"/>\n",
       "<path style=\"fill:none;stroke-width:0.45;stroke-linecap:butt;stroke-linejoin:miter;stroke:rgb(0%,0%,0%);stroke-opacity:1;stroke-miterlimit:10;\" d=\"M 5.469922 5 C 5.469922 5.293359 5.030078 5.293359 5.030078 5 C 5.030078 4.706641 5.469922 4.706641 5.469922 5 \" transform=\"matrix(10,0,0,10,0,0)\"/>\n",
       "</g>\n",
       "</svg>"
      ],
      "text/plain": [
       "<IPython.core.display.SVG object>"
      ]
     },
     "execution_count": 6,
     "metadata": {},
     "output_type": "execute_result"
    }
   ],
   "source": [
    "def draw_triangular_consecutive_sums(ctx, n):\n",
    "    for sequence_part in range(1, n + 1):\n",
    "        y_offset = sequence_part\n",
    "        x_offset = 1 + (n * 0.55) - (sequence_part / 2)\n",
    "        draw_sequence_part(ctx, sequence_part, x_offset, y_offset)\n",
    "        \n",
    "# Test draw_triangular_consecutive_sums\n",
    "svg = BytesIO()\n",
    "with cairo.SVGSurface(svg, 120, 55) as surface:\n",
    "    ctx = cairo.Context(surface)\n",
    "    ctx.scale(10, 10)\n",
    "    draw_triangular_consecutive_sums(ctx, 5)\n",
    "\n",
    "IPython.display.SVG(data=svg.getvalue())"
   ]
  },
  {
   "cell_type": "markdown",
   "metadata": {},
   "source": [
    "## Other Possible Iterations\n",
    "\n",
    "We could keep going. We could use the sequence to draw circular structures like spirals. We could draw in 3 dimmensions. We'll stop with the stairs and triangle and think about what that means."
   ]
  },
  {
   "cell_type": "markdown",
   "metadata": {},
   "source": [
    "## Applications\n",
    "\n",
    "When solving something consecutive sums it may seem like merely puzzle solving. It's cool. It's elegant but is it useful? Where is the application?\n",
    "\n",
    "Applications are ultimately what we want. How does the consecutive sum formula become useful in the real world?\n",
    "\n",
    "### Sequences in Nature\n",
    "\n",
    "Consecutive sums is a sequence, a pattern that repeats. Sequences and patterns exist everywhere in nature. We relate to these patterns in nature visually, or with other senses. \n",
    "\n",
    "<img src=\"images/flower-2.jpg\" height=\"250\" width=\"250\">\n",
    "\n",
    "<span stype=\"font-size: 6px;\">Photo by <a href=\"https://unsplash.com/@studiokiek?utm_source=unsplash&amp;utm_medium=referral&amp;utm_content=creditCopyText\">Kiki Siepel</a></span>\n",
    "\n",
    "Looking at numbers and formulas might not give us the hint that the sequence represents a physical, natural structure. Byt by drawing consecutive sums we've found that it describes a very foundational physical structure, a triangle.\n",
    "\n",
    "So did this visual representation help us find an alternative formula yet? No, though there might be a way to geometrically prove the formula. But what we did find was applications for our formula.\n",
    "\n",
    "### A Silly Application\n",
    "\n",
    "How many blocks do you need to create a starway with x number of stairs? You could apply Guass's formula and write an application to improve the lives of all the stair builders everywhere. You can do this because you know both the efficient formula and that it applies to certain types of problems – Stairlike problems and Trianglelike problems.\n",
    "\n",
    "### New Foundational Tools\n",
    "\n",
    "Remember in the last lesson how we said a good way to find new solutions is to apply tools from existing knowledge. Well now we've added a new foundational tool. The next triangular or stair growth problem we encounter, we can come back to consecutive sums and reference all the intuition we've gathered from it.\n",
    "\n",
    "Next we will push this idea farther. We'll apply consecutive sums as a subtool in a more complex problem."
   ]
  }
 ],
 "metadata": {
  "kernelspec": {
   "display_name": "Python 3",
   "language": "python",
   "name": "python3"
  },
  "language_info": {
   "codemirror_mode": {
    "name": "ipython",
    "version": 3
   },
   "file_extension": ".py",
   "mimetype": "text/x-python",
   "name": "python",
   "nbconvert_exporter": "python",
   "pygments_lexer": "ipython3",
   "version": "3.9.0"
  }
 },
 "nbformat": 4,
 "nbformat_minor": 4
}

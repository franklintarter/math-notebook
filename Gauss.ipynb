{
 "cells": [
  {
   "cell_type": "markdown",
   "metadata": {},
   "source": [
    "## Sum of Consecutive Numbers\n",
    "\n",
    "Take the sum of consecutive numbers where *n* is the final and largest number in the sequence. For example `n = 10` would be:\n",
    "\n",
    "`1 + 2 + 3 + 4 + 5 + 6 + 7 + 8 + 9 + 10`\n",
    "\n",
    "Let's write a function to evaluate the sum in the way it's literally written out, without any intuition, shortcuts, or generalizations."
   ]
  },
  {
   "cell_type": "code",
   "execution_count": 52,
   "metadata": {},
   "outputs": [
    {
     "data": {
      "text/plain": [
       "55"
      ]
     },
     "execution_count": 52,
     "metadata": {},
     "output_type": "execute_result"
    }
   ],
   "source": [
    "def consecutive_sum(n):\n",
    "    result = 0\n",
    "    for number in range(n + 1):\n",
    "        result += number\n",
    "    return result\n",
    "\n",
    "consecutive_sum(10)"
   ]
  },
  {
   "cell_type": "markdown",
   "metadata": {},
   "source": [
    "You might look at that function and say it's not elegant and you could rewrite it like this:"
   ]
  },
  {
   "cell_type": "code",
   "execution_count": 53,
   "metadata": {},
   "outputs": [
    {
     "data": {
      "text/plain": [
       "55"
      ]
     },
     "execution_count": 53,
     "metadata": {},
     "output_type": "execute_result"
    }
   ],
   "source": [
    "def consecutive_sum(n):\n",
    "    return sum(range(n + 1))\n",
    "\n",
    "consecutive_sum(10)"
   ]
  },
  {
   "cell_type": "markdown",
   "metadata": {},
   "source": [
    "But let's not mistake the elegance of Python for the elegance of our non-elegant solution. The solution is a naive procedure where we must sum each number in the sequence. As *n* gets large the human brain will struggle. As *n* gets very large the computer's performance will be noticeable too. It's not easy to sum up many, many numbers."
   ]
  },
  {
   "cell_type": "markdown",
   "metadata": {},
   "source": [
    "## Gauss' Intuition\n",
    "\n",
    "The elegance and beauty of math and programming comes from intuition and creativity in the real world. A young mathemetician named Carl Friedrich Gauss had an intuition about summing this sequence. Look at the sequence for a few minutes before reading on. See if your intuition about the numbers can create a procedure that is faster and easier than the brutte force sum function we wrote above.\n",
    "\n",
    "`1 + 2 + 3 + 4 + 5 + 6 + 7 + 8 + 9 + 10`\n",
    "\n",
    "### Gauss' Procedure\n",
    "\n",
    "- Add the smallest and largest number in the sequence\n",
    "- Add the next smallest and next biggest number until there are no more numbers\n",
    "\n",
    "To follow the procedure for `n = 10` we change the order of the sums as pairs matching smallest and largest until all numbers are paired.\n",
    "\n",
    "`(1 + 10) + (2 + 9) + (3 + 8) + (4 + 7) + (5 + 6)`\n",
    "\n",
    "When we sum all the pairs we notice something interesting.\n",
    "\n",
    "`11 + 11 + 11 + 11 + 11`\n",
    "\n",
    "The sums of all pairs are the same. Once you do the first sum `1 + 10` you don't need to sum all the pairs. Instead count the pairs and write it as a multiple. For `n = 10` there will be 5 pairs of numbers. Now we have a single multiplication instead of many additions.\n",
    "\n",
    "`5 * 11`\n",
    "\n",
    "### Odd Numbers\n",
    "\n",
    "What if the sequence ends in an odd number? Let's look at `n = 7`\n",
    "\n",
    "`1 + 2 + 3 + 4 + 5 + 6 + 7`\n",
    "\n",
    "Since *n* is odd we'll have on number without a pair. We can pair all the other numbers and leave the number without a pair by itself. In this case the number without a pair will be 4.\n",
    "\n",
    "`(1 + 7) + (2 + 5) + (3 + 5) + 4`\n",
    "\n",
    "The number without a pair will always be an even number and it will be the number exactly in the middle of the sequence. \n",
    "\n",
    "Next we can sum all the pairs.\n",
    "\n",
    "`8 + 8 + 8 + 4`\n",
    "\n",
    "Next convert the sums to a multiple.\n",
    "\n",
    "`(3 * 8) + 4 = 28`\n",
    "\n",
    "Try following the procedure with a few other samples, compare it against the result of brutte force addition. Once satisfied the procedure is accurate, we can work on generalizing it with a formula and then code.\n",
    "\n",
    "## General Formula\n",
    "\n",
    "Converting the intuition from Gass' procedure into a general formula is where things get really interesting.\n",
    "\n",
    "These steps describe the whole procedure no matter how big the sequence is:\n",
    "\n",
    "- Find the value of the first pair\n",
    "- Count the number of pairs\n",
    "- Muliply the pair value by the number of pairs\n",
    "- If there's a number without a pair (if n is odd) add it to the total\n",
    "\n",
    "We can find the value of the first pair by adding the first and last number of the sequence. The first number will be *1* and the last number will be *n*. The first pair's value is:\n",
    "\n",
    "`n + 1`\n",
    "\n",
    "Next, find the number of pairs. Rather than counting, we can divide *n* by two:\n",
    "\n",
    "`n / 2`\n",
    "\n",
    "We have the value of the pairs and the number of pairs. Next we need to multiply them. So far the formula looks like this:\n",
    "\n",
    "`(n / 2)(n + 1)`\n",
    "\n",
    "Let's test this formula for the first example where `n = 10`:\n",
    "\n",
    "`(10 / 2)(10 + 1)`\n",
    "`(5)(11)`\n",
    "`55`\n",
    "\n",
    "This looks good. The steps broke down almost exactly the same way as the procedure did. That's a good indicator.\n",
    "\n",
    "But what about when *n* is an odd number? Let's try the formula as is with our second example `n = 7`:\n",
    "\n",
    "`(7 / 2)(7 + 1)`\n",
    "`(3.5)(8)`\n",
    "`28`\n",
    "\n",
    "We got the correct result. The only difference in steps is that the number without a pair is represented by the `0.5` in the `3.5`. We could've taken an additional step and factored the `0.5` out to get `(3)(8) + 4`. But representing the non-paired number as `0.5` feels intuitive enough.\n",
    "\n",
    "The formula handles the odd *n* case naturally. We don't need any logicical statement that says \"if *n* is odd, handle it differently\". Very elegant.\n",
    "\n",
    "**Now we have formally defined Gauss' formula for consecutive numbers:**\n",
    "\n",
    "`(n / 2)(n + 1)`\n",
    "\n",
    "Now let's replace our old, brutte force program with a program that matches our elegant intuition."
   ]
  },
  {
   "cell_type": "markdown",
   "metadata": {},
   "source": [
    "## Gauss in Code"
   ]
  },
  {
   "cell_type": "code",
   "execution_count": 59,
   "metadata": {},
   "outputs": [],
   "source": [
    "def gauss_consecutive_sum(n):\n",
    "    return int((n / 2) * (n + 1))"
   ]
  },
  {
   "cell_type": "code",
   "execution_count": 56,
   "metadata": {},
   "outputs": [
    {
     "data": {
      "text/plain": [
       "55"
      ]
     },
     "execution_count": 56,
     "metadata": {},
     "output_type": "execute_result"
    }
   ],
   "source": [
    "gauss_consecutive_sum(10)"
   ]
  },
  {
   "cell_type": "code",
   "execution_count": 57,
   "metadata": {},
   "outputs": [
    {
     "data": {
      "text/plain": [
       "28"
      ]
     },
     "execution_count": 57,
     "metadata": {},
     "output_type": "execute_result"
    }
   ],
   "source": [
    "gauss_consecutive_sum(7)"
   ]
  },
  {
   "cell_type": "markdown",
   "metadata": {},
   "source": [
    "An elegant one liner. It will be much more efficient than the old `consecutive_sum` function. However, I'm not the biggest fan of how it looks. It looks like a math function. A benefit of programming in Python (or other high level languages) is that you can communicate the intuition in the code.\n",
    "\n",
    "Let's try that:"
   ]
  },
  {
   "cell_type": "code",
   "execution_count": 58,
   "metadata": {},
   "outputs": [],
   "source": [
    "def gauss_consecutive_sum(n):\n",
    "    pair_sum = 1 + n\n",
    "    number_of_pairs = n / 2\n",
    "    result = pair_sum * number_of_pairs\n",
    "    return int(result)"
   ]
  },
  {
   "cell_type": "markdown",
   "metadata": {},
   "source": [
    "Maybe you like the math version better. If you do I won't argue with you. You could write the math version and drop a link to an explanation of Gauss' intuition in a code comment. At some level, which is better or worse is subjective. I believe the code should express the concepts as much as possible and not rely on the reader having knowledge of an outside concept such as Gauss' formula to understand the code. To each their own if this should be accomplished by verbose variable names or links.\n",
    "\n",
    "### Elegant Formulas\n",
    "\n",
    "The utility of the code is subjective, but the elegance of the formula is not subjective. Gauss' formula is objectively more elegant than the brutte force sum. This is an interesting interplay of math and programming and where they meet. We face a problem such as the sum of consecutive numbers. Then we create a procedure to solve it, maybe the procedure is inefficient or inelegant. We can code that procedure and move on if we want. But if we wrestle with the problem longer, we can see patterns, shortcuts, or generalizations within the problem. These can lead to intuition about the nature of the problem. The intuition may generate a new procedure, which can generate a formula. That formula can be objectively superior to the old way. \n",
    "\n",
    "The difference between the code from no intuition and the code with intuition might have huge implications for what is possible with computing."
   ]
  },
  {
   "cell_type": "code",
   "execution_count": null,
   "metadata": {},
   "outputs": [],
   "source": []
  },
  {
   "cell_type": "code",
   "execution_count": null,
   "metadata": {},
   "outputs": [],
   "source": []
  },
  {
   "cell_type": "code",
   "execution_count": null,
   "metadata": {},
   "outputs": [],
   "source": []
  },
  {
   "cell_type": "code",
   "execution_count": null,
   "metadata": {},
   "outputs": [],
   "source": []
  },
  {
   "cell_type": "code",
   "execution_count": null,
   "metadata": {},
   "outputs": [],
   "source": []
  },
  {
   "cell_type": "code",
   "execution_count": null,
   "metadata": {},
   "outputs": [],
   "source": []
  },
  {
   "cell_type": "markdown",
   "metadata": {},
   "source": [
    "### Procedural Version\n",
    "\n",
    "Let's write the most primitive version, what we might have done without any of Gauss' intuition."
   ]
  },
  {
   "cell_type": "code",
   "execution_count": 30,
   "metadata": {},
   "outputs": [],
   "source": [
    "def sum_sequence(n):\n",
    "    return sum(range(n + 1))"
   ]
  },
  {
   "cell_type": "code",
   "execution_count": 31,
   "metadata": {},
   "outputs": [
    {
     "data": {
      "text/plain": [
       "55"
      ]
     },
     "execution_count": 31,
     "metadata": {},
     "output_type": "execute_result"
    }
   ],
   "source": [
    "sum_sequence(10)"
   ]
  },
  {
   "cell_type": "code",
   "execution_count": 32,
   "metadata": {},
   "outputs": [
    {
     "data": {
      "text/plain": [
       "28"
      ]
     },
     "execution_count": 32,
     "metadata": {},
     "output_type": "execute_result"
    }
   ],
   "source": [
    "sum_sequence(7)"
   ]
  },
  {
   "cell_type": "markdown",
   "metadata": {},
   "source": [
    "### Procedural vs. Formula\n",
    "\n",
    "Some might argue this looks just as elegant if not more elegant than the formula version. I would argue that it only looks elegant because Python is an elegant language. There's nothing elegant about what's happening. The computer is doing it the hard way just as it's hard to sum each number in the sequence in your head, especially as *n* gets very large."
   ]
  },
  {
   "cell_type": "markdown",
   "metadata": {},
   "source": []
  }
 ],
 "metadata": {
  "kernelspec": {
   "display_name": "Python 3",
   "language": "python",
   "name": "python3"
  },
  "language_info": {
   "codemirror_mode": {
    "name": "ipython",
    "version": 3
   },
   "file_extension": ".py",
   "mimetype": "text/x-python",
   "name": "python",
   "nbconvert_exporter": "python",
   "pygments_lexer": "ipython3",
   "version": "3.9.0"
  }
 },
 "nbformat": 4,
 "nbformat_minor": 4
}

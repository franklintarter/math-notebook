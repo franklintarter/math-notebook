{
 "cells": [
  {
   "cell_type": "code",
   "execution_count": 68,
   "metadata": {},
   "outputs": [],
   "source": [
    "from io import BytesIO\n",
    "\n",
    "import cairo\n",
    "import IPython.display\n",
    "import math"
   ]
  },
  {
   "cell_type": "code",
   "execution_count": 130,
   "metadata": {
    "scrolled": true
   },
   "outputs": [],
   "source": [
    "def circle(ctx, x, y):\n",
    "    ctx.set_line_width(0.45)\n",
    "    ctx.arc(x, y, 0.22, 0, 2*math.pi)\n",
    "    ctx.stroke()"
   ]
  },
  {
   "cell_type": "code",
   "execution_count": 138,
   "metadata": {},
   "outputs": [],
   "source": [
    "def circle_row(ctx, n, x_origin, y_origin):\n",
    "    for c in range(n):\n",
    "        circle(ctx, x_origin + c, y_origin)"
   ]
  },
  {
   "cell_type": "code",
   "execution_count": 202,
   "metadata": {},
   "outputs": [],
   "source": [
    "def triangle_numbers(ctx, n):\n",
    "    x = n\n",
    "    y = n\n",
    "    for r in range(1, n + 1):\n",
    "        xoffset = 1 + (n * 0.55) - (r / 2) # + (n / 4)\n",
    "        circle_row(ctx, r, xoffset, r)"
   ]
  },
  {
   "cell_type": "code",
   "execution_count": 284,
   "metadata": {},
   "outputs": [],
   "source": [
    "def draw_triangle_numbers(n):\n",
    "    svg = BytesIO()\n",
    "    size = n * 14 + 60\n",
    "    size = size if size < 300 else 300\n",
    "    with cairo.SVGSurface(svg, size + 50, size) as surface:\n",
    "        ctx = cairo.Context(surface)\n",
    "        scale = 25 - n\n",
    "        scale = scale if scale > 10 else 10\n",
    "        ctx.scale(scale, scale)\n",
    "        triangle_numbers(ctx, n)\n",
    "\n",
    "    return svg"
   ]
  },
  {
   "cell_type": "code",
   "execution_count": 289,
   "metadata": {},
   "outputs": [
    {
     "data": {
      "image/svg+xml": [
       "<svg xmlns=\"http://www.w3.org/2000/svg\" xmlns:xlink=\"http://www.w3.org/1999/xlink\" width=\"250pt\" height=\"200pt\" viewBox=\"0 0 250 200\" version=\"1.1\">\n",
       "<g id=\"surface886\">\n",
       "<path style=\"fill:none;stroke-width:0.45;stroke-linecap:butt;stroke-linejoin:miter;stroke:rgb(0%,0%,0%);stroke-opacity:1;stroke-miterlimit:10;\" d=\"M 6.220052 1 C 6.220052 1.293229 5.779948 1.293229 5.779948 1 C 5.779948 0.706771 6.220052 0.706771 6.220052 1 \" transform=\"matrix(15,0,0,15,0,0)\"/>\n",
       "<path style=\"fill:none;stroke-width:0.45;stroke-linecap:butt;stroke-linejoin:miter;stroke:rgb(0%,0%,0%);stroke-opacity:1;stroke-miterlimit:10;\" d=\"M 5.720052 2 C 5.720052 2.293229 5.279948 2.293229 5.279948 2 C 5.279948 1.706771 5.720052 1.706771 5.720052 2 \" transform=\"matrix(15,0,0,15,0,0)\"/>\n",
       "<path style=\"fill:none;stroke-width:0.45;stroke-linecap:butt;stroke-linejoin:miter;stroke:rgb(0%,0%,0%);stroke-opacity:1;stroke-miterlimit:10;\" d=\"M 6.720052 2 C 6.720052 2.293229 6.279948 2.293229 6.279948 2 C 6.279948 1.706771 6.720052 1.706771 6.720052 2 \" transform=\"matrix(15,0,0,15,0,0)\"/>\n",
       "<path style=\"fill:none;stroke-width:0.45;stroke-linecap:butt;stroke-linejoin:miter;stroke:rgb(0%,0%,0%);stroke-opacity:1;stroke-miterlimit:10;\" d=\"M 5.220052 3 C 5.220052 3.293229 4.779948 3.293229 4.779948 3 C 4.779948 2.706771 5.220052 2.706771 5.220052 3 \" transform=\"matrix(15,0,0,15,0,0)\"/>\n",
       "<path style=\"fill:none;stroke-width:0.45;stroke-linecap:butt;stroke-linejoin:miter;stroke:rgb(0%,0%,0%);stroke-opacity:1;stroke-miterlimit:10;\" d=\"M 6.220052 3 C 6.220052 3.293229 5.779948 3.293229 5.779948 3 C 5.779948 2.706771 6.220052 2.706771 6.220052 3 \" transform=\"matrix(15,0,0,15,0,0)\"/>\n",
       "<path style=\"fill:none;stroke-width:0.45;stroke-linecap:butt;stroke-linejoin:miter;stroke:rgb(0%,0%,0%);stroke-opacity:1;stroke-miterlimit:10;\" d=\"M 7.220052 3 C 7.220052 3.293229 6.779948 3.293229 6.779948 3 C 6.779948 2.706771 7.220052 2.706771 7.220052 3 \" transform=\"matrix(15,0,0,15,0,0)\"/>\n",
       "<path style=\"fill:none;stroke-width:0.45;stroke-linecap:butt;stroke-linejoin:miter;stroke:rgb(0%,0%,0%);stroke-opacity:1;stroke-miterlimit:10;\" d=\"M 4.720052 4 C 4.720052 4.293229 4.279948 4.293229 4.279948 4 C 4.279948 3.706771 4.720052 3.706771 4.720052 4 \" transform=\"matrix(15,0,0,15,0,0)\"/>\n",
       "<path style=\"fill:none;stroke-width:0.45;stroke-linecap:butt;stroke-linejoin:miter;stroke:rgb(0%,0%,0%);stroke-opacity:1;stroke-miterlimit:10;\" d=\"M 5.720052 4 C 5.720052 4.293229 5.279948 4.293229 5.279948 4 C 5.279948 3.706771 5.720052 3.706771 5.720052 4 \" transform=\"matrix(15,0,0,15,0,0)\"/>\n",
       "<path style=\"fill:none;stroke-width:0.45;stroke-linecap:butt;stroke-linejoin:miter;stroke:rgb(0%,0%,0%);stroke-opacity:1;stroke-miterlimit:10;\" d=\"M 6.720052 4 C 6.720052 4.293229 6.279948 4.293229 6.279948 4 C 6.279948 3.706771 6.720052 3.706771 6.720052 4 \" transform=\"matrix(15,0,0,15,0,0)\"/>\n",
       "<path style=\"fill:none;stroke-width:0.45;stroke-linecap:butt;stroke-linejoin:miter;stroke:rgb(0%,0%,0%);stroke-opacity:1;stroke-miterlimit:10;\" d=\"M 7.720052 4 C 7.720052 4.293229 7.279948 4.293229 7.279948 4 C 7.279948 3.706771 7.720052 3.706771 7.720052 4 \" transform=\"matrix(15,0,0,15,0,0)\"/>\n",
       "<path style=\"fill:none;stroke-width:0.45;stroke-linecap:butt;stroke-linejoin:miter;stroke:rgb(0%,0%,0%);stroke-opacity:1;stroke-miterlimit:10;\" d=\"M 4.220052 5 C 4.220052 5.293229 3.779948 5.293229 3.779948 5 C 3.779948 4.706771 4.220052 4.706771 4.220052 5 \" transform=\"matrix(15,0,0,15,0,0)\"/>\n",
       "<path style=\"fill:none;stroke-width:0.45;stroke-linecap:butt;stroke-linejoin:miter;stroke:rgb(0%,0%,0%);stroke-opacity:1;stroke-miterlimit:10;\" d=\"M 5.220052 5 C 5.220052 5.293229 4.779948 5.293229 4.779948 5 C 4.779948 4.706771 5.220052 4.706771 5.220052 5 \" transform=\"matrix(15,0,0,15,0,0)\"/>\n",
       "<path style=\"fill:none;stroke-width:0.45;stroke-linecap:butt;stroke-linejoin:miter;stroke:rgb(0%,0%,0%);stroke-opacity:1;stroke-miterlimit:10;\" d=\"M 6.220052 5 C 6.220052 5.293229 5.779948 5.293229 5.779948 5 C 5.779948 4.706771 6.220052 4.706771 6.220052 5 \" transform=\"matrix(15,0,0,15,0,0)\"/>\n",
       "<path style=\"fill:none;stroke-width:0.45;stroke-linecap:butt;stroke-linejoin:miter;stroke:rgb(0%,0%,0%);stroke-opacity:1;stroke-miterlimit:10;\" d=\"M 7.220052 5 C 7.220052 5.293229 6.779948 5.293229 6.779948 5 C 6.779948 4.706771 7.220052 4.706771 7.220052 5 \" transform=\"matrix(15,0,0,15,0,0)\"/>\n",
       "<path style=\"fill:none;stroke-width:0.45;stroke-linecap:butt;stroke-linejoin:miter;stroke:rgb(0%,0%,0%);stroke-opacity:1;stroke-miterlimit:10;\" d=\"M 8.220052 5 C 8.220052 5.293229 7.779948 5.293229 7.779948 5 C 7.779948 4.706771 8.220052 4.706771 8.220052 5 \" transform=\"matrix(15,0,0,15,0,0)\"/>\n",
       "<path style=\"fill:none;stroke-width:0.45;stroke-linecap:butt;stroke-linejoin:miter;stroke:rgb(0%,0%,0%);stroke-opacity:1;stroke-miterlimit:10;\" d=\"M 3.720052 6 C 3.720052 6.293229 3.279948 6.293229 3.279948 6 C 3.279948 5.706771 3.720052 5.706771 3.720052 6 \" transform=\"matrix(15,0,0,15,0,0)\"/>\n",
       "<path style=\"fill:none;stroke-width:0.45;stroke-linecap:butt;stroke-linejoin:miter;stroke:rgb(0%,0%,0%);stroke-opacity:1;stroke-miterlimit:10;\" d=\"M 4.720052 6 C 4.720052 6.293229 4.279948 6.293229 4.279948 6 C 4.279948 5.706771 4.720052 5.706771 4.720052 6 \" transform=\"matrix(15,0,0,15,0,0)\"/>\n",
       "<path style=\"fill:none;stroke-width:0.45;stroke-linecap:butt;stroke-linejoin:miter;stroke:rgb(0%,0%,0%);stroke-opacity:1;stroke-miterlimit:10;\" d=\"M 5.720052 6 C 5.720052 6.293229 5.279948 6.293229 5.279948 6 C 5.279948 5.706771 5.720052 5.706771 5.720052 6 \" transform=\"matrix(15,0,0,15,0,0)\"/>\n",
       "<path style=\"fill:none;stroke-width:0.45;stroke-linecap:butt;stroke-linejoin:miter;stroke:rgb(0%,0%,0%);stroke-opacity:1;stroke-miterlimit:10;\" d=\"M 6.720052 6 C 6.720052 6.293229 6.279948 6.293229 6.279948 6 C 6.279948 5.706771 6.720052 5.706771 6.720052 6 \" transform=\"matrix(15,0,0,15,0,0)\"/>\n",
       "<path style=\"fill:none;stroke-width:0.45;stroke-linecap:butt;stroke-linejoin:miter;stroke:rgb(0%,0%,0%);stroke-opacity:1;stroke-miterlimit:10;\" d=\"M 7.720052 6 C 7.720052 6.293229 7.279948 6.293229 7.279948 6 C 7.279948 5.706771 7.720052 5.706771 7.720052 6 \" transform=\"matrix(15,0,0,15,0,0)\"/>\n",
       "<path style=\"fill:none;stroke-width:0.45;stroke-linecap:butt;stroke-linejoin:miter;stroke:rgb(0%,0%,0%);stroke-opacity:1;stroke-miterlimit:10;\" d=\"M 8.720052 6 C 8.720052 6.293229 8.279948 6.293229 8.279948 6 C 8.279948 5.706771 8.720052 5.706771 8.720052 6 \" transform=\"matrix(15,0,0,15,0,0)\"/>\n",
       "<path style=\"fill:none;stroke-width:0.45;stroke-linecap:butt;stroke-linejoin:miter;stroke:rgb(0%,0%,0%);stroke-opacity:1;stroke-miterlimit:10;\" d=\"M 3.220052 7 C 3.220052 7.293229 2.779948 7.293229 2.779948 7 C 2.779948 6.706771 3.220052 6.706771 3.220052 7 \" transform=\"matrix(15,0,0,15,0,0)\"/>\n",
       "<path style=\"fill:none;stroke-width:0.45;stroke-linecap:butt;stroke-linejoin:miter;stroke:rgb(0%,0%,0%);stroke-opacity:1;stroke-miterlimit:10;\" d=\"M 4.220052 7 C 4.220052 7.293229 3.779948 7.293229 3.779948 7 C 3.779948 6.706771 4.220052 6.706771 4.220052 7 \" transform=\"matrix(15,0,0,15,0,0)\"/>\n",
       "<path style=\"fill:none;stroke-width:0.45;stroke-linecap:butt;stroke-linejoin:miter;stroke:rgb(0%,0%,0%);stroke-opacity:1;stroke-miterlimit:10;\" d=\"M 5.220052 7 C 5.220052 7.293229 4.779948 7.293229 4.779948 7 C 4.779948 6.706771 5.220052 6.706771 5.220052 7 \" transform=\"matrix(15,0,0,15,0,0)\"/>\n",
       "<path style=\"fill:none;stroke-width:0.45;stroke-linecap:butt;stroke-linejoin:miter;stroke:rgb(0%,0%,0%);stroke-opacity:1;stroke-miterlimit:10;\" d=\"M 6.220052 7 C 6.220052 7.293229 5.779948 7.293229 5.779948 7 C 5.779948 6.706771 6.220052 6.706771 6.220052 7 \" transform=\"matrix(15,0,0,15,0,0)\"/>\n",
       "<path style=\"fill:none;stroke-width:0.45;stroke-linecap:butt;stroke-linejoin:miter;stroke:rgb(0%,0%,0%);stroke-opacity:1;stroke-miterlimit:10;\" d=\"M 7.220052 7 C 7.220052 7.293229 6.779948 7.293229 6.779948 7 C 6.779948 6.706771 7.220052 6.706771 7.220052 7 \" transform=\"matrix(15,0,0,15,0,0)\"/>\n",
       "<path style=\"fill:none;stroke-width:0.45;stroke-linecap:butt;stroke-linejoin:miter;stroke:rgb(0%,0%,0%);stroke-opacity:1;stroke-miterlimit:10;\" d=\"M 8.220052 7 C 8.220052 7.293229 7.779948 7.293229 7.779948 7 C 7.779948 6.706771 8.220052 6.706771 8.220052 7 \" transform=\"matrix(15,0,0,15,0,0)\"/>\n",
       "<path style=\"fill:none;stroke-width:0.45;stroke-linecap:butt;stroke-linejoin:miter;stroke:rgb(0%,0%,0%);stroke-opacity:1;stroke-miterlimit:10;\" d=\"M 9.220052 7 C 9.220052 7.293229 8.779948 7.293229 8.779948 7 C 8.779948 6.706771 9.220052 6.706771 9.220052 7 \" transform=\"matrix(15,0,0,15,0,0)\"/>\n",
       "<path style=\"fill:none;stroke-width:0.45;stroke-linecap:butt;stroke-linejoin:miter;stroke:rgb(0%,0%,0%);stroke-opacity:1;stroke-miterlimit:10;\" d=\"M 2.720052 8 C 2.720052 8.293229 2.279948 8.293229 2.279948 8 C 2.279948 7.706771 2.720052 7.706771 2.720052 8 \" transform=\"matrix(15,0,0,15,0,0)\"/>\n",
       "<path style=\"fill:none;stroke-width:0.45;stroke-linecap:butt;stroke-linejoin:miter;stroke:rgb(0%,0%,0%);stroke-opacity:1;stroke-miterlimit:10;\" d=\"M 3.720052 8 C 3.720052 8.293229 3.279948 8.293229 3.279948 8 C 3.279948 7.706771 3.720052 7.706771 3.720052 8 \" transform=\"matrix(15,0,0,15,0,0)\"/>\n",
       "<path style=\"fill:none;stroke-width:0.45;stroke-linecap:butt;stroke-linejoin:miter;stroke:rgb(0%,0%,0%);stroke-opacity:1;stroke-miterlimit:10;\" d=\"M 4.720052 8 C 4.720052 8.293229 4.279948 8.293229 4.279948 8 C 4.279948 7.706771 4.720052 7.706771 4.720052 8 \" transform=\"matrix(15,0,0,15,0,0)\"/>\n",
       "<path style=\"fill:none;stroke-width:0.45;stroke-linecap:butt;stroke-linejoin:miter;stroke:rgb(0%,0%,0%);stroke-opacity:1;stroke-miterlimit:10;\" d=\"M 5.720052 8 C 5.720052 8.293229 5.279948 8.293229 5.279948 8 C 5.279948 7.706771 5.720052 7.706771 5.720052 8 \" transform=\"matrix(15,0,0,15,0,0)\"/>\n",
       "<path style=\"fill:none;stroke-width:0.45;stroke-linecap:butt;stroke-linejoin:miter;stroke:rgb(0%,0%,0%);stroke-opacity:1;stroke-miterlimit:10;\" d=\"M 6.720052 8 C 6.720052 8.293229 6.279948 8.293229 6.279948 8 C 6.279948 7.706771 6.720052 7.706771 6.720052 8 \" transform=\"matrix(15,0,0,15,0,0)\"/>\n",
       "<path style=\"fill:none;stroke-width:0.45;stroke-linecap:butt;stroke-linejoin:miter;stroke:rgb(0%,0%,0%);stroke-opacity:1;stroke-miterlimit:10;\" d=\"M 7.720052 8 C 7.720052 8.293229 7.279948 8.293229 7.279948 8 C 7.279948 7.706771 7.720052 7.706771 7.720052 8 \" transform=\"matrix(15,0,0,15,0,0)\"/>\n",
       "<path style=\"fill:none;stroke-width:0.45;stroke-linecap:butt;stroke-linejoin:miter;stroke:rgb(0%,0%,0%);stroke-opacity:1;stroke-miterlimit:10;\" d=\"M 8.720052 8 C 8.720052 8.293229 8.279948 8.293229 8.279948 8 C 8.279948 7.706771 8.720052 7.706771 8.720052 8 \" transform=\"matrix(15,0,0,15,0,0)\"/>\n",
       "<path style=\"fill:none;stroke-width:0.45;stroke-linecap:butt;stroke-linejoin:miter;stroke:rgb(0%,0%,0%);stroke-opacity:1;stroke-miterlimit:10;\" d=\"M 9.720052 8 C 9.720052 8.293229 9.279948 8.293229 9.279948 8 C 9.279948 7.706771 9.720052 7.706771 9.720052 8 \" transform=\"matrix(15,0,0,15,0,0)\"/>\n",
       "<path style=\"fill:none;stroke-width:0.45;stroke-linecap:butt;stroke-linejoin:miter;stroke:rgb(0%,0%,0%);stroke-opacity:1;stroke-miterlimit:10;\" d=\"M 2.220052 9 C 2.220052 9.293229 1.779948 9.293229 1.779948 9 C 1.779948 8.706771 2.220052 8.706771 2.220052 9 \" transform=\"matrix(15,0,0,15,0,0)\"/>\n",
       "<path style=\"fill:none;stroke-width:0.45;stroke-linecap:butt;stroke-linejoin:miter;stroke:rgb(0%,0%,0%);stroke-opacity:1;stroke-miterlimit:10;\" d=\"M 3.220052 9 C 3.220052 9.293229 2.779948 9.293229 2.779948 9 C 2.779948 8.706771 3.220052 8.706771 3.220052 9 \" transform=\"matrix(15,0,0,15,0,0)\"/>\n",
       "<path style=\"fill:none;stroke-width:0.45;stroke-linecap:butt;stroke-linejoin:miter;stroke:rgb(0%,0%,0%);stroke-opacity:1;stroke-miterlimit:10;\" d=\"M 4.220052 9 C 4.220052 9.293229 3.779948 9.293229 3.779948 9 C 3.779948 8.706771 4.220052 8.706771 4.220052 9 \" transform=\"matrix(15,0,0,15,0,0)\"/>\n",
       "<path style=\"fill:none;stroke-width:0.45;stroke-linecap:butt;stroke-linejoin:miter;stroke:rgb(0%,0%,0%);stroke-opacity:1;stroke-miterlimit:10;\" d=\"M 5.220052 9 C 5.220052 9.293229 4.779948 9.293229 4.779948 9 C 4.779948 8.706771 5.220052 8.706771 5.220052 9 \" transform=\"matrix(15,0,0,15,0,0)\"/>\n",
       "<path style=\"fill:none;stroke-width:0.45;stroke-linecap:butt;stroke-linejoin:miter;stroke:rgb(0%,0%,0%);stroke-opacity:1;stroke-miterlimit:10;\" d=\"M 6.220052 9 C 6.220052 9.293229 5.779948 9.293229 5.779948 9 C 5.779948 8.706771 6.220052 8.706771 6.220052 9 \" transform=\"matrix(15,0,0,15,0,0)\"/>\n",
       "<path style=\"fill:none;stroke-width:0.45;stroke-linecap:butt;stroke-linejoin:miter;stroke:rgb(0%,0%,0%);stroke-opacity:1;stroke-miterlimit:10;\" d=\"M 7.220052 9 C 7.220052 9.293229 6.779948 9.293229 6.779948 9 C 6.779948 8.706771 7.220052 8.706771 7.220052 9 \" transform=\"matrix(15,0,0,15,0,0)\"/>\n",
       "<path style=\"fill:none;stroke-width:0.45;stroke-linecap:butt;stroke-linejoin:miter;stroke:rgb(0%,0%,0%);stroke-opacity:1;stroke-miterlimit:10;\" d=\"M 8.220052 9 C 8.220052 9.293229 7.779948 9.293229 7.779948 9 C 7.779948 8.706771 8.220052 8.706771 8.220052 9 \" transform=\"matrix(15,0,0,15,0,0)\"/>\n",
       "<path style=\"fill:none;stroke-width:0.45;stroke-linecap:butt;stroke-linejoin:miter;stroke:rgb(0%,0%,0%);stroke-opacity:1;stroke-miterlimit:10;\" d=\"M 9.220052 9 C 9.220052 9.293229 8.779948 9.293229 8.779948 9 C 8.779948 8.706771 9.220052 8.706771 9.220052 9 \" transform=\"matrix(15,0,0,15,0,0)\"/>\n",
       "<path style=\"fill:none;stroke-width:0.45;stroke-linecap:butt;stroke-linejoin:miter;stroke:rgb(0%,0%,0%);stroke-opacity:1;stroke-miterlimit:10;\" d=\"M 10.220052 9 C 10.220052 9.293229 9.779948 9.293229 9.779948 9 C 9.779948 8.706771 10.220052 8.706771 10.220052 9 \" transform=\"matrix(15,0,0,15,0,0)\"/>\n",
       "<path style=\"fill:none;stroke-width:0.45;stroke-linecap:butt;stroke-linejoin:miter;stroke:rgb(0%,0%,0%);stroke-opacity:1;stroke-miterlimit:10;\" d=\"M 1.720052 10 C 1.720052 10.293229 1.279948 10.293229 1.279948 10 C 1.279948 9.706771 1.720052 9.706771 1.720052 10 \" transform=\"matrix(15,0,0,15,0,0)\"/>\n",
       "<path style=\"fill:none;stroke-width:0.45;stroke-linecap:butt;stroke-linejoin:miter;stroke:rgb(0%,0%,0%);stroke-opacity:1;stroke-miterlimit:10;\" d=\"M 2.720052 10 C 2.720052 10.293229 2.279948 10.293229 2.279948 10 C 2.279948 9.706771 2.720052 9.706771 2.720052 10 \" transform=\"matrix(15,0,0,15,0,0)\"/>\n",
       "<path style=\"fill:none;stroke-width:0.45;stroke-linecap:butt;stroke-linejoin:miter;stroke:rgb(0%,0%,0%);stroke-opacity:1;stroke-miterlimit:10;\" d=\"M 3.720052 10 C 3.720052 10.293229 3.279948 10.293229 3.279948 10 C 3.279948 9.706771 3.720052 9.706771 3.720052 10 \" transform=\"matrix(15,0,0,15,0,0)\"/>\n",
       "<path style=\"fill:none;stroke-width:0.45;stroke-linecap:butt;stroke-linejoin:miter;stroke:rgb(0%,0%,0%);stroke-opacity:1;stroke-miterlimit:10;\" d=\"M 4.720052 10 C 4.720052 10.293229 4.279948 10.293229 4.279948 10 C 4.279948 9.706771 4.720052 9.706771 4.720052 10 \" transform=\"matrix(15,0,0,15,0,0)\"/>\n",
       "<path style=\"fill:none;stroke-width:0.45;stroke-linecap:butt;stroke-linejoin:miter;stroke:rgb(0%,0%,0%);stroke-opacity:1;stroke-miterlimit:10;\" d=\"M 5.720052 10 C 5.720052 10.293229 5.279948 10.293229 5.279948 10 C 5.279948 9.706771 5.720052 9.706771 5.720052 10 \" transform=\"matrix(15,0,0,15,0,0)\"/>\n",
       "<path style=\"fill:none;stroke-width:0.45;stroke-linecap:butt;stroke-linejoin:miter;stroke:rgb(0%,0%,0%);stroke-opacity:1;stroke-miterlimit:10;\" d=\"M 6.720052 10 C 6.720052 10.293229 6.279948 10.293229 6.279948 10 C 6.279948 9.706771 6.720052 9.706771 6.720052 10 \" transform=\"matrix(15,0,0,15,0,0)\"/>\n",
       "<path style=\"fill:none;stroke-width:0.45;stroke-linecap:butt;stroke-linejoin:miter;stroke:rgb(0%,0%,0%);stroke-opacity:1;stroke-miterlimit:10;\" d=\"M 7.720052 10 C 7.720052 10.293229 7.279948 10.293229 7.279948 10 C 7.279948 9.706771 7.720052 9.706771 7.720052 10 \" transform=\"matrix(15,0,0,15,0,0)\"/>\n",
       "<path style=\"fill:none;stroke-width:0.45;stroke-linecap:butt;stroke-linejoin:miter;stroke:rgb(0%,0%,0%);stroke-opacity:1;stroke-miterlimit:10;\" d=\"M 8.720052 10 C 8.720052 10.293229 8.279948 10.293229 8.279948 10 C 8.279948 9.706771 8.720052 9.706771 8.720052 10 \" transform=\"matrix(15,0,0,15,0,0)\"/>\n",
       "<path style=\"fill:none;stroke-width:0.45;stroke-linecap:butt;stroke-linejoin:miter;stroke:rgb(0%,0%,0%);stroke-opacity:1;stroke-miterlimit:10;\" d=\"M 9.720052 10 C 9.720052 10.293229 9.279948 10.293229 9.279948 10 C 9.279948 9.706771 9.720052 9.706771 9.720052 10 \" transform=\"matrix(15,0,0,15,0,0)\"/>\n",
       "<path style=\"fill:none;stroke-width:0.45;stroke-linecap:butt;stroke-linejoin:miter;stroke:rgb(0%,0%,0%);stroke-opacity:1;stroke-miterlimit:10;\" d=\"M 10.720052 10 C 10.720052 10.293229 10.279948 10.293229 10.279948 10 C 10.279948 9.706771 10.720052 9.706771 10.720052 10 \" transform=\"matrix(15,0,0,15,0,0)\"/>\n",
       "</g>\n",
       "</svg>"
      ],
      "text/plain": [
       "<IPython.core.display.SVG object>"
      ]
     },
     "execution_count": 289,
     "metadata": {},
     "output_type": "execute_result"
    }
   ],
   "source": [
    "svg = draw_triangle_numbers(10)\n",
    "IPython.display.SVG(data=svg.getvalue())"
   ]
  },
  {
   "cell_type": "code",
   "execution_count": null,
   "metadata": {},
   "outputs": [],
   "source": []
  }
 ],
 "metadata": {
  "kernelspec": {
   "display_name": "Python 3",
   "language": "python",
   "name": "python3"
  },
  "language_info": {
   "codemirror_mode": {
    "name": "ipython",
    "version": 3
   },
   "file_extension": ".py",
   "mimetype": "text/x-python",
   "name": "python",
   "nbconvert_exporter": "python",
   "pygments_lexer": "ipython3",
   "version": "3.9.0"
  }
 },
 "nbformat": 4,
 "nbformat_minor": 4
}

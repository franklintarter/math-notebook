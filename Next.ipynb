{
 "cells": [
  {
   "cell_type": "code",
   "execution_count": 68,
   "metadata": {},
   "outputs": [],
   "source": [
    "from io import BytesIO\n",
    "\n",
    "import cairo\n",
    "import IPython.display\n",
    "import math"
   ]
  },
  {
   "cell_type": "code",
   "execution_count": 26,
   "metadata": {},
   "outputs": [],
   "source": [
    "# def circle(ctx, xparam, yparam):\n",
    "#     x, y, x1, y1 = xparam, yparam, 0.4, 0.9\n",
    "#     x2, y2, x3, y3 = 0.6, 0.1, 0.9, 0.5\n",
    "# #     ctx.scale(200, 200)\n",
    "# #     ctx.set_line_width(0.04)\n",
    "# #     ctx.move_to(x, y)\n",
    "#     ctx.curve_to(x1, y1, x2, y2, x3, y3)\n",
    "#     ctx.stroke()\n",
    "#     ctx.set_source_rgba(1, 0.2, 0.2, 0.6)\n",
    "#     ctx.set_line_width(0.02)\n",
    "#     ctx.move_to(x, y)\n",
    "#     ctx.line_to(x1, y1)\n",
    "#     ctx.move_to(x2, y2)\n",
    "#     ctx.line_to(x3, y3)\n",
    "#     ctx.stroke()"
   ]
  },
  {
   "cell_type": "code",
   "execution_count": 130,
   "metadata": {},
   "outputs": [],
   "source": [
    "def circle(ctx, x, y):\n",
    "    ctx.set_line_width(0.45)\n",
    "    ctx.arc(x, y, 0.22, 0, 2*math.pi)\n",
    "    ctx.stroke()"
   ]
  },
  {
   "cell_type": "code",
   "execution_count": 138,
   "metadata": {},
   "outputs": [],
   "source": [
    "def circle_row(ctx, n, x_origin, y_origin):\n",
    "    for c in range(n):\n",
    "        circle(ctx, x_origin + c, y_origin)"
   ]
  },
  {
   "cell_type": "code",
   "execution_count": 143,
   "metadata": {},
   "outputs": [
    {
     "data": {
      "image/svg+xml": [
       "<svg xmlns=\"http://www.w3.org/2000/svg\" xmlns:xlink=\"http://www.w3.org/1999/xlink\" width=\"250pt\" height=\"250pt\" viewBox=\"0 0 250 250\" version=\"1.1\">\n",
       "<g id=\"surface426\">\n",
       "<path style=\"fill:none;stroke-width:0.45;stroke-linecap:butt;stroke-linejoin:miter;stroke:rgb(0%,0%,0%);stroke-opacity:1;stroke-miterlimit:10;\" d=\"M 1.22 1 C 1.22 1.121563 1.121563 1.22 1 1.22 C 0.878437 1.22 0.78 1.121563 0.78 1 C 0.78 0.878437 0.878437 0.78 1 0.78 C 1.121563 0.78 1.22 0.878437 1.22 1 \" transform=\"matrix(25,0,0,25,0,0)\"/>\n",
       "<path style=\"fill:none;stroke-width:0.45;stroke-linecap:butt;stroke-linejoin:miter;stroke:rgb(0%,0%,0%);stroke-opacity:1;stroke-miterlimit:10;\" d=\"M 2.22 1 C 2.22 1.121563 2.121563 1.22 2 1.22 C 1.878437 1.22 1.78 1.121563 1.78 1 C 1.78 0.878437 1.878437 0.78 2 0.78 C 2.121563 0.78 2.22 0.878437 2.22 1 \" transform=\"matrix(25,0,0,25,0,0)\"/>\n",
       "<path style=\"fill:none;stroke-width:0.45;stroke-linecap:butt;stroke-linejoin:miter;stroke:rgb(0%,0%,0%);stroke-opacity:1;stroke-miterlimit:10;\" d=\"M 3.22 1 C 3.22 1.121563 3.121563 1.22 3 1.22 C 2.878437 1.22 2.78 1.121563 2.78 1 C 2.78 0.878437 2.878437 0.78 3 0.78 C 3.121563 0.78 3.22 0.878437 3.22 1 \" transform=\"matrix(25,0,0,25,0,0)\"/>\n",
       "<path style=\"fill:none;stroke-width:0.45;stroke-linecap:butt;stroke-linejoin:miter;stroke:rgb(0%,0%,0%);stroke-opacity:1;stroke-miterlimit:10;\" d=\"M 1.72 2 C 1.72 2.121563 1.621563 2.22 1.5 2.22 C 1.378437 2.22 1.28 2.121563 1.28 2 C 1.28 1.878437 1.378437 1.78 1.5 1.78 C 1.621563 1.78 1.72 1.878437 1.72 2 \" transform=\"matrix(25,0,0,25,0,0)\"/>\n",
       "<path style=\"fill:none;stroke-width:0.45;stroke-linecap:butt;stroke-linejoin:miter;stroke:rgb(0%,0%,0%);stroke-opacity:1;stroke-miterlimit:10;\" d=\"M 2.72 2 C 2.72 2.121563 2.621563 2.22 2.5 2.22 C 2.378437 2.22 2.28 2.121563 2.28 2 C 2.28 1.878437 2.378437 1.78 2.5 1.78 C 2.621563 1.78 2.72 1.878437 2.72 2 \" transform=\"matrix(25,0,0,25,0,0)\"/>\n",
       "<path style=\"fill:none;stroke-width:0.45;stroke-linecap:butt;stroke-linejoin:miter;stroke:rgb(0%,0%,0%);stroke-opacity:1;stroke-miterlimit:10;\" d=\"M 2.22 3 C 2.22 3.121563 2.121563 3.22 2 3.22 C 1.878437 3.22 1.78 3.121563 1.78 3 C 1.78 2.878437 1.878437 2.78 2 2.78 C 2.121563 2.78 2.22 2.878437 2.22 3 \" transform=\"matrix(25,0,0,25,0,0)\"/>\n",
       "</g>\n",
       "</svg>"
      ],
      "text/plain": [
       "<IPython.core.display.SVG object>"
      ]
     },
     "execution_count": 143,
     "metadata": {},
     "output_type": "execute_result"
    }
   ],
   "source": [
    "svgio = BytesIO()\n",
    "\n",
    "with cairo.SVGSurface(svgio, 250, 250) as surface:\n",
    "    ctx = cairo.Context(surface)\n",
    "    ctx.scale(25, 25)\n",
    "    circle_row(ctx, 3, 1, 1)\n",
    "    circle_row(ctx, 2, 1.5, 2)\n",
    "    circle_row(ctx, 1, 2, 3)\n",
    "\n",
    "IPython.display.SVG(data=svgio.getvalue())"
   ]
  },
  {
   "cell_type": "code",
   "execution_count": null,
   "metadata": {},
   "outputs": [],
   "source": []
  }
 ],
 "metadata": {
  "kernelspec": {
   "display_name": "Python 3",
   "language": "python",
   "name": "python3"
  },
  "language_info": {
   "codemirror_mode": {
    "name": "ipython",
    "version": 3
   },
   "file_extension": ".py",
   "mimetype": "text/x-python",
   "name": "python",
   "nbconvert_exporter": "python",
   "pygments_lexer": "ipython3",
   "version": "3.9.0"
  }
 },
 "nbformat": 4,
 "nbformat_minor": 4
}

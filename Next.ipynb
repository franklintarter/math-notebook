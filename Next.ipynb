{
 "cells": [
  {
   "cell_type": "markdown",
   "metadata": {},
   "source": [
    "# Sequences Visualized\n",
    "\n",
    "## From Puzzles to Applications\n",
    "\n",
    "Now for something important. Solving something like consequetive sums with the Gauss formula can seem like it's merely puzzle solving. It's cool. It's elegant but does it mean anything beyond being an impressive trick? Where is the application? Applications are really what most people are interested in, most people are not all that interested in puzzles and tricks. Once a new intuition, formula, or procedure is discoverd it makes sense to start looking for applications. This is another endeavour that is both creative and analytical.\n",
    "\n",
    "## Sequences\n",
    "\n",
    "Consecutive sums is a sequence, a pattern that repeats. Sequences and patterns exist everywhere in nature.\n",
    "\n",
    "<!-- ![Flower](images/flower-2.jpg) -->\n",
    "\n",
    "<img src=\"images/flower-2.jpg\" height=\"250\" width=\"250\">\n",
    "\n",
    "<span stype=\"font-size: 6px;\">Photo by <a href=\"https://unsplash.com/@studiokiek?utm_source=unsplash&amp;utm_medium=referral&amp;utm_content=creditCopyText\">Kiki Siepel</a></span>\n",
    "\n",
    "If we turn consequtive sums into a visual, we might find something that we recognize in nature. That connection to nature is the first potential lead to an application.\n",
    "\n",
    "Here we'll use code to draw, but pencil and paper is better for generating rough, quick ideas for how to visualize."
   ]
  },
  {
   "cell_type": "markdown",
   "metadata": {},
   "source": [
    "## Low Level Code for Drawing\n",
    "\n",
    "First import our needed libraries."
   ]
  },
  {
   "cell_type": "code",
   "execution_count": 603,
   "metadata": {},
   "outputs": [],
   "source": [
    "from io import BytesIO\n",
    "\n",
    "import cairo\n",
    "import IPython.display\n",
    "import math"
   ]
  },
  {
   "cell_type": "markdown",
   "metadata": {},
   "source": [
    "### Draw Unit\n",
    "\n",
    "Next we'll define a function to draw a single unit. A simple shape will do and we'll use circles. We could've picked squares or another simple shape, doesn't really matter."
   ]
  },
  {
   "cell_type": "code",
   "execution_count": 615,
   "metadata": {
    "scrolled": true
   },
   "outputs": [
    {
     "data": {
      "image/svg+xml": [
       "<svg xmlns=\"http://www.w3.org/2000/svg\" xmlns:xlink=\"http://www.w3.org/1999/xlink\" width=\"20pt\" height=\"20pt\" viewBox=\"0 0 20 20\" version=\"1.1\">\n",
       "<g id=\"surface1733\">\n",
       "<path style=\"fill:none;stroke-width:0.45;stroke-linecap:butt;stroke-linejoin:miter;stroke:rgb(0%,0%,0%);stroke-opacity:1;stroke-miterlimit:10;\" d=\"M 1.219922 1 C 1.219922 1.293359 0.780078 1.293359 0.780078 1 C 0.780078 0.706641 1.219922 0.706641 1.219922 1 \" transform=\"matrix(10,0,0,10,0,0)\"/>\n",
       "</g>\n",
       "</svg>"
      ],
      "text/plain": [
       "<IPython.core.display.SVG object>"
      ]
     },
     "execution_count": 615,
     "metadata": {},
     "output_type": "execute_result"
    }
   ],
   "source": [
    "def draw_circle(ctx, x, y):\n",
    "    ctx.set_line_width(0.45)\n",
    "    ctx.arc(x, y, 0.22, 0, 2*math.pi)\n",
    "    ctx.stroke()\n",
    "\n",
    "# Test draw_circle\n",
    "svg = BytesIO()\n",
    "with cairo.SVGSurface(svg, 20, 20) as surface:\n",
    "    ctx = cairo.Context(surface)\n",
    "    ctx.scale(10, 10)\n",
    "    draw_circle(ctx, 1, 1)\n",
    "    \n",
    "IPython.display.SVG(data=svg.getvalue())"
   ]
  },
  {
   "cell_type": "markdown",
   "metadata": {},
   "source": [
    "### Draw Part of the Sequence\n",
    "\n",
    "Now something to represent each part of the sequence. The first part of the sequence will be a single circle, the second set will be two circles, then three, and so on. To start let's lay them out flat in a row.\n",
    "\n",
    "We can loop through the number of times we are in the sequence and draw a circle each time. As we loop we'll use the iterator to offset the x origin of the circle. If we didn't do this, we'd draw all the circles in the same place and it would look like one circle."
   ]
  },
  {
   "cell_type": "code",
   "execution_count": 618,
   "metadata": {},
   "outputs": [
    {
     "data": {
      "image/svg+xml": [
       "<svg xmlns=\"http://www.w3.org/2000/svg\" xmlns:xlink=\"http://www.w3.org/1999/xlink\" width=\"100pt\" height=\"20pt\" viewBox=\"0 0 100 20\" version=\"1.1\">\n",
       "<g id=\"surface1748\">\n",
       "<path style=\"fill:none;stroke-width:0.45;stroke-linecap:butt;stroke-linejoin:miter;stroke:rgb(0%,0%,0%);stroke-opacity:1;stroke-miterlimit:10;\" d=\"M 1.219922 1 C 1.219922 1.293359 0.780078 1.293359 0.780078 1 C 0.780078 0.706641 1.219922 0.706641 1.219922 1 \" transform=\"matrix(10,0,0,10,0,0)\"/>\n",
       "<path style=\"fill:none;stroke-width:0.45;stroke-linecap:butt;stroke-linejoin:miter;stroke:rgb(0%,0%,0%);stroke-opacity:1;stroke-miterlimit:10;\" d=\"M 2.219922 1 C 2.219922 1.293359 1.780078 1.293359 1.780078 1 C 1.780078 0.706641 2.219922 0.706641 2.219922 1 \" transform=\"matrix(10,0,0,10,0,0)\"/>\n",
       "<path style=\"fill:none;stroke-width:0.45;stroke-linecap:butt;stroke-linejoin:miter;stroke:rgb(0%,0%,0%);stroke-opacity:1;stroke-miterlimit:10;\" d=\"M 3.219922 1 C 3.219922 1.293359 2.780078 1.293359 2.780078 1 C 2.780078 0.706641 3.219922 0.706641 3.219922 1 \" transform=\"matrix(10,0,0,10,0,0)\"/>\n",
       "<path style=\"fill:none;stroke-width:0.45;stroke-linecap:butt;stroke-linejoin:miter;stroke:rgb(0%,0%,0%);stroke-opacity:1;stroke-miterlimit:10;\" d=\"M 4.219922 1 C 4.219922 1.293359 3.780078 1.293359 3.780078 1 C 3.780078 0.706641 4.219922 0.706641 4.219922 1 \" transform=\"matrix(10,0,0,10,0,0)\"/>\n",
       "<path style=\"fill:none;stroke-width:0.45;stroke-linecap:butt;stroke-linejoin:miter;stroke:rgb(0%,0%,0%);stroke-opacity:1;stroke-miterlimit:10;\" d=\"M 5.219922 1 C 5.219922 1.293359 4.780078 1.293359 4.780078 1 C 4.780078 0.706641 5.219922 0.706641 5.219922 1 \" transform=\"matrix(10,0,0,10,0,0)\"/>\n",
       "</g>\n",
       "</svg>"
      ],
      "text/plain": [
       "<IPython.core.display.SVG object>"
      ]
     },
     "execution_count": 618,
     "metadata": {},
     "output_type": "execute_result"
    }
   ],
   "source": [
    "def draw_sequence_part(ctx, number_in_sequence, x_origin, y_origin):\n",
    "    for c in range(number_in_sequence):\n",
    "        x_offset = c\n",
    "        draw_circle(ctx, x_origin + x_offset, y_origin)\n",
    "        \n",
    "# Test draw_sequence_part   \n",
    "svg = BytesIO()\n",
    "with cairo.SVGSurface(svg, 100, 20) as surface:\n",
    "    ctx = cairo.Context(surface)\n",
    "    ctx.scale(10, 10)\n",
    "    draw_sequence_part(ctx, 5, 1, 1)\n",
    "    \n",
    "IPython.display.SVG(data=svg.getvalue())"
   ]
  },
  {
   "cell_type": "markdown",
   "metadata": {},
   "source": [
    "Looks good `draw_sequence_part()` with `number_in_sequence = 5` gives us a flat row of 5 units (circles)."
   ]
  },
  {
   "cell_type": "markdown",
   "metadata": {},
   "source": [
    "## First Drawing of the Sequence\n",
    "\n",
    "Now we've got the low level drawing functions to work with. It's time for the attempt to draw the sequence. The most basic version seems like the parts of the sequence laid out flat in rows as well.\n",
    "\n",
    "We can accomplish this by looping through `n` and drawing the sequence part each time. As we loop we need to keep offsetting the x origin to push the sequence parts across horizontal space."
   ]
  },
  {
   "cell_type": "code",
   "execution_count": 638,
   "metadata": {},
   "outputs": [
    {
     "data": {
      "image/svg+xml": [
       "<svg xmlns=\"http://www.w3.org/2000/svg\" xmlns:xlink=\"http://www.w3.org/1999/xlink\" width=\"1000pt\" height=\"20pt\" viewBox=\"0 0 1000 20\" version=\"1.1\">\n",
       "<g id=\"surface1838\">\n",
       "<path style=\"fill:none;stroke-width:0.45;stroke-linecap:butt;stroke-linejoin:miter;stroke:rgb(0%,0%,0%);stroke-opacity:1;stroke-miterlimit:10;\" d=\"M 1.219922 1 C 1.219922 1.293359 0.780078 1.293359 0.780078 1 C 0.780078 0.706641 1.219922 0.706641 1.219922 1 \" transform=\"matrix(10,0,0,10,0,0)\"/>\n",
       "<path style=\"fill:none;stroke-width:0.45;stroke-linecap:butt;stroke-linejoin:miter;stroke:rgb(0%,0%,0%);stroke-opacity:1;stroke-miterlimit:10;\" d=\"M 3.219922 1 C 3.219922 1.293359 2.780078 1.293359 2.780078 1 C 2.780078 0.706641 3.219922 0.706641 3.219922 1 \" transform=\"matrix(10,0,0,10,0,0)\"/>\n",
       "<path style=\"fill:none;stroke-width:0.45;stroke-linecap:butt;stroke-linejoin:miter;stroke:rgb(0%,0%,0%);stroke-opacity:1;stroke-miterlimit:10;\" d=\"M 4.219922 1 C 4.219922 1.293359 3.780078 1.293359 3.780078 1 C 3.780078 0.706641 4.219922 0.706641 4.219922 1 \" transform=\"matrix(10,0,0,10,0,0)\"/>\n",
       "<path style=\"fill:none;stroke-width:0.45;stroke-linecap:butt;stroke-linejoin:miter;stroke:rgb(0%,0%,0%);stroke-opacity:1;stroke-miterlimit:10;\" d=\"M 6.219922 1 C 6.219922 1.293359 5.780078 1.293359 5.780078 1 C 5.780078 0.706641 6.219922 0.706641 6.219922 1 \" transform=\"matrix(10,0,0,10,0,0)\"/>\n",
       "<path style=\"fill:none;stroke-width:0.45;stroke-linecap:butt;stroke-linejoin:miter;stroke:rgb(0%,0%,0%);stroke-opacity:1;stroke-miterlimit:10;\" d=\"M 7.219922 1 C 7.219922 1.293359 6.780078 1.293359 6.780078 1 C 6.780078 0.706641 7.219922 0.706641 7.219922 1 \" transform=\"matrix(10,0,0,10,0,0)\"/>\n",
       "<path style=\"fill:none;stroke-width:0.45;stroke-linecap:butt;stroke-linejoin:miter;stroke:rgb(0%,0%,0%);stroke-opacity:1;stroke-miterlimit:10;\" d=\"M 8.219922 1 C 8.219922 1.293359 7.780078 1.293359 7.780078 1 C 7.780078 0.706641 8.219922 0.706641 8.219922 1 \" transform=\"matrix(10,0,0,10,0,0)\"/>\n",
       "<path style=\"fill:none;stroke-width:0.45;stroke-linecap:butt;stroke-linejoin:miter;stroke:rgb(0%,0%,0%);stroke-opacity:1;stroke-miterlimit:10;\" d=\"M 10.219922 1 C 10.219922 1.293359 9.780078 1.293359 9.780078 1 C 9.780078 0.706641 10.219922 0.706641 10.219922 1 \" transform=\"matrix(10,0,0,10,0,0)\"/>\n",
       "<path style=\"fill:none;stroke-width:0.45;stroke-linecap:butt;stroke-linejoin:miter;stroke:rgb(0%,0%,0%);stroke-opacity:1;stroke-miterlimit:10;\" d=\"M 11.219922 1 C 11.219922 1.293359 10.780078 1.293359 10.780078 1 C 10.780078 0.706641 11.219922 0.706641 11.219922 1 \" transform=\"matrix(10,0,0,10,0,0)\"/>\n",
       "<path style=\"fill:none;stroke-width:0.45;stroke-linecap:butt;stroke-linejoin:miter;stroke:rgb(0%,0%,0%);stroke-opacity:1;stroke-miterlimit:10;\" d=\"M 12.219922 1 C 12.219922 1.293359 11.780078 1.293359 11.780078 1 C 11.780078 0.706641 12.219922 0.706641 12.219922 1 \" transform=\"matrix(10,0,0,10,0,0)\"/>\n",
       "<path style=\"fill:none;stroke-width:0.45;stroke-linecap:butt;stroke-linejoin:miter;stroke:rgb(0%,0%,0%);stroke-opacity:1;stroke-miterlimit:10;\" d=\"M 13.219922 1 C 13.219922 1.293359 12.780078 1.293359 12.780078 1 C 12.780078 0.706641 13.219922 0.706641 13.219922 1 \" transform=\"matrix(10,0,0,10,0,0)\"/>\n",
       "<path style=\"fill:none;stroke-width:0.45;stroke-linecap:butt;stroke-linejoin:miter;stroke:rgb(0%,0%,0%);stroke-opacity:1;stroke-miterlimit:10;\" d=\"M 15.219922 1 C 15.219922 1.293359 14.780078 1.293359 14.780078 1 C 14.780078 0.706641 15.219922 0.706641 15.219922 1 \" transform=\"matrix(10,0,0,10,0,0)\"/>\n",
       "<path style=\"fill:none;stroke-width:0.45;stroke-linecap:butt;stroke-linejoin:miter;stroke:rgb(0%,0%,0%);stroke-opacity:1;stroke-miterlimit:10;\" d=\"M 16.219922 1 C 16.219922 1.293359 15.780078 1.293359 15.780078 1 C 15.780078 0.706641 16.219922 0.706641 16.219922 1 \" transform=\"matrix(10,0,0,10,0,0)\"/>\n",
       "<path style=\"fill:none;stroke-width:0.45;stroke-linecap:butt;stroke-linejoin:miter;stroke:rgb(0%,0%,0%);stroke-opacity:1;stroke-miterlimit:10;\" d=\"M 17.219922 1 C 17.219922 1.293359 16.780078 1.293359 16.780078 1 C 16.780078 0.706641 17.219922 0.706641 17.219922 1 \" transform=\"matrix(10,0,0,10,0,0)\"/>\n",
       "<path style=\"fill:none;stroke-width:0.45;stroke-linecap:butt;stroke-linejoin:miter;stroke:rgb(0%,0%,0%);stroke-opacity:1;stroke-miterlimit:10;\" d=\"M 18.219922 1 C 18.219922 1.293359 17.780078 1.293359 17.780078 1 C 17.780078 0.706641 18.219922 0.706641 18.219922 1 \" transform=\"matrix(10,0,0,10,0,0)\"/>\n",
       "<path style=\"fill:none;stroke-width:0.45;stroke-linecap:butt;stroke-linejoin:miter;stroke:rgb(0%,0%,0%);stroke-opacity:1;stroke-miterlimit:10;\" d=\"M 19.219922 1 C 19.219922 1.293359 18.780078 1.293359 18.780078 1 C 18.780078 0.706641 19.219922 0.706641 19.219922 1 \" transform=\"matrix(10,0,0,10,0,0)\"/>\n",
       "</g>\n",
       "</svg>"
      ],
      "text/plain": [
       "<IPython.core.display.SVG object>"
      ]
     },
     "execution_count": 638,
     "metadata": {},
     "output_type": "execute_result"
    }
   ],
   "source": [
    "def draw_consecutive_sums_flat(ctx, n):\n",
    "    x_offset = 1\n",
    "    for sequence_part in range(1, n + 1):\n",
    "        draw_sequence_part(ctx, sequence_part, x_offset, 1)\n",
    "        x_offset += sequence_part + 1\n",
    "        \n",
    "# Test draw_consecutive_sums_flat   \n",
    "svg = BytesIO()\n",
    "with cairo.SVGSurface(svg, 1000, 20) as surface:\n",
    "    ctx = cairo.Context(surface)\n",
    "    ctx.scale(10, 10)\n",
    "    draw_consecutive_sums_flat(ctx, 5)\n",
    "    \n",
    "IPython.display.SVG(data=svg.getvalue())"
   ]
  },
  {
   "cell_type": "markdown",
   "metadata": {},
   "source": [
    "The `x_offset` was the trickiest part of this one. We keep adding to it each time we go up the sequence adding the `sequence_part + 1` to make sure the sequence part `x_origin` has some separation from the previous sequence part. This took some trial and error.\n",
    "\n",
    "Now we have something drawn. But it doesn't give us much intuition. It more or less looks like the original sequence in math land.\n",
    "\n",
    "```\n",
    "1 + 2 + 3 + 4 + 5\n",
    "```\n",
    "\n",
    "We could make it even look the same if we just summed up all the ones.\n",
    "\n",
    "```\n",
    "(1) + (1 + 1) + (1 + 1 + 1) + (1 + 1 + 1 + 1) + (1 + 1 + 1 + 1 + 1)\n",
    "```\n",
    "\n",
    "So not much intuition gained but we have some raw material to draw some other ways of drawing."
   ]
  },
  {
   "cell_type": "markdown",
   "metadata": {},
   "source": [
    "## Sequence Drawing Redux\n",
    "\n",
    "Our low level functions are still good. Let's experiment with how we separate the sequence parts. Rather than push them apart horizontally let's stack vertically."
   ]
  },
  {
   "cell_type": "code",
   "execution_count": 569,
   "metadata": {},
   "outputs": [],
   "source": [
    "def triangle_numbers(ctx, n):\n",
    "    for r in range(1, n + 1):\n",
    "        xoffset = 1 + (n * 0.55) - (r / 2) # + (n / 4)\n",
    "        circle_row(ctx, r, xoffset, r)"
   ]
  },
  {
   "cell_type": "code",
   "execution_count": 600,
   "metadata": {},
   "outputs": [],
   "source": [
    "def draw_consecutive_sums(n):\n",
    "    svg = BytesIO()\n",
    "    size = n * 14 + 60\n",
    "    size = size if size < 300 else 300\n",
    "    with cairo.SVGSurface(svg, size + 50, size) as surface:\n",
    "        ctx = cairo.Context(surface)\n",
    "        scale = 25 - n\n",
    "        scale = scale if scale > 10 else 10\n",
    "        ctx.scale(scale, scale)\n",
    "        ctx.set_source_rgb(0, 0, 0)\n",
    "        triangle_numbers(ctx, n)\n",
    "\n",
    "    return svg"
   ]
  },
  {
   "cell_type": "code",
   "execution_count": 601,
   "metadata": {},
   "outputs": [
    {
     "data": {
      "image/svg+xml": [
       "<svg xmlns=\"http://www.w3.org/2000/svg\" xmlns:xlink=\"http://www.w3.org/1999/xlink\" width=\"250pt\" height=\"200pt\" viewBox=\"0 0 250 200\" version=\"1.1\">\n",
       "<g id=\"surface1693\">\n",
       "<path style=\"fill:none;stroke-width:0.45;stroke-linecap:butt;stroke-linejoin:miter;stroke:rgb(0%,0%,0%);stroke-opacity:1;stroke-miterlimit:10;\" d=\"M 6.220052 1 C 6.220052 1.293229 5.779948 1.293229 5.779948 1 C 5.779948 0.706771 6.220052 0.706771 6.220052 1 \" transform=\"matrix(15,0,0,15,0,0)\"/>\n",
       "<path style=\"fill:none;stroke-width:0.45;stroke-linecap:butt;stroke-linejoin:miter;stroke:rgb(0%,0%,0%);stroke-opacity:1;stroke-miterlimit:10;\" d=\"M 5.720052 2 C 5.720052 2.293229 5.279948 2.293229 5.279948 2 C 5.279948 1.706771 5.720052 1.706771 5.720052 2 \" transform=\"matrix(15,0,0,15,0,0)\"/>\n",
       "<path style=\"fill:none;stroke-width:0.45;stroke-linecap:butt;stroke-linejoin:miter;stroke:rgb(0%,0%,0%);stroke-opacity:1;stroke-miterlimit:10;\" d=\"M 6.720052 2 C 6.720052 2.293229 6.279948 2.293229 6.279948 2 C 6.279948 1.706771 6.720052 1.706771 6.720052 2 \" transform=\"matrix(15,0,0,15,0,0)\"/>\n",
       "<path style=\"fill:none;stroke-width:0.45;stroke-linecap:butt;stroke-linejoin:miter;stroke:rgb(0%,0%,0%);stroke-opacity:1;stroke-miterlimit:10;\" d=\"M 5.220052 3 C 5.220052 3.293229 4.779948 3.293229 4.779948 3 C 4.779948 2.706771 5.220052 2.706771 5.220052 3 \" transform=\"matrix(15,0,0,15,0,0)\"/>\n",
       "<path style=\"fill:none;stroke-width:0.45;stroke-linecap:butt;stroke-linejoin:miter;stroke:rgb(0%,0%,0%);stroke-opacity:1;stroke-miterlimit:10;\" d=\"M 6.220052 3 C 6.220052 3.293229 5.779948 3.293229 5.779948 3 C 5.779948 2.706771 6.220052 2.706771 6.220052 3 \" transform=\"matrix(15,0,0,15,0,0)\"/>\n",
       "<path style=\"fill:none;stroke-width:0.45;stroke-linecap:butt;stroke-linejoin:miter;stroke:rgb(0%,0%,0%);stroke-opacity:1;stroke-miterlimit:10;\" d=\"M 7.220052 3 C 7.220052 3.293229 6.779948 3.293229 6.779948 3 C 6.779948 2.706771 7.220052 2.706771 7.220052 3 \" transform=\"matrix(15,0,0,15,0,0)\"/>\n",
       "<path style=\"fill:none;stroke-width:0.45;stroke-linecap:butt;stroke-linejoin:miter;stroke:rgb(0%,0%,0%);stroke-opacity:1;stroke-miterlimit:10;\" d=\"M 4.720052 4 C 4.720052 4.293229 4.279948 4.293229 4.279948 4 C 4.279948 3.706771 4.720052 3.706771 4.720052 4 \" transform=\"matrix(15,0,0,15,0,0)\"/>\n",
       "<path style=\"fill:none;stroke-width:0.45;stroke-linecap:butt;stroke-linejoin:miter;stroke:rgb(0%,0%,0%);stroke-opacity:1;stroke-miterlimit:10;\" d=\"M 5.720052 4 C 5.720052 4.293229 5.279948 4.293229 5.279948 4 C 5.279948 3.706771 5.720052 3.706771 5.720052 4 \" transform=\"matrix(15,0,0,15,0,0)\"/>\n",
       "<path style=\"fill:none;stroke-width:0.45;stroke-linecap:butt;stroke-linejoin:miter;stroke:rgb(0%,0%,0%);stroke-opacity:1;stroke-miterlimit:10;\" d=\"M 6.720052 4 C 6.720052 4.293229 6.279948 4.293229 6.279948 4 C 6.279948 3.706771 6.720052 3.706771 6.720052 4 \" transform=\"matrix(15,0,0,15,0,0)\"/>\n",
       "<path style=\"fill:none;stroke-width:0.45;stroke-linecap:butt;stroke-linejoin:miter;stroke:rgb(0%,0%,0%);stroke-opacity:1;stroke-miterlimit:10;\" d=\"M 7.720052 4 C 7.720052 4.293229 7.279948 4.293229 7.279948 4 C 7.279948 3.706771 7.720052 3.706771 7.720052 4 \" transform=\"matrix(15,0,0,15,0,0)\"/>\n",
       "<path style=\"fill:none;stroke-width:0.45;stroke-linecap:butt;stroke-linejoin:miter;stroke:rgb(0%,0%,0%);stroke-opacity:1;stroke-miterlimit:10;\" d=\"M 4.220052 5 C 4.220052 5.293229 3.779948 5.293229 3.779948 5 C 3.779948 4.706771 4.220052 4.706771 4.220052 5 \" transform=\"matrix(15,0,0,15,0,0)\"/>\n",
       "<path style=\"fill:none;stroke-width:0.45;stroke-linecap:butt;stroke-linejoin:miter;stroke:rgb(0%,0%,0%);stroke-opacity:1;stroke-miterlimit:10;\" d=\"M 5.220052 5 C 5.220052 5.293229 4.779948 5.293229 4.779948 5 C 4.779948 4.706771 5.220052 4.706771 5.220052 5 \" transform=\"matrix(15,0,0,15,0,0)\"/>\n",
       "<path style=\"fill:none;stroke-width:0.45;stroke-linecap:butt;stroke-linejoin:miter;stroke:rgb(0%,0%,0%);stroke-opacity:1;stroke-miterlimit:10;\" d=\"M 6.220052 5 C 6.220052 5.293229 5.779948 5.293229 5.779948 5 C 5.779948 4.706771 6.220052 4.706771 6.220052 5 \" transform=\"matrix(15,0,0,15,0,0)\"/>\n",
       "<path style=\"fill:none;stroke-width:0.45;stroke-linecap:butt;stroke-linejoin:miter;stroke:rgb(0%,0%,0%);stroke-opacity:1;stroke-miterlimit:10;\" d=\"M 7.220052 5 C 7.220052 5.293229 6.779948 5.293229 6.779948 5 C 6.779948 4.706771 7.220052 4.706771 7.220052 5 \" transform=\"matrix(15,0,0,15,0,0)\"/>\n",
       "<path style=\"fill:none;stroke-width:0.45;stroke-linecap:butt;stroke-linejoin:miter;stroke:rgb(0%,0%,0%);stroke-opacity:1;stroke-miterlimit:10;\" d=\"M 8.220052 5 C 8.220052 5.293229 7.779948 5.293229 7.779948 5 C 7.779948 4.706771 8.220052 4.706771 8.220052 5 \" transform=\"matrix(15,0,0,15,0,0)\"/>\n",
       "<path style=\"fill:none;stroke-width:0.45;stroke-linecap:butt;stroke-linejoin:miter;stroke:rgb(0%,0%,0%);stroke-opacity:1;stroke-miterlimit:10;\" d=\"M 3.720052 6 C 3.720052 6.293229 3.279948 6.293229 3.279948 6 C 3.279948 5.706771 3.720052 5.706771 3.720052 6 \" transform=\"matrix(15,0,0,15,0,0)\"/>\n",
       "<path style=\"fill:none;stroke-width:0.45;stroke-linecap:butt;stroke-linejoin:miter;stroke:rgb(0%,0%,0%);stroke-opacity:1;stroke-miterlimit:10;\" d=\"M 4.720052 6 C 4.720052 6.293229 4.279948 6.293229 4.279948 6 C 4.279948 5.706771 4.720052 5.706771 4.720052 6 \" transform=\"matrix(15,0,0,15,0,0)\"/>\n",
       "<path style=\"fill:none;stroke-width:0.45;stroke-linecap:butt;stroke-linejoin:miter;stroke:rgb(0%,0%,0%);stroke-opacity:1;stroke-miterlimit:10;\" d=\"M 5.720052 6 C 5.720052 6.293229 5.279948 6.293229 5.279948 6 C 5.279948 5.706771 5.720052 5.706771 5.720052 6 \" transform=\"matrix(15,0,0,15,0,0)\"/>\n",
       "<path style=\"fill:none;stroke-width:0.45;stroke-linecap:butt;stroke-linejoin:miter;stroke:rgb(0%,0%,0%);stroke-opacity:1;stroke-miterlimit:10;\" d=\"M 6.720052 6 C 6.720052 6.293229 6.279948 6.293229 6.279948 6 C 6.279948 5.706771 6.720052 5.706771 6.720052 6 \" transform=\"matrix(15,0,0,15,0,0)\"/>\n",
       "<path style=\"fill:none;stroke-width:0.45;stroke-linecap:butt;stroke-linejoin:miter;stroke:rgb(0%,0%,0%);stroke-opacity:1;stroke-miterlimit:10;\" d=\"M 7.720052 6 C 7.720052 6.293229 7.279948 6.293229 7.279948 6 C 7.279948 5.706771 7.720052 5.706771 7.720052 6 \" transform=\"matrix(15,0,0,15,0,0)\"/>\n",
       "<path style=\"fill:none;stroke-width:0.45;stroke-linecap:butt;stroke-linejoin:miter;stroke:rgb(0%,0%,0%);stroke-opacity:1;stroke-miterlimit:10;\" d=\"M 8.720052 6 C 8.720052 6.293229 8.279948 6.293229 8.279948 6 C 8.279948 5.706771 8.720052 5.706771 8.720052 6 \" transform=\"matrix(15,0,0,15,0,0)\"/>\n",
       "<path style=\"fill:none;stroke-width:0.45;stroke-linecap:butt;stroke-linejoin:miter;stroke:rgb(0%,0%,0%);stroke-opacity:1;stroke-miterlimit:10;\" d=\"M 3.220052 7 C 3.220052 7.293229 2.779948 7.293229 2.779948 7 C 2.779948 6.706771 3.220052 6.706771 3.220052 7 \" transform=\"matrix(15,0,0,15,0,0)\"/>\n",
       "<path style=\"fill:none;stroke-width:0.45;stroke-linecap:butt;stroke-linejoin:miter;stroke:rgb(0%,0%,0%);stroke-opacity:1;stroke-miterlimit:10;\" d=\"M 4.220052 7 C 4.220052 7.293229 3.779948 7.293229 3.779948 7 C 3.779948 6.706771 4.220052 6.706771 4.220052 7 \" transform=\"matrix(15,0,0,15,0,0)\"/>\n",
       "<path style=\"fill:none;stroke-width:0.45;stroke-linecap:butt;stroke-linejoin:miter;stroke:rgb(0%,0%,0%);stroke-opacity:1;stroke-miterlimit:10;\" d=\"M 5.220052 7 C 5.220052 7.293229 4.779948 7.293229 4.779948 7 C 4.779948 6.706771 5.220052 6.706771 5.220052 7 \" transform=\"matrix(15,0,0,15,0,0)\"/>\n",
       "<path style=\"fill:none;stroke-width:0.45;stroke-linecap:butt;stroke-linejoin:miter;stroke:rgb(0%,0%,0%);stroke-opacity:1;stroke-miterlimit:10;\" d=\"M 6.220052 7 C 6.220052 7.293229 5.779948 7.293229 5.779948 7 C 5.779948 6.706771 6.220052 6.706771 6.220052 7 \" transform=\"matrix(15,0,0,15,0,0)\"/>\n",
       "<path style=\"fill:none;stroke-width:0.45;stroke-linecap:butt;stroke-linejoin:miter;stroke:rgb(0%,0%,0%);stroke-opacity:1;stroke-miterlimit:10;\" d=\"M 7.220052 7 C 7.220052 7.293229 6.779948 7.293229 6.779948 7 C 6.779948 6.706771 7.220052 6.706771 7.220052 7 \" transform=\"matrix(15,0,0,15,0,0)\"/>\n",
       "<path style=\"fill:none;stroke-width:0.45;stroke-linecap:butt;stroke-linejoin:miter;stroke:rgb(0%,0%,0%);stroke-opacity:1;stroke-miterlimit:10;\" d=\"M 8.220052 7 C 8.220052 7.293229 7.779948 7.293229 7.779948 7 C 7.779948 6.706771 8.220052 6.706771 8.220052 7 \" transform=\"matrix(15,0,0,15,0,0)\"/>\n",
       "<path style=\"fill:none;stroke-width:0.45;stroke-linecap:butt;stroke-linejoin:miter;stroke:rgb(0%,0%,0%);stroke-opacity:1;stroke-miterlimit:10;\" d=\"M 9.220052 7 C 9.220052 7.293229 8.779948 7.293229 8.779948 7 C 8.779948 6.706771 9.220052 6.706771 9.220052 7 \" transform=\"matrix(15,0,0,15,0,0)\"/>\n",
       "<path style=\"fill:none;stroke-width:0.45;stroke-linecap:butt;stroke-linejoin:miter;stroke:rgb(0%,0%,0%);stroke-opacity:1;stroke-miterlimit:10;\" d=\"M 2.720052 8 C 2.720052 8.293229 2.279948 8.293229 2.279948 8 C 2.279948 7.706771 2.720052 7.706771 2.720052 8 \" transform=\"matrix(15,0,0,15,0,0)\"/>\n",
       "<path style=\"fill:none;stroke-width:0.45;stroke-linecap:butt;stroke-linejoin:miter;stroke:rgb(0%,0%,0%);stroke-opacity:1;stroke-miterlimit:10;\" d=\"M 3.720052 8 C 3.720052 8.293229 3.279948 8.293229 3.279948 8 C 3.279948 7.706771 3.720052 7.706771 3.720052 8 \" transform=\"matrix(15,0,0,15,0,0)\"/>\n",
       "<path style=\"fill:none;stroke-width:0.45;stroke-linecap:butt;stroke-linejoin:miter;stroke:rgb(0%,0%,0%);stroke-opacity:1;stroke-miterlimit:10;\" d=\"M 4.720052 8 C 4.720052 8.293229 4.279948 8.293229 4.279948 8 C 4.279948 7.706771 4.720052 7.706771 4.720052 8 \" transform=\"matrix(15,0,0,15,0,0)\"/>\n",
       "<path style=\"fill:none;stroke-width:0.45;stroke-linecap:butt;stroke-linejoin:miter;stroke:rgb(0%,0%,0%);stroke-opacity:1;stroke-miterlimit:10;\" d=\"M 5.720052 8 C 5.720052 8.293229 5.279948 8.293229 5.279948 8 C 5.279948 7.706771 5.720052 7.706771 5.720052 8 \" transform=\"matrix(15,0,0,15,0,0)\"/>\n",
       "<path style=\"fill:none;stroke-width:0.45;stroke-linecap:butt;stroke-linejoin:miter;stroke:rgb(0%,0%,0%);stroke-opacity:1;stroke-miterlimit:10;\" d=\"M 6.720052 8 C 6.720052 8.293229 6.279948 8.293229 6.279948 8 C 6.279948 7.706771 6.720052 7.706771 6.720052 8 \" transform=\"matrix(15,0,0,15,0,0)\"/>\n",
       "<path style=\"fill:none;stroke-width:0.45;stroke-linecap:butt;stroke-linejoin:miter;stroke:rgb(0%,0%,0%);stroke-opacity:1;stroke-miterlimit:10;\" d=\"M 7.720052 8 C 7.720052 8.293229 7.279948 8.293229 7.279948 8 C 7.279948 7.706771 7.720052 7.706771 7.720052 8 \" transform=\"matrix(15,0,0,15,0,0)\"/>\n",
       "<path style=\"fill:none;stroke-width:0.45;stroke-linecap:butt;stroke-linejoin:miter;stroke:rgb(0%,0%,0%);stroke-opacity:1;stroke-miterlimit:10;\" d=\"M 8.720052 8 C 8.720052 8.293229 8.279948 8.293229 8.279948 8 C 8.279948 7.706771 8.720052 7.706771 8.720052 8 \" transform=\"matrix(15,0,0,15,0,0)\"/>\n",
       "<path style=\"fill:none;stroke-width:0.45;stroke-linecap:butt;stroke-linejoin:miter;stroke:rgb(0%,0%,0%);stroke-opacity:1;stroke-miterlimit:10;\" d=\"M 9.720052 8 C 9.720052 8.293229 9.279948 8.293229 9.279948 8 C 9.279948 7.706771 9.720052 7.706771 9.720052 8 \" transform=\"matrix(15,0,0,15,0,0)\"/>\n",
       "<path style=\"fill:none;stroke-width:0.45;stroke-linecap:butt;stroke-linejoin:miter;stroke:rgb(0%,0%,0%);stroke-opacity:1;stroke-miterlimit:10;\" d=\"M 2.220052 9 C 2.220052 9.293229 1.779948 9.293229 1.779948 9 C 1.779948 8.706771 2.220052 8.706771 2.220052 9 \" transform=\"matrix(15,0,0,15,0,0)\"/>\n",
       "<path style=\"fill:none;stroke-width:0.45;stroke-linecap:butt;stroke-linejoin:miter;stroke:rgb(0%,0%,0%);stroke-opacity:1;stroke-miterlimit:10;\" d=\"M 3.220052 9 C 3.220052 9.293229 2.779948 9.293229 2.779948 9 C 2.779948 8.706771 3.220052 8.706771 3.220052 9 \" transform=\"matrix(15,0,0,15,0,0)\"/>\n",
       "<path style=\"fill:none;stroke-width:0.45;stroke-linecap:butt;stroke-linejoin:miter;stroke:rgb(0%,0%,0%);stroke-opacity:1;stroke-miterlimit:10;\" d=\"M 4.220052 9 C 4.220052 9.293229 3.779948 9.293229 3.779948 9 C 3.779948 8.706771 4.220052 8.706771 4.220052 9 \" transform=\"matrix(15,0,0,15,0,0)\"/>\n",
       "<path style=\"fill:none;stroke-width:0.45;stroke-linecap:butt;stroke-linejoin:miter;stroke:rgb(0%,0%,0%);stroke-opacity:1;stroke-miterlimit:10;\" d=\"M 5.220052 9 C 5.220052 9.293229 4.779948 9.293229 4.779948 9 C 4.779948 8.706771 5.220052 8.706771 5.220052 9 \" transform=\"matrix(15,0,0,15,0,0)\"/>\n",
       "<path style=\"fill:none;stroke-width:0.45;stroke-linecap:butt;stroke-linejoin:miter;stroke:rgb(0%,0%,0%);stroke-opacity:1;stroke-miterlimit:10;\" d=\"M 6.220052 9 C 6.220052 9.293229 5.779948 9.293229 5.779948 9 C 5.779948 8.706771 6.220052 8.706771 6.220052 9 \" transform=\"matrix(15,0,0,15,0,0)\"/>\n",
       "<path style=\"fill:none;stroke-width:0.45;stroke-linecap:butt;stroke-linejoin:miter;stroke:rgb(0%,0%,0%);stroke-opacity:1;stroke-miterlimit:10;\" d=\"M 7.220052 9 C 7.220052 9.293229 6.779948 9.293229 6.779948 9 C 6.779948 8.706771 7.220052 8.706771 7.220052 9 \" transform=\"matrix(15,0,0,15,0,0)\"/>\n",
       "<path style=\"fill:none;stroke-width:0.45;stroke-linecap:butt;stroke-linejoin:miter;stroke:rgb(0%,0%,0%);stroke-opacity:1;stroke-miterlimit:10;\" d=\"M 8.220052 9 C 8.220052 9.293229 7.779948 9.293229 7.779948 9 C 7.779948 8.706771 8.220052 8.706771 8.220052 9 \" transform=\"matrix(15,0,0,15,0,0)\"/>\n",
       "<path style=\"fill:none;stroke-width:0.45;stroke-linecap:butt;stroke-linejoin:miter;stroke:rgb(0%,0%,0%);stroke-opacity:1;stroke-miterlimit:10;\" d=\"M 9.220052 9 C 9.220052 9.293229 8.779948 9.293229 8.779948 9 C 8.779948 8.706771 9.220052 8.706771 9.220052 9 \" transform=\"matrix(15,0,0,15,0,0)\"/>\n",
       "<path style=\"fill:none;stroke-width:0.45;stroke-linecap:butt;stroke-linejoin:miter;stroke:rgb(0%,0%,0%);stroke-opacity:1;stroke-miterlimit:10;\" d=\"M 10.220052 9 C 10.220052 9.293229 9.779948 9.293229 9.779948 9 C 9.779948 8.706771 10.220052 8.706771 10.220052 9 \" transform=\"matrix(15,0,0,15,0,0)\"/>\n",
       "<path style=\"fill:none;stroke-width:0.45;stroke-linecap:butt;stroke-linejoin:miter;stroke:rgb(0%,0%,0%);stroke-opacity:1;stroke-miterlimit:10;\" d=\"M 1.720052 10 C 1.720052 10.293229 1.279948 10.293229 1.279948 10 C 1.279948 9.706771 1.720052 9.706771 1.720052 10 \" transform=\"matrix(15,0,0,15,0,0)\"/>\n",
       "<path style=\"fill:none;stroke-width:0.45;stroke-linecap:butt;stroke-linejoin:miter;stroke:rgb(0%,0%,0%);stroke-opacity:1;stroke-miterlimit:10;\" d=\"M 2.720052 10 C 2.720052 10.293229 2.279948 10.293229 2.279948 10 C 2.279948 9.706771 2.720052 9.706771 2.720052 10 \" transform=\"matrix(15,0,0,15,0,0)\"/>\n",
       "<path style=\"fill:none;stroke-width:0.45;stroke-linecap:butt;stroke-linejoin:miter;stroke:rgb(0%,0%,0%);stroke-opacity:1;stroke-miterlimit:10;\" d=\"M 3.720052 10 C 3.720052 10.293229 3.279948 10.293229 3.279948 10 C 3.279948 9.706771 3.720052 9.706771 3.720052 10 \" transform=\"matrix(15,0,0,15,0,0)\"/>\n",
       "<path style=\"fill:none;stroke-width:0.45;stroke-linecap:butt;stroke-linejoin:miter;stroke:rgb(0%,0%,0%);stroke-opacity:1;stroke-miterlimit:10;\" d=\"M 4.720052 10 C 4.720052 10.293229 4.279948 10.293229 4.279948 10 C 4.279948 9.706771 4.720052 9.706771 4.720052 10 \" transform=\"matrix(15,0,0,15,0,0)\"/>\n",
       "<path style=\"fill:none;stroke-width:0.45;stroke-linecap:butt;stroke-linejoin:miter;stroke:rgb(0%,0%,0%);stroke-opacity:1;stroke-miterlimit:10;\" d=\"M 5.720052 10 C 5.720052 10.293229 5.279948 10.293229 5.279948 10 C 5.279948 9.706771 5.720052 9.706771 5.720052 10 \" transform=\"matrix(15,0,0,15,0,0)\"/>\n",
       "<path style=\"fill:none;stroke-width:0.45;stroke-linecap:butt;stroke-linejoin:miter;stroke:rgb(0%,0%,0%);stroke-opacity:1;stroke-miterlimit:10;\" d=\"M 6.720052 10 C 6.720052 10.293229 6.279948 10.293229 6.279948 10 C 6.279948 9.706771 6.720052 9.706771 6.720052 10 \" transform=\"matrix(15,0,0,15,0,0)\"/>\n",
       "<path style=\"fill:none;stroke-width:0.45;stroke-linecap:butt;stroke-linejoin:miter;stroke:rgb(0%,0%,0%);stroke-opacity:1;stroke-miterlimit:10;\" d=\"M 7.720052 10 C 7.720052 10.293229 7.279948 10.293229 7.279948 10 C 7.279948 9.706771 7.720052 9.706771 7.720052 10 \" transform=\"matrix(15,0,0,15,0,0)\"/>\n",
       "<path style=\"fill:none;stroke-width:0.45;stroke-linecap:butt;stroke-linejoin:miter;stroke:rgb(0%,0%,0%);stroke-opacity:1;stroke-miterlimit:10;\" d=\"M 8.720052 10 C 8.720052 10.293229 8.279948 10.293229 8.279948 10 C 8.279948 9.706771 8.720052 9.706771 8.720052 10 \" transform=\"matrix(15,0,0,15,0,0)\"/>\n",
       "<path style=\"fill:none;stroke-width:0.45;stroke-linecap:butt;stroke-linejoin:miter;stroke:rgb(0%,0%,0%);stroke-opacity:1;stroke-miterlimit:10;\" d=\"M 9.720052 10 C 9.720052 10.293229 9.279948 10.293229 9.279948 10 C 9.279948 9.706771 9.720052 9.706771 9.720052 10 \" transform=\"matrix(15,0,0,15,0,0)\"/>\n",
       "<path style=\"fill:none;stroke-width:0.45;stroke-linecap:butt;stroke-linejoin:miter;stroke:rgb(0%,0%,0%);stroke-opacity:1;stroke-miterlimit:10;\" d=\"M 10.720052 10 C 10.720052 10.293229 10.279948 10.293229 10.279948 10 C 10.279948 9.706771 10.720052 9.706771 10.720052 10 \" transform=\"matrix(15,0,0,15,0,0)\"/>\n",
       "</g>\n",
       "</svg>"
      ],
      "text/plain": [
       "<IPython.core.display.SVG object>"
      ]
     },
     "execution_count": 601,
     "metadata": {},
     "output_type": "execute_result"
    }
   ],
   "source": [
    "svg = draw_consecutive_sums(10)\n",
    "IPython.display.SVG(data=svg.getvalue())\n"
   ]
  },
  {
   "cell_type": "code",
   "execution_count": 585,
   "metadata": {},
   "outputs": [
    {
     "data": {
      "image/svg+xml": [
       "<svg xmlns=\"http://www.w3.org/2000/svg\" xmlns:xlink=\"http://www.w3.org/1999/xlink\" width=\"250pt\" height=\"200pt\" viewBox=\"0 0 250 200\" version=\"1.1\">\n",
       "<defs>\n",
       "<g>\n",
       "<symbol overflow=\"visible\" id=\"glyph0-0\">\n",
       "<path style=\"stroke:none;\" d=\"M 0.339844 0 L 0.339844 -7.53125 L 6.316406 -7.53125 L 6.316406 0 Z M 5.375 -0.945312 L 5.375 -6.589844 L 1.28125 -6.589844 L 1.28125 -0.945312 Z M 5.375 -0.945312 \"/>\n",
       "</symbol>\n",
       "<symbol overflow=\"visible\" id=\"glyph0-1\">\n",
       "<path style=\"stroke:none;\" d=\"M 1.382812 -1.460938 C 1.382812 -1.195312 1.480469 -0.984375 1.675781 -0.832031 C 1.871094 -0.675781 2.101562 -0.601562 2.367188 -0.601562 C 2.691406 -0.601562 3.007812 -0.675781 3.3125 -0.824219 C 3.824219 -1.074219 4.082031 -1.484375 4.082031 -2.050781 L 4.082031 -2.792969 C 3.96875 -2.722656 3.824219 -2.664062 3.644531 -2.613281 C 3.46875 -2.566406 3.292969 -2.53125 3.121094 -2.511719 L 2.5625 -2.441406 C 2.226562 -2.394531 1.976562 -2.324219 1.808594 -2.230469 C 1.527344 -2.070312 1.382812 -1.8125 1.382812 -1.460938 Z M 3.621094 -3.328125 C 3.832031 -3.355469 3.972656 -3.445312 4.046875 -3.59375 C 4.085938 -3.675781 4.105469 -3.792969 4.105469 -3.949219 C 4.105469 -4.261719 3.996094 -4.492188 3.769531 -4.632812 C 3.546875 -4.773438 3.226562 -4.84375 2.808594 -4.84375 C 2.328125 -4.84375 1.984375 -4.714844 1.785156 -4.457031 C 1.671875 -4.3125 1.597656 -4.097656 1.5625 -3.8125 L 0.703125 -3.8125 C 0.71875 -4.492188 0.9375 -4.960938 1.359375 -5.226562 C 1.78125 -5.492188 2.273438 -5.625 2.828125 -5.625 C 3.476562 -5.625 4 -5.5 4.402344 -5.253906 C 4.804688 -5.007812 5.003906 -4.625 5.003906 -4.105469 L 5.003906 -0.945312 C 5.003906 -0.847656 5.023438 -0.769531 5.0625 -0.710938 C 5.101562 -0.652344 5.183594 -0.625 5.3125 -0.625 C 5.351562 -0.625 5.398438 -0.628906 5.449219 -0.632812 C 5.5 -0.636719 5.554688 -0.644531 5.613281 -0.65625 L 5.613281 0.0273438 C 5.46875 0.0664062 5.359375 0.09375 5.285156 0.101562 C 5.210938 0.113281 5.109375 0.117188 4.976562 0.117188 C 4.660156 0.117188 4.429688 0.00390625 4.285156 -0.21875 C 4.210938 -0.339844 4.15625 -0.507812 4.128906 -0.726562 C 3.941406 -0.480469 3.667969 -0.269531 3.316406 -0.0859375 C 2.964844 0.09375 2.578125 0.183594 2.152344 0.183594 C 1.644531 0.183594 1.226562 0.03125 0.90625 -0.28125 C 0.582031 -0.589844 0.421875 -0.976562 0.421875 -1.441406 C 0.421875 -1.949219 0.578125 -2.34375 0.898438 -2.625 C 1.214844 -2.90625 1.632812 -3.078125 2.148438 -3.144531 Z M 3.621094 -3.328125 \"/>\n",
       "</symbol>\n",
       "<symbol overflow=\"visible\" id=\"glyph0-2\">\n",
       "<path style=\"stroke:none;\" d=\"M 1.226562 -1.722656 C 1.253906 -1.414062 1.328125 -1.179688 1.457031 -1.015625 C 1.6875 -0.71875 2.09375 -0.570312 2.664062 -0.570312 C 3.007812 -0.570312 3.308594 -0.644531 3.570312 -0.792969 C 3.828125 -0.941406 3.957031 -1.171875 3.957031 -1.480469 C 3.957031 -1.71875 3.855469 -1.898438 3.644531 -2.019531 C 3.511719 -2.09375 3.25 -2.183594 2.855469 -2.28125 L 2.121094 -2.464844 C 1.652344 -2.582031 1.308594 -2.710938 1.085938 -2.855469 C 0.691406 -3.105469 0.492188 -3.449219 0.492188 -3.890625 C 0.492188 -4.410156 0.679688 -4.832031 1.054688 -5.152344 C 1.429688 -5.472656 1.929688 -5.632812 2.5625 -5.632812 C 3.390625 -5.632812 3.988281 -5.390625 4.351562 -4.90625 C 4.582031 -4.597656 4.691406 -4.265625 4.6875 -3.910156 L 3.8125 -3.910156 C 3.796875 -4.121094 3.722656 -4.308594 3.59375 -4.480469 C 3.382812 -4.722656 3.015625 -4.84375 2.492188 -4.84375 C 2.144531 -4.84375 1.878906 -4.777344 1.699219 -4.644531 C 1.519531 -4.511719 1.429688 -4.335938 1.429688 -4.117188 C 1.429688 -3.878906 1.546875 -3.6875 1.785156 -3.542969 C 1.921875 -3.457031 2.121094 -3.382812 2.390625 -3.316406 L 3 -3.167969 C 3.664062 -3.007812 4.105469 -2.851562 4.332031 -2.703125 C 4.691406 -2.464844 4.871094 -2.09375 4.871094 -1.589844 C 4.871094 -1.101562 4.683594 -0.679688 4.3125 -0.324219 C 3.941406 0.03125 3.378906 0.210938 2.621094 0.210938 C 1.804688 0.210938 1.222656 0.0234375 0.882812 -0.347656 C 0.542969 -0.71875 0.363281 -1.175781 0.339844 -1.722656 Z M 1.226562 -1.722656 \"/>\n",
       "</symbol>\n",
       "<symbol overflow=\"visible\" id=\"glyph0-3\">\n",
       "<path style=\"stroke:none;\" d=\"M 1.261719 -2.679688 C 1.261719 -2.09375 1.386719 -1.601562 1.636719 -1.203125 C 1.886719 -0.808594 2.285156 -0.609375 2.835938 -0.609375 C 3.261719 -0.609375 3.613281 -0.792969 3.890625 -1.160156 C 4.164062 -1.527344 4.300781 -2.054688 4.300781 -2.742188 C 4.300781 -3.4375 4.160156 -3.949219 3.875 -4.285156 C 3.59375 -4.617188 3.242188 -4.785156 2.824219 -4.785156 C 2.359375 -4.785156 1.984375 -4.605469 1.695312 -4.25 C 1.40625 -3.894531 1.261719 -3.371094 1.261719 -2.679688 Z M 2.652344 -5.589844 C 3.070312 -5.589844 3.421875 -5.5 3.707031 -5.320312 C 3.871094 -5.21875 4.058594 -5.039062 4.265625 -4.785156 L 4.265625 -7.558594 L 5.152344 -7.558594 L 5.152344 0 L 4.320312 0 L 4.320312 -0.765625 C 4.105469 -0.425781 3.851562 -0.179688 3.558594 -0.03125 C 3.265625 0.121094 2.925781 0.195312 2.546875 0.195312 C 1.9375 0.195312 1.40625 -0.0625 0.957031 -0.578125 C 0.511719 -1.089844 0.289062 -1.777344 0.289062 -2.628906 C 0.289062 -3.429688 0.492188 -4.121094 0.898438 -4.710938 C 1.308594 -5.296875 1.890625 -5.589844 2.652344 -5.589844 Z M 2.652344 -5.589844 \"/>\n",
       "</symbol>\n",
       "<symbol overflow=\"visible\" id=\"glyph0-4\">\n",
       "<path style=\"stroke:none;\" d=\"M 0.90625 -6.328125 C 0.921875 -6.710938 0.988281 -6.988281 1.109375 -7.167969 C 1.324219 -7.480469 1.738281 -7.640625 2.351562 -7.640625 C 2.410156 -7.640625 2.472656 -7.636719 2.53125 -7.632812 C 2.59375 -7.628906 2.664062 -7.625 2.742188 -7.617188 L 2.742188 -6.777344 C 2.648438 -6.785156 2.578125 -6.789062 2.535156 -6.789062 C 2.492188 -6.792969 2.453125 -6.792969 2.414062 -6.792969 C 2.132812 -6.792969 1.96875 -6.71875 1.914062 -6.574219 C 1.859375 -6.429688 1.832031 -6.058594 1.832031 -5.464844 L 2.742188 -5.464844 L 2.742188 -4.738281 L 1.820312 -4.738281 L 1.820312 0 L 0.90625 0 L 0.90625 -4.738281 L 0.144531 -4.738281 L 0.144531 -5.464844 L 0.90625 -5.464844 Z M 0.90625 -6.328125 \"/>\n",
       "</symbol>\n",
       "<symbol overflow=\"visible\" id=\"glyph0-5\">\n",
       "<path style=\"stroke:none;\" d=\"M 2.855469 -0.59375 C 3.46875 -0.59375 3.886719 -0.828125 4.113281 -1.289062 C 4.339844 -1.753906 4.457031 -2.269531 4.457031 -2.835938 C 4.457031 -3.347656 4.375 -3.765625 4.210938 -4.085938 C 3.949219 -4.59375 3.5 -4.84375 2.867188 -4.84375 C 2.300781 -4.84375 1.890625 -4.628906 1.636719 -4.199219 C 1.378906 -3.769531 1.25 -3.25 1.25 -2.640625 C 1.25 -2.054688 1.378906 -1.570312 1.636719 -1.179688 C 1.890625 -0.789062 2.296875 -0.59375 2.855469 -0.59375 Z M 2.890625 -5.648438 C 3.597656 -5.648438 4.195312 -5.414062 4.6875 -4.941406 C 5.175781 -4.46875 5.417969 -3.777344 5.417969 -2.859375 C 5.417969 -1.976562 5.203125 -1.242188 4.773438 -0.667969 C 4.34375 -0.0898438 3.675781 0.199219 2.769531 0.199219 C 2.011719 0.199219 1.414062 -0.0546875 0.96875 -0.566406 C 0.523438 -1.078125 0.300781 -1.765625 0.300781 -2.625 C 0.300781 -3.546875 0.535156 -4.28125 1.003906 -4.828125 C 1.472656 -5.375 2.101562 -5.648438 2.890625 -5.648438 Z M 2.890625 -5.648438 \"/>\n",
       "</symbol>\n",
       "<symbol overflow=\"visible\" id=\"glyph0-6\">\n",
       "<path style=\"stroke:none;\" d=\"M 0.675781 -5.464844 L 1.613281 -5.464844 L 1.613281 0 L 0.675781 0 Z M 0.675781 -7.53125 L 1.613281 -7.53125 L 1.613281 -6.484375 L 0.675781 -6.484375 Z M 0.675781 -7.53125 \"/>\n",
       "</symbol>\n",
       "<symbol overflow=\"visible\" id=\"glyph0-7\">\n",
       "<path style=\"stroke:none;\" d=\"M 1.601562 -5.492188 L 1.601562 -1.84375 C 1.601562 -1.566406 1.644531 -1.335938 1.734375 -1.160156 C 1.898438 -0.832031 2.203125 -0.667969 2.652344 -0.667969 C 3.292969 -0.667969 3.730469 -0.953125 3.964844 -1.527344 C 4.089844 -1.835938 4.152344 -2.257812 4.152344 -2.792969 L 4.152344 -5.492188 L 5.074219 -5.492188 L 5.074219 0 L 4.203125 0 L 4.214844 -0.808594 C 4.09375 -0.601562 3.945312 -0.425781 3.769531 -0.28125 C 3.417969 0.00390625 2.988281 0.148438 2.488281 0.148438 C 1.703125 0.148438 1.171875 -0.113281 0.886719 -0.636719 C 0.734375 -0.917969 0.65625 -1.289062 0.65625 -1.757812 L 0.65625 -5.492188 Z M 1.601562 -5.492188 \"/>\n",
       "</symbol>\n",
       "<symbol overflow=\"visible\" id=\"glyph0-8\">\n",
       "<path style=\"stroke:none;\" d=\"M 1.601562 -6.464844 L 0.675781 -6.464844 L 0.675781 -7.53125 L 1.601562 -7.53125 Z M -0.195312 1.390625 C 0.21875 1.375 0.46875 1.339844 0.550781 1.277344 C 0.632812 1.21875 0.675781 1.03125 0.675781 0.71875 L 0.675781 -5.464844 L 1.601562 -5.464844 L 1.601562 0.816406 C 1.601562 1.214844 1.535156 1.515625 1.40625 1.710938 C 1.191406 2.046875 0.78125 2.214844 0.179688 2.214844 C 0.136719 2.214844 0.0898438 2.214844 0.0390625 2.210938 C -0.0117188 2.207031 -0.0898438 2.199219 -0.195312 2.1875 Z M -0.195312 1.390625 \"/>\n",
       "</symbol>\n",
       "<symbol overflow=\"visible\" id=\"glyph0-9\">\n",
       "<path style=\"stroke:none;\" d=\"M 0.703125 -7.53125 L 1.625 -7.53125 L 1.625 0 L 0.703125 0 Z M 0.703125 -7.53125 \"/>\n",
       "</symbol>\n",
       "</g>\n",
       "</defs>\n",
       "<g id=\"surface1653\">\n",
       "<g style=\"fill:rgb(100%,100%,100%);fill-opacity:1;\">\n",
       "  <use xlink:href=\"#glyph0-1\" x=\"7.5\" y=\"7.5\"/>\n",
       "  <use xlink:href=\"#glyph0-2\" x=\"13.3396\" y=\"7.5\"/>\n",
       "  <use xlink:href=\"#glyph0-3\" x=\"18.5896\" y=\"7.5\"/>\n",
       "  <use xlink:href=\"#glyph0-4\" x=\"24.429199\" y=\"7.5\"/>\n",
       "  <use xlink:href=\"#glyph0-5\" x=\"27.346436\" y=\"7.5\"/>\n",
       "  <use xlink:href=\"#glyph0-1\" x=\"33.186035\" y=\"7.5\"/>\n",
       "  <use xlink:href=\"#glyph0-6\" x=\"39.025635\" y=\"7.5\"/>\n",
       "  <use xlink:href=\"#glyph0-2\" x=\"41.358398\" y=\"7.5\"/>\n",
       "  <use xlink:href=\"#glyph0-7\" x=\"46.608398\" y=\"7.5\"/>\n",
       "  <use xlink:href=\"#glyph0-4\" x=\"52.447998\" y=\"7.5\"/>\n",
       "  <use xlink:href=\"#glyph0-1\" x=\"55.365234\" y=\"7.5\"/>\n",
       "  <use xlink:href=\"#glyph0-5\" x=\"61.204834\" y=\"7.5\"/>\n",
       "  <use xlink:href=\"#glyph0-6\" x=\"67.044434\" y=\"7.5\"/>\n",
       "  <use xlink:href=\"#glyph0-2\" x=\"69.377197\" y=\"7.5\"/>\n",
       "  <use xlink:href=\"#glyph0-4\" x=\"74.627197\" y=\"7.5\"/>\n",
       "  <use xlink:href=\"#glyph0-3\" x=\"77.544434\" y=\"7.5\"/>\n",
       "  <use xlink:href=\"#glyph0-8\" x=\"83.384033\" y=\"7.5\"/>\n",
       "  <use xlink:href=\"#glyph0-5\" x=\"85.716797\" y=\"7.5\"/>\n",
       "  <use xlink:href=\"#glyph0-1\" x=\"91.556396\" y=\"7.5\"/>\n",
       "  <use xlink:href=\"#glyph0-6\" x=\"97.395996\" y=\"7.5\"/>\n",
       "  <use xlink:href=\"#glyph0-2\" x=\"99.72876\" y=\"7.5\"/>\n",
       "  <use xlink:href=\"#glyph0-8\" x=\"104.97876\" y=\"7.5\"/>\n",
       "  <use xlink:href=\"#glyph0-4\" x=\"107.311523\" y=\"7.5\"/>\n",
       "  <use xlink:href=\"#glyph0-3\" x=\"110.22876\" y=\"7.5\"/>\n",
       "  <use xlink:href=\"#glyph0-9\" x=\"116.068359\" y=\"7.5\"/>\n",
       "  <use xlink:href=\"#glyph0-1\" x=\"118.401123\" y=\"7.5\"/>\n",
       "  <use xlink:href=\"#glyph0-2\" x=\"124.240723\" y=\"7.5\"/>\n",
       "  <use xlink:href=\"#glyph0-8\" x=\"129.490723\" y=\"7.5\"/>\n",
       "  <use xlink:href=\"#glyph0-3\" x=\"131.823486\" y=\"7.5\"/>\n",
       "  <use xlink:href=\"#glyph0-4\" x=\"137.663086\" y=\"7.5\"/>\n",
       "  <use xlink:href=\"#glyph0-6\" x=\"140.580322\" y=\"7.5\"/>\n",
       "  <use xlink:href=\"#glyph0-1\" x=\"142.913086\" y=\"7.5\"/>\n",
       "  <use xlink:href=\"#glyph0-5\" x=\"148.752686\" y=\"7.5\"/>\n",
       "  <use xlink:href=\"#glyph0-2\" x=\"154.592285\" y=\"7.5\"/>\n",
       "  <use xlink:href=\"#glyph0-8\" x=\"159.842285\" y=\"7.5\"/>\n",
       "  <use xlink:href=\"#glyph0-4\" x=\"162.175049\" y=\"7.5\"/>\n",
       "  <use xlink:href=\"#glyph0-1\" x=\"165.092285\" y=\"7.5\"/>\n",
       "  <use xlink:href=\"#glyph0-9\" x=\"170.931885\" y=\"7.5\"/>\n",
       "  <use xlink:href=\"#glyph0-2\" x=\"173.264648\" y=\"7.5\"/>\n",
       "  <use xlink:href=\"#glyph0-3\" x=\"178.514648\" y=\"7.5\"/>\n",
       "  <use xlink:href=\"#glyph0-8\" x=\"184.354248\" y=\"7.5\"/>\n",
       "  <use xlink:href=\"#glyph0-4\" x=\"186.687012\" y=\"7.5\"/>\n",
       "  <use xlink:href=\"#glyph0-1\" x=\"189.604248\" y=\"7.5\"/>\n",
       "</g>\n",
       "</g>\n",
       "</svg>"
      ],
      "text/plain": [
       "<IPython.core.display.SVG object>"
      ]
     },
     "execution_count": 585,
     "metadata": {},
     "output_type": "execute_result"
    }
   ],
   "source": [
    "svg = draw_triangle_numbers(10)\n",
    "IPython.display.SVG(data=svg.getvalue())"
   ]
  },
  {
   "cell_type": "code",
   "execution_count": null,
   "metadata": {},
   "outputs": [],
   "source": []
  }
 ],
 "metadata": {
  "kernelspec": {
   "display_name": "Python 3",
   "language": "python",
   "name": "python3"
  },
  "language_info": {
   "codemirror_mode": {
    "name": "ipython",
    "version": 3
   },
   "file_extension": ".py",
   "mimetype": "text/x-python",
   "name": "python",
   "nbconvert_exporter": "python",
   "pygments_lexer": "ipython3",
   "version": "3.9.0"
  }
 },
 "nbformat": 4,
 "nbformat_minor": 4
}

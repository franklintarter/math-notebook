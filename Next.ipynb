{
 "cells": [
  {
   "cell_type": "code",
   "execution_count": 1,
   "metadata": {},
   "outputs": [
    {
     "data": {
      "image/svg+xml": [
       "<svg xmlns=\"http://www.w3.org/2000/svg\" xmlns:xlink=\"http://www.w3.org/1999/xlink\" width=\"200pt\" height=\"200pt\" viewBox=\"0 0 200 200\" version=\"1.1\">\n",
       "<g id=\"surface1\">\n",
       "<path style=\"fill:none;stroke-width:0.04;stroke-linecap:butt;stroke-linejoin:miter;stroke:rgb(0%,0%,0%);stroke-opacity:1;stroke-miterlimit:10;\" d=\"M 0.1 0.5 C 0.4 0.9 0.6 0.1 0.9 0.5 \" transform=\"matrix(200,0,0,200,0,0)\"/>\n",
       "<path style=\"fill:none;stroke-width:0.02;stroke-linecap:butt;stroke-linejoin:miter;stroke:rgb(100%,20%,20%);stroke-opacity:0.6;stroke-miterlimit:10;\" d=\"M 0.1 0.5 L 0.4 0.9 M 0.6 0.1 L 0.9 0.5 \" transform=\"matrix(200,0,0,200,0,0)\"/>\n",
       "</g>\n",
       "</svg>"
      ],
      "text/plain": [
       "<IPython.core.display.SVG object>"
      ]
     },
     "execution_count": 1,
     "metadata": {},
     "output_type": "execute_result"
    }
   ],
   "source": [
    "from io import BytesIO\n",
    "\n",
    "import cairo\n",
    "import IPython.display\n",
    "\n",
    "svgio = BytesIO()\n",
    "with cairo.SVGSurface(svgio, 200, 200) as surface:\n",
    "    # These lines are copied verbatim from the\n",
    "    # pycairo page: https://pycairo.readthedocs.io\n",
    "    context = cairo.Context(surface)\n",
    "    x, y, x1, y1 = 0.1, 0.5, 0.4, 0.9\n",
    "    x2, y2, x3, y3 = 0.6, 0.1, 0.9, 0.5\n",
    "    context.scale(200, 200)\n",
    "    context.set_line_width(0.04)\n",
    "    context.move_to(x, y)\n",
    "    context.curve_to(x1, y1, x2, y2, x3, y3)\n",
    "    context.stroke()\n",
    "    context.set_source_rgba(1, 0.2, 0.2, 0.6)\n",
    "    context.set_line_width(0.02)\n",
    "    context.move_to(x, y)\n",
    "    context.line_to(x1, y1)\n",
    "    context.move_to(x2, y2)\n",
    "    context.line_to(x3, y3)\n",
    "    context.stroke()\n",
    "    # end of pycairo copy\n",
    "IPython.display.SVG(data=svgio.getvalue())"
   ]
  },
  {
   "cell_type": "code",
   "execution_count": 26,
   "metadata": {},
   "outputs": [],
   "source": [
    "def circle(ctx, xparam, yparam):\n",
    "    x, y, x1, y1 = xparam, yparam, 0.4, 0.9\n",
    "    x2, y2, x3, y3 = 0.6, 0.1, 0.9, 0.5\n",
    "#     ctx.scale(200, 200)\n",
    "#     ctx.set_line_width(0.04)\n",
    "#     ctx.move_to(x, y)\n",
    "    ctx.curve_to(x1, y1, x2, y2, x3, y3)\n",
    "    ctx.stroke()\n",
    "    ctx.set_source_rgba(1, 0.2, 0.2, 0.6)\n",
    "    ctx.set_line_width(0.02)\n",
    "    ctx.move_to(x, y)\n",
    "    ctx.line_to(x1, y1)\n",
    "    ctx.move_to(x2, y2)\n",
    "    ctx.line_to(x3, y3)\n",
    "    ctx.stroke()"
   ]
  },
  {
   "cell_type": "code",
   "execution_count": 31,
   "metadata": {},
   "outputs": [
    {
     "data": {
      "image/svg+xml": [
       "<svg xmlns=\"http://www.w3.org/2000/svg\" xmlns:xlink=\"http://www.w3.org/1999/xlink\" width=\"200pt\" height=\"200pt\" viewBox=\"0 0 200 200\" version=\"1.1\">\n",
       "<g id=\"surface106\">\n",
       "<path style=\"fill:none;stroke-width:0.04;stroke-linecap:butt;stroke-linejoin:miter;stroke:rgb(0%,0%,0%);stroke-opacity:1;stroke-miterlimit:10;\" d=\"M 0.1 0.5 C 0.4 0.9 0.6 0.1 0.9 0.5 \" transform=\"matrix(200,0,0,200,0,0)\"/>\n",
       "<path style=\"fill:none;stroke-width:0.02;stroke-linecap:butt;stroke-linejoin:miter;stroke:rgb(100%,20%,20%);stroke-opacity:0.6;stroke-miterlimit:10;\" d=\"M 0.1 0.5 L 0.4 0.9 M 0.6 0.1 L 0.9 0.5 \" transform=\"matrix(200,0,0,200,0,0)\"/>\n",
       "<path style=\"fill:none;stroke-width:0.02;stroke-linecap:butt;stroke-linejoin:miter;stroke:rgb(100%,20%,20%);stroke-opacity:0.6;stroke-miterlimit:10;\" d=\"M 0.4 0.9 C 0.4 0.9 0.6 0.1 0.9 0.5 \" transform=\"matrix(200,0,0,200,0,0)\"/>\n",
       "<path style=\"fill:none;stroke-width:0.02;stroke-linecap:butt;stroke-linejoin:miter;stroke:rgb(100%,20%,20%);stroke-opacity:0.6;stroke-miterlimit:10;\" d=\"M 2 3.9 L 0.4 0.9 M 0.6 0.1 L 0.9 0.5 \" transform=\"matrix(200,0,0,200,0,0)\"/>\n",
       "</g>\n",
       "</svg>"
      ],
      "text/plain": [
       "<IPython.core.display.SVG object>"
      ]
     },
     "execution_count": 31,
     "metadata": {},
     "output_type": "execute_result"
    }
   ],
   "source": [
    "svgio = BytesIO()\n",
    "\n",
    "with cairo.SVGSurface(svgio, 200, 200) as surface:\n",
    "    ctx = cairo.Context(surface)\n",
    "    ctx.scale(200, 200)\n",
    "    ctx.set_line_width(0.04)\n",
    "    ctx.move_to(x, y)\n",
    "    \n",
    "    circle(ctx, 0.1, 0.5)\n",
    "    circle(ctx, 2, 3.9)\n",
    "\n",
    "IPython.display.SVG(data=svgio.getvalue())"
   ]
  },
  {
   "cell_type": "code",
   "execution_count": null,
   "metadata": {},
   "outputs": [],
   "source": []
  }
 ],
 "metadata": {
  "kernelspec": {
   "display_name": "Python 3",
   "language": "python",
   "name": "python3"
  },
  "language_info": {
   "codemirror_mode": {
    "name": "ipython",
    "version": 3
   },
   "file_extension": ".py",
   "mimetype": "text/x-python",
   "name": "python",
   "nbconvert_exporter": "python",
   "pygments_lexer": "ipython3",
   "version": "3.9.0"
  }
 },
 "nbformat": 4,
 "nbformat_minor": 4
}
